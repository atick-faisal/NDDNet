{
 "cells": [
  {
   "cell_type": "code",
   "execution_count": 1,
   "metadata": {},
   "outputs": [],
   "source": [
    "import os\n",
    "import glob\n",
    "import tsfel\n",
    "import numpy as np\n",
    "import pandas as pd\n",
    "import matplotlib.pyplot as plt\n",
    "\n",
    "from wfdb import rdsamp\n",
    "from rich.progress import track\n",
    "from sklearn.utils import shuffle\n",
    "\n",
    "from typing import Tuple, List\n",
    "from numpy.typing import NDArray\n",
    "from dataclasses import dataclass\n",
    "\n",
    "from sklearn.svm import SVC\n",
    "from sklearn.linear_model import LogisticRegression\n",
    "from sklearn.ensemble import RandomForestClassifier\n",
    "from sklearn.metrics import accuracy_score, precision_score, recall_score, f1_score"
   ]
  },
  {
   "cell_type": "markdown",
   "metadata": {},
   "source": [
    "# Configuration\n"
   ]
  },
  {
   "cell_type": "code",
   "execution_count": 2,
   "metadata": {},
   "outputs": [],
   "source": [
    "DATA_DIR = \"../data/dataset/\"\n",
    "FS = 300\n",
    "SEGMENT_LEN = 512\n",
    "DISEASE = \"park\"\n"
   ]
  },
  {
   "cell_type": "markdown",
   "metadata": {},
   "source": [
    "# Subject Description\n"
   ]
  },
  {
   "cell_type": "code",
   "execution_count": 3,
   "metadata": {},
   "outputs": [
    {
     "data": {
      "text/html": [
       "<div>\n",
       "<style scoped>\n",
       "    .dataframe tbody tr th:only-of-type {\n",
       "        vertical-align: middle;\n",
       "    }\n",
       "\n",
       "    .dataframe tbody tr th {\n",
       "        vertical-align: top;\n",
       "    }\n",
       "\n",
       "    .dataframe thead th {\n",
       "        text-align: right;\n",
       "    }\n",
       "</style>\n",
       "<table border=\"1\" class=\"dataframe\">\n",
       "  <thead>\n",
       "    <tr style=\"text-align: right;\">\n",
       "      <th></th>\n",
       "      <th>ID</th>\n",
       "      <th>GROUP</th>\n",
       "      <th>AGE(YRS)</th>\n",
       "      <th>HEIGHT(meters)</th>\n",
       "      <th>Weight(kg)</th>\n",
       "      <th>gender</th>\n",
       "      <th>GaitSpeed(m/sec)</th>\n",
       "      <th>Duration/Severity</th>\n",
       "    </tr>\n",
       "  </thead>\n",
       "  <tbody>\n",
       "    <tr>\n",
       "      <th>0</th>\n",
       "      <td>control1</td>\n",
       "      <td>control</td>\n",
       "      <td>57</td>\n",
       "      <td>1.94</td>\n",
       "      <td>95.00</td>\n",
       "      <td>f</td>\n",
       "      <td>1.330</td>\n",
       "      <td>0.0</td>\n",
       "    </tr>\n",
       "    <tr>\n",
       "      <th>1</th>\n",
       "      <td>control2</td>\n",
       "      <td>control</td>\n",
       "      <td>22</td>\n",
       "      <td>1.94</td>\n",
       "      <td>70.00</td>\n",
       "      <td>m</td>\n",
       "      <td>1.470</td>\n",
       "      <td>0.0</td>\n",
       "    </tr>\n",
       "    <tr>\n",
       "      <th>2</th>\n",
       "      <td>control3</td>\n",
       "      <td>control</td>\n",
       "      <td>23</td>\n",
       "      <td>1.83</td>\n",
       "      <td>66.00</td>\n",
       "      <td>f</td>\n",
       "      <td>1.440</td>\n",
       "      <td>0.0</td>\n",
       "    </tr>\n",
       "    <tr>\n",
       "      <th>3</th>\n",
       "      <td>control4</td>\n",
       "      <td>control</td>\n",
       "      <td>52</td>\n",
       "      <td>1.78</td>\n",
       "      <td>73.00</td>\n",
       "      <td>f</td>\n",
       "      <td>1.540</td>\n",
       "      <td>0.0</td>\n",
       "    </tr>\n",
       "    <tr>\n",
       "      <th>4</th>\n",
       "      <td>control5</td>\n",
       "      <td>control</td>\n",
       "      <td>47</td>\n",
       "      <td>1.94</td>\n",
       "      <td>82.00</td>\n",
       "      <td>f</td>\n",
       "      <td>1.540</td>\n",
       "      <td>0.0</td>\n",
       "    </tr>\n",
       "    <tr>\n",
       "      <th>...</th>\n",
       "      <td>...</td>\n",
       "      <td>...</td>\n",
       "      <td>...</td>\n",
       "      <td>...</td>\n",
       "      <td>...</td>\n",
       "      <td>...</td>\n",
       "      <td>...</td>\n",
       "      <td>...</td>\n",
       "    </tr>\n",
       "    <tr>\n",
       "      <th>59</th>\n",
       "      <td>als9</td>\n",
       "      <td>subjects</td>\n",
       "      <td>50</td>\n",
       "      <td>1.58</td>\n",
       "      <td>61.24</td>\n",
       "      <td>m</td>\n",
       "      <td>0.899</td>\n",
       "      <td>54.0</td>\n",
       "    </tr>\n",
       "    <tr>\n",
       "      <th>60</th>\n",
       "      <td>als10</td>\n",
       "      <td>subjects</td>\n",
       "      <td>40</td>\n",
       "      <td>1.70</td>\n",
       "      <td>61.24</td>\n",
       "      <td>f</td>\n",
       "      <td>1.219</td>\n",
       "      <td>14.5</td>\n",
       "    </tr>\n",
       "    <tr>\n",
       "      <th>61</th>\n",
       "      <td>als11</td>\n",
       "      <td>subjects</td>\n",
       "      <td>39</td>\n",
       "      <td>1.88</td>\n",
       "      <td>83.92</td>\n",
       "      <td>m</td>\n",
       "      <td>1.283</td>\n",
       "      <td>7.0</td>\n",
       "    </tr>\n",
       "    <tr>\n",
       "      <th>62</th>\n",
       "      <td>als12</td>\n",
       "      <td>subjects</td>\n",
       "      <td>62</td>\n",
       "      <td>1.78</td>\n",
       "      <td>117.50</td>\n",
       "      <td>m</td>\n",
       "      <td>0.831</td>\n",
       "      <td>12.0</td>\n",
       "    </tr>\n",
       "    <tr>\n",
       "      <th>63</th>\n",
       "      <td>als13</td>\n",
       "      <td>subjects</td>\n",
       "      <td>66</td>\n",
       "      <td>1.83</td>\n",
       "      <td>117.50</td>\n",
       "      <td>m</td>\n",
       "      <td>0.832</td>\n",
       "      <td>34.0</td>\n",
       "    </tr>\n",
       "  </tbody>\n",
       "</table>\n",
       "<p>64 rows × 8 columns</p>\n",
       "</div>"
      ],
      "text/plain": [
       "          ID     GROUP  AGE(YRS)  HEIGHT(meters)  Weight(kg) gender  \\\n",
       "0   control1   control        57            1.94       95.00      f   \n",
       "1   control2   control        22            1.94       70.00      m   \n",
       "2   control3   control        23            1.83       66.00      f   \n",
       "3   control4   control        52            1.78       73.00      f   \n",
       "4   control5   control        47            1.94       82.00      f   \n",
       "..       ...       ...       ...             ...         ...    ...   \n",
       "59      als9  subjects        50            1.58       61.24      m   \n",
       "60     als10  subjects        40            1.70       61.24      f   \n",
       "61     als11  subjects        39            1.88       83.92      m   \n",
       "62     als12  subjects        62            1.78      117.50      m   \n",
       "63     als13  subjects        66            1.83      117.50      m   \n",
       "\n",
       "    GaitSpeed(m/sec)  Duration/Severity  \n",
       "0              1.330                0.0  \n",
       "1              1.470                0.0  \n",
       "2              1.440                0.0  \n",
       "3              1.540                0.0  \n",
       "4              1.540                0.0  \n",
       "..               ...                ...  \n",
       "59             0.899               54.0  \n",
       "60             1.219               14.5  \n",
       "61             1.283                7.0  \n",
       "62             0.831               12.0  \n",
       "63             0.832               34.0  \n",
       "\n",
       "[64 rows x 8 columns]"
      ]
     },
     "execution_count": 3,
     "metadata": {},
     "output_type": "execute_result"
    }
   ],
   "source": [
    "subject_description = pd.read_csv(\n",
    "    os.path.join(DATA_DIR, \"subject-description.csv\")\n",
    ")\n",
    "\n",
    "subject_description\n"
   ]
  },
  {
   "cell_type": "markdown",
   "metadata": {},
   "source": [
    "# Utils"
   ]
  },
  {
   "cell_type": "code",
   "execution_count": 4,
   "metadata": {},
   "outputs": [],
   "source": [
    "@dataclass\n",
    "class Scaler:\n",
    "    min: float\n",
    "    max: float\n",
    "    mean: float\n",
    "    std: float\n",
    "\n",
    "\n",
    "def normalize(\n",
    "    x: NDArray[np.float32],\n",
    "    scaler: Scaler = None\n",
    ") -> Tuple[NDArray[np.float32], Scaler]:\n",
    "    if scaler == None:\n",
    "        scaler = Scaler(\n",
    "            min=np.min(x, axis=0),\n",
    "            max=np.max(x, axis=0),\n",
    "            mean=np.mean(x, axis=0),\n",
    "            std=np.std(x, axis=0)\n",
    "        )\n",
    "\n",
    "    z_score = (x - scaler.mean) / scaler.std\n",
    "    return (z_score - scaler.min) / (scaler.max - scaler.min), scaler\n",
    "\n",
    "\n",
    "def get_file_and_ids(disease: str) -> Tuple[List[str], List[str]]:\n",
    "    all_files = sorted(glob.glob(os.path.join(DATA_DIR, \"*hea\")))\n",
    "    files = []\n",
    "    subject_ids = []\n",
    "\n",
    "    for filename in all_files:\n",
    "        if filename.find(\"control\") != -1 or filename.find(disease) != -1:\n",
    "            files.append(filename)\n",
    "            subject_ids.append(((filename.split(\"/\"))[-1])[:-4])\n",
    "\n",
    "    return files, subject_ids\n",
    "\n",
    "\n",
    "def get_demographic_features(subject_description: pd.Series) -> NDArray[np.float32]:\n",
    "    age = subject_description[\"AGE(YRS)\"]\n",
    "    weight = subject_description[\"Weight(kg)\"]\n",
    "    height = subject_description[\"HEIGHT(meters)\"]\n",
    "    gender = 0 if subject_description[\"gender\"] == \"m\" else 1\n",
    "    speed = subject_description[\"GaitSpeed(m/sec)\"]\n",
    "\n",
    "    return np.array([age, weight, height, gender, speed])\n"
   ]
  },
  {
   "cell_type": "code",
   "execution_count": 5,
   "metadata": {},
   "outputs": [],
   "source": [
    "def get_train_test_sets(\n",
    "    test_subject: str,\n",
    "    data_files: List[str],\n",
    "    subject_ids: List[str]\n",
    ") -> Tuple[\n",
    "    NDArray[np.float32],\n",
    "    NDArray[np.uint8],\n",
    "    NDArray[np.float32],\n",
    "    NDArray[np.uint8],\n",
    "]:\n",
    "    train_segments = []\n",
    "    test_segments = []\n",
    "    train_labels = []\n",
    "    test_labels = []\n",
    "\n",
    "    cfg = tsfel.get_features_by_domain(\"statistical\")\n",
    "\n",
    "    for filename, subject_id in zip(data_files, subject_ids):\n",
    "        ts = np.loadtxt(filename[:-4] + \".ts\", dtype=np.float32)\n",
    "        demographics = subject_description[subject_description[\"ID\"]\n",
    "                                           == subject_id].iloc[0]\n",
    "\n",
    "        ts_features = np.mean(ts[:, 1:], axis=0, dtype=np.float32)\n",
    "        ts_features = tsfel.time_series_features_extractor(\n",
    "            cfg,\n",
    "            ts[:, 1:],\n",
    "            fs=1,\n",
    "            window_size=ts.shape[0],\n",
    "            verbose=0\n",
    "        ).to_numpy().ravel()\n",
    "\n",
    "        print(ts_features.shape)\n",
    "\n",
    "        dg_features = get_demographic_features(demographics)\n",
    "        features = np.concatenate([ts_features, dg_features], axis=0)\n",
    "        label = 0 if \"control\" in subject_id else 1\n",
    "\n",
    "        if test_subject == subject_id:\n",
    "            test_segments.append(features)\n",
    "            test_labels.append(label)\n",
    "        else:\n",
    "            train_segments.append(features)\n",
    "            train_labels.append(label)\n",
    "\n",
    "    train_x = np.array(train_segments, dtype=np.float32)\n",
    "    train_y = np.array(train_labels, dtype=np.uint8)\n",
    "    test_x = np.array(test_segments, dtype=np.float32)\n",
    "    test_y = np.array(test_labels, dtype=np.uint8)\n",
    "\n",
    "    train_x, scaler = normalize(train_x)\n",
    "    test_x, _ = normalize(test_x, scaler)\n",
    "\n",
    "    train_x = np.nan_to_num(train_x)\n",
    "    test_x = np.nan_to_num(test_x)\n",
    "\n",
    "    train_x, train_y = shuffle(train_x, train_y, random_state=42)\n",
    "\n",
    "    return train_x, train_y, test_x, test_y\n"
   ]
  },
  {
   "cell_type": "markdown",
   "metadata": {},
   "source": [
    "# Training"
   ]
  },
  {
   "cell_type": "code",
   "execution_count": 6,
   "metadata": {},
   "outputs": [
    {
     "data": {
      "text/html": [
       "\n",
       "              <p>\n",
       "                  Progress: 0% Complete\n",
       "              <p/>            \n",
       "              <progress\n",
       "                  value='0'\n",
       "                  max='1',\n",
       "                  style='width: 25%',\n",
       "              >\n",
       "                  0\n",
       "              </progress>\n",
       "\n",
       "    "
      ],
      "text/plain": [
       "<IPython.core.display.HTML object>"
      ]
     },
     "metadata": {},
     "output_type": "display_data"
    },
    {
     "name": "stdout",
     "output_type": "stream",
     "text": [
      "(432,)\n"
     ]
    },
    {
     "data": {
      "text/html": [
       "\n",
       "              <p>\n",
       "                  Progress: 0% Complete\n",
       "              <p/>            \n",
       "              <progress\n",
       "                  value='0'\n",
       "                  max='1',\n",
       "                  style='width: 25%',\n",
       "              >\n",
       "                  0\n",
       "              </progress>\n",
       "\n",
       "    "
      ],
      "text/plain": [
       "<IPython.core.display.HTML object>"
      ]
     },
     "metadata": {},
     "output_type": "display_data"
    },
    {
     "name": "stdout",
     "output_type": "stream",
     "text": [
      "(432,)\n"
     ]
    },
    {
     "data": {
      "text/html": [
       "\n",
       "              <p>\n",
       "                  Progress: 0% Complete\n",
       "              <p/>            \n",
       "              <progress\n",
       "                  value='0'\n",
       "                  max='1',\n",
       "                  style='width: 25%',\n",
       "              >\n",
       "                  0\n",
       "              </progress>\n",
       "\n",
       "    "
      ],
      "text/plain": [
       "<IPython.core.display.HTML object>"
      ]
     },
     "metadata": {},
     "output_type": "display_data"
    },
    {
     "name": "stdout",
     "output_type": "stream",
     "text": [
      "(432,)\n"
     ]
    },
    {
     "data": {
      "text/html": [
       "\n",
       "              <p>\n",
       "                  Progress: 0% Complete\n",
       "              <p/>            \n",
       "              <progress\n",
       "                  value='0'\n",
       "                  max='1',\n",
       "                  style='width: 25%',\n",
       "              >\n",
       "                  0\n",
       "              </progress>\n",
       "\n",
       "    "
      ],
      "text/plain": [
       "<IPython.core.display.HTML object>"
      ]
     },
     "metadata": {},
     "output_type": "display_data"
    },
    {
     "name": "stdout",
     "output_type": "stream",
     "text": [
      "(432,)\n"
     ]
    },
    {
     "data": {
      "text/html": [
       "\n",
       "              <p>\n",
       "                  Progress: 0% Complete\n",
       "              <p/>            \n",
       "              <progress\n",
       "                  value='0'\n",
       "                  max='1',\n",
       "                  style='width: 25%',\n",
       "              >\n",
       "                  0\n",
       "              </progress>\n",
       "\n",
       "    "
      ],
      "text/plain": [
       "<IPython.core.display.HTML object>"
      ]
     },
     "metadata": {},
     "output_type": "display_data"
    },
    {
     "name": "stdout",
     "output_type": "stream",
     "text": [
      "(432,)\n"
     ]
    },
    {
     "data": {
      "text/html": [
       "\n",
       "              <p>\n",
       "                  Progress: 0% Complete\n",
       "              <p/>            \n",
       "              <progress\n",
       "                  value='0'\n",
       "                  max='1',\n",
       "                  style='width: 25%',\n",
       "              >\n",
       "                  0\n",
       "              </progress>\n",
       "\n",
       "    "
      ],
      "text/plain": [
       "<IPython.core.display.HTML object>"
      ]
     },
     "metadata": {},
     "output_type": "display_data"
    },
    {
     "name": "stdout",
     "output_type": "stream",
     "text": [
      "(432,)\n"
     ]
    },
    {
     "data": {
      "text/html": [
       "\n",
       "              <p>\n",
       "                  Progress: 0% Complete\n",
       "              <p/>            \n",
       "              <progress\n",
       "                  value='0'\n",
       "                  max='1',\n",
       "                  style='width: 25%',\n",
       "              >\n",
       "                  0\n",
       "              </progress>\n",
       "\n",
       "    "
      ],
      "text/plain": [
       "<IPython.core.display.HTML object>"
      ]
     },
     "metadata": {},
     "output_type": "display_data"
    },
    {
     "name": "stdout",
     "output_type": "stream",
     "text": [
      "(432,)\n"
     ]
    },
    {
     "data": {
      "text/html": [
       "\n",
       "              <p>\n",
       "                  Progress: 0% Complete\n",
       "              <p/>            \n",
       "              <progress\n",
       "                  value='0'\n",
       "                  max='1',\n",
       "                  style='width: 25%',\n",
       "              >\n",
       "                  0\n",
       "              </progress>\n",
       "\n",
       "    "
      ],
      "text/plain": [
       "<IPython.core.display.HTML object>"
      ]
     },
     "metadata": {},
     "output_type": "display_data"
    },
    {
     "name": "stdout",
     "output_type": "stream",
     "text": [
      "(432,)\n"
     ]
    },
    {
     "data": {
      "text/html": [
       "\n",
       "              <p>\n",
       "                  Progress: 0% Complete\n",
       "              <p/>            \n",
       "              <progress\n",
       "                  value='0'\n",
       "                  max='1',\n",
       "                  style='width: 25%',\n",
       "              >\n",
       "                  0\n",
       "              </progress>\n",
       "\n",
       "    "
      ],
      "text/plain": [
       "<IPython.core.display.HTML object>"
      ]
     },
     "metadata": {},
     "output_type": "display_data"
    },
    {
     "name": "stdout",
     "output_type": "stream",
     "text": [
      "(432,)\n"
     ]
    },
    {
     "data": {
      "text/html": [
       "\n",
       "              <p>\n",
       "                  Progress: 0% Complete\n",
       "              <p/>            \n",
       "              <progress\n",
       "                  value='0'\n",
       "                  max='1',\n",
       "                  style='width: 25%',\n",
       "              >\n",
       "                  0\n",
       "              </progress>\n",
       "\n",
       "    "
      ],
      "text/plain": [
       "<IPython.core.display.HTML object>"
      ]
     },
     "metadata": {},
     "output_type": "display_data"
    },
    {
     "name": "stdout",
     "output_type": "stream",
     "text": [
      "(432,)\n"
     ]
    },
    {
     "data": {
      "text/html": [
       "\n",
       "              <p>\n",
       "                  Progress: 0% Complete\n",
       "              <p/>            \n",
       "              <progress\n",
       "                  value='0'\n",
       "                  max='1',\n",
       "                  style='width: 25%',\n",
       "              >\n",
       "                  0\n",
       "              </progress>\n",
       "\n",
       "    "
      ],
      "text/plain": [
       "<IPython.core.display.HTML object>"
      ]
     },
     "metadata": {},
     "output_type": "display_data"
    },
    {
     "name": "stdout",
     "output_type": "stream",
     "text": [
      "(432,)\n"
     ]
    },
    {
     "data": {
      "text/html": [
       "\n",
       "              <p>\n",
       "                  Progress: 0% Complete\n",
       "              <p/>            \n",
       "              <progress\n",
       "                  value='0'\n",
       "                  max='1',\n",
       "                  style='width: 25%',\n",
       "              >\n",
       "                  0\n",
       "              </progress>\n",
       "\n",
       "    "
      ],
      "text/plain": [
       "<IPython.core.display.HTML object>"
      ]
     },
     "metadata": {},
     "output_type": "display_data"
    },
    {
     "name": "stdout",
     "output_type": "stream",
     "text": [
      "(432,)\n"
     ]
    },
    {
     "data": {
      "text/html": [
       "\n",
       "              <p>\n",
       "                  Progress: 0% Complete\n",
       "              <p/>            \n",
       "              <progress\n",
       "                  value='0'\n",
       "                  max='1',\n",
       "                  style='width: 25%',\n",
       "              >\n",
       "                  0\n",
       "              </progress>\n",
       "\n",
       "    "
      ],
      "text/plain": [
       "<IPython.core.display.HTML object>"
      ]
     },
     "metadata": {},
     "output_type": "display_data"
    },
    {
     "name": "stdout",
     "output_type": "stream",
     "text": [
      "(432,)\n"
     ]
    },
    {
     "data": {
      "text/html": [
       "\n",
       "              <p>\n",
       "                  Progress: 0% Complete\n",
       "              <p/>            \n",
       "              <progress\n",
       "                  value='0'\n",
       "                  max='1',\n",
       "                  style='width: 25%',\n",
       "              >\n",
       "                  0\n",
       "              </progress>\n",
       "\n",
       "    "
      ],
      "text/plain": [
       "<IPython.core.display.HTML object>"
      ]
     },
     "metadata": {},
     "output_type": "display_data"
    },
    {
     "name": "stdout",
     "output_type": "stream",
     "text": [
      "(432,)\n"
     ]
    },
    {
     "data": {
      "text/html": [
       "\n",
       "              <p>\n",
       "                  Progress: 0% Complete\n",
       "              <p/>            \n",
       "              <progress\n",
       "                  value='0'\n",
       "                  max='1',\n",
       "                  style='width: 25%',\n",
       "              >\n",
       "                  0\n",
       "              </progress>\n",
       "\n",
       "    "
      ],
      "text/plain": [
       "<IPython.core.display.HTML object>"
      ]
     },
     "metadata": {},
     "output_type": "display_data"
    },
    {
     "name": "stdout",
     "output_type": "stream",
     "text": [
      "(432,)\n"
     ]
    },
    {
     "data": {
      "text/html": [
       "\n",
       "              <p>\n",
       "                  Progress: 0% Complete\n",
       "              <p/>            \n",
       "              <progress\n",
       "                  value='0'\n",
       "                  max='1',\n",
       "                  style='width: 25%',\n",
       "              >\n",
       "                  0\n",
       "              </progress>\n",
       "\n",
       "    "
      ],
      "text/plain": [
       "<IPython.core.display.HTML object>"
      ]
     },
     "metadata": {},
     "output_type": "display_data"
    },
    {
     "name": "stdout",
     "output_type": "stream",
     "text": [
      "(432,)\n"
     ]
    },
    {
     "data": {
      "text/html": [
       "\n",
       "              <p>\n",
       "                  Progress: 0% Complete\n",
       "              <p/>            \n",
       "              <progress\n",
       "                  value='0'\n",
       "                  max='1',\n",
       "                  style='width: 25%',\n",
       "              >\n",
       "                  0\n",
       "              </progress>\n",
       "\n",
       "    "
      ],
      "text/plain": [
       "<IPython.core.display.HTML object>"
      ]
     },
     "metadata": {},
     "output_type": "display_data"
    },
    {
     "name": "stdout",
     "output_type": "stream",
     "text": [
      "(432,)\n"
     ]
    },
    {
     "data": {
      "text/html": [
       "\n",
       "              <p>\n",
       "                  Progress: 0% Complete\n",
       "              <p/>            \n",
       "              <progress\n",
       "                  value='0'\n",
       "                  max='1',\n",
       "                  style='width: 25%',\n",
       "              >\n",
       "                  0\n",
       "              </progress>\n",
       "\n",
       "    "
      ],
      "text/plain": [
       "<IPython.core.display.HTML object>"
      ]
     },
     "metadata": {},
     "output_type": "display_data"
    },
    {
     "name": "stdout",
     "output_type": "stream",
     "text": [
      "(432,)\n"
     ]
    },
    {
     "data": {
      "text/html": [
       "\n",
       "              <p>\n",
       "                  Progress: 0% Complete\n",
       "              <p/>            \n",
       "              <progress\n",
       "                  value='0'\n",
       "                  max='1',\n",
       "                  style='width: 25%',\n",
       "              >\n",
       "                  0\n",
       "              </progress>\n",
       "\n",
       "    "
      ],
      "text/plain": [
       "<IPython.core.display.HTML object>"
      ]
     },
     "metadata": {},
     "output_type": "display_data"
    },
    {
     "name": "stdout",
     "output_type": "stream",
     "text": [
      "(432,)\n"
     ]
    },
    {
     "data": {
      "text/html": [
       "\n",
       "              <p>\n",
       "                  Progress: 0% Complete\n",
       "              <p/>            \n",
       "              <progress\n",
       "                  value='0'\n",
       "                  max='1',\n",
       "                  style='width: 25%',\n",
       "              >\n",
       "                  0\n",
       "              </progress>\n",
       "\n",
       "    "
      ],
      "text/plain": [
       "<IPython.core.display.HTML object>"
      ]
     },
     "metadata": {},
     "output_type": "display_data"
    },
    {
     "name": "stdout",
     "output_type": "stream",
     "text": [
      "(432,)\n"
     ]
    },
    {
     "data": {
      "text/html": [
       "\n",
       "              <p>\n",
       "                  Progress: 0% Complete\n",
       "              <p/>            \n",
       "              <progress\n",
       "                  value='0'\n",
       "                  max='1',\n",
       "                  style='width: 25%',\n",
       "              >\n",
       "                  0\n",
       "              </progress>\n",
       "\n",
       "    "
      ],
      "text/plain": [
       "<IPython.core.display.HTML object>"
      ]
     },
     "metadata": {},
     "output_type": "display_data"
    },
    {
     "name": "stdout",
     "output_type": "stream",
     "text": [
      "(432,)\n"
     ]
    },
    {
     "data": {
      "text/html": [
       "\n",
       "              <p>\n",
       "                  Progress: 0% Complete\n",
       "              <p/>            \n",
       "              <progress\n",
       "                  value='0'\n",
       "                  max='1',\n",
       "                  style='width: 25%',\n",
       "              >\n",
       "                  0\n",
       "              </progress>\n",
       "\n",
       "    "
      ],
      "text/plain": [
       "<IPython.core.display.HTML object>"
      ]
     },
     "metadata": {},
     "output_type": "display_data"
    },
    {
     "name": "stdout",
     "output_type": "stream",
     "text": [
      "(432,)\n"
     ]
    },
    {
     "data": {
      "text/html": [
       "\n",
       "              <p>\n",
       "                  Progress: 0% Complete\n",
       "              <p/>            \n",
       "              <progress\n",
       "                  value='0'\n",
       "                  max='1',\n",
       "                  style='width: 25%',\n",
       "              >\n",
       "                  0\n",
       "              </progress>\n",
       "\n",
       "    "
      ],
      "text/plain": [
       "<IPython.core.display.HTML object>"
      ]
     },
     "metadata": {},
     "output_type": "display_data"
    },
    {
     "name": "stdout",
     "output_type": "stream",
     "text": [
      "(432,)\n"
     ]
    },
    {
     "data": {
      "text/html": [
       "\n",
       "              <p>\n",
       "                  Progress: 0% Complete\n",
       "              <p/>            \n",
       "              <progress\n",
       "                  value='0'\n",
       "                  max='1',\n",
       "                  style='width: 25%',\n",
       "              >\n",
       "                  0\n",
       "              </progress>\n",
       "\n",
       "    "
      ],
      "text/plain": [
       "<IPython.core.display.HTML object>"
      ]
     },
     "metadata": {},
     "output_type": "display_data"
    },
    {
     "name": "stdout",
     "output_type": "stream",
     "text": [
      "(432,)\n"
     ]
    },
    {
     "data": {
      "text/html": [
       "\n",
       "              <p>\n",
       "                  Progress: 0% Complete\n",
       "              <p/>            \n",
       "              <progress\n",
       "                  value='0'\n",
       "                  max='1',\n",
       "                  style='width: 25%',\n",
       "              >\n",
       "                  0\n",
       "              </progress>\n",
       "\n",
       "    "
      ],
      "text/plain": [
       "<IPython.core.display.HTML object>"
      ]
     },
     "metadata": {},
     "output_type": "display_data"
    },
    {
     "name": "stdout",
     "output_type": "stream",
     "text": [
      "(432,)\n"
     ]
    },
    {
     "data": {
      "text/html": [
       "\n",
       "              <p>\n",
       "                  Progress: 0% Complete\n",
       "              <p/>            \n",
       "              <progress\n",
       "                  value='0'\n",
       "                  max='1',\n",
       "                  style='width: 25%',\n",
       "              >\n",
       "                  0\n",
       "              </progress>\n",
       "\n",
       "    "
      ],
      "text/plain": [
       "<IPython.core.display.HTML object>"
      ]
     },
     "metadata": {},
     "output_type": "display_data"
    },
    {
     "name": "stdout",
     "output_type": "stream",
     "text": [
      "(432,)\n"
     ]
    },
    {
     "data": {
      "text/html": [
       "\n",
       "              <p>\n",
       "                  Progress: 0% Complete\n",
       "              <p/>            \n",
       "              <progress\n",
       "                  value='0'\n",
       "                  max='1',\n",
       "                  style='width: 25%',\n",
       "              >\n",
       "                  0\n",
       "              </progress>\n",
       "\n",
       "    "
      ],
      "text/plain": [
       "<IPython.core.display.HTML object>"
      ]
     },
     "metadata": {},
     "output_type": "display_data"
    },
    {
     "name": "stdout",
     "output_type": "stream",
     "text": [
      "(432,)\n"
     ]
    },
    {
     "data": {
      "text/html": [
       "\n",
       "              <p>\n",
       "                  Progress: 0% Complete\n",
       "              <p/>            \n",
       "              <progress\n",
       "                  value='0'\n",
       "                  max='1',\n",
       "                  style='width: 25%',\n",
       "              >\n",
       "                  0\n",
       "              </progress>\n",
       "\n",
       "    "
      ],
      "text/plain": [
       "<IPython.core.display.HTML object>"
      ]
     },
     "metadata": {},
     "output_type": "display_data"
    },
    {
     "name": "stdout",
     "output_type": "stream",
     "text": [
      "(432,)\n"
     ]
    },
    {
     "data": {
      "text/html": [
       "\n",
       "              <p>\n",
       "                  Progress: 0% Complete\n",
       "              <p/>            \n",
       "              <progress\n",
       "                  value='0'\n",
       "                  max='1',\n",
       "                  style='width: 25%',\n",
       "              >\n",
       "                  0\n",
       "              </progress>\n",
       "\n",
       "    "
      ],
      "text/plain": [
       "<IPython.core.display.HTML object>"
      ]
     },
     "metadata": {},
     "output_type": "display_data"
    },
    {
     "name": "stdout",
     "output_type": "stream",
     "text": [
      "(432,)\n"
     ]
    },
    {
     "data": {
      "text/html": [
       "\n",
       "              <p>\n",
       "                  Progress: 0% Complete\n",
       "              <p/>            \n",
       "              <progress\n",
       "                  value='0'\n",
       "                  max='1',\n",
       "                  style='width: 25%',\n",
       "              >\n",
       "                  0\n",
       "              </progress>\n",
       "\n",
       "    "
      ],
      "text/plain": [
       "<IPython.core.display.HTML object>"
      ]
     },
     "metadata": {},
     "output_type": "display_data"
    },
    {
     "name": "stdout",
     "output_type": "stream",
     "text": [
      "(432,)\n"
     ]
    },
    {
     "data": {
      "text/html": [
       "\n",
       "              <p>\n",
       "                  Progress: 0% Complete\n",
       "              <p/>            \n",
       "              <progress\n",
       "                  value='0'\n",
       "                  max='1',\n",
       "                  style='width: 25%',\n",
       "              >\n",
       "                  0\n",
       "              </progress>\n",
       "\n",
       "    "
      ],
      "text/plain": [
       "<IPython.core.display.HTML object>"
      ]
     },
     "metadata": {},
     "output_type": "display_data"
    },
    {
     "name": "stdout",
     "output_type": "stream",
     "text": [
      "(432,)\n",
      "control1   ... 1.00\n",
      "--------------------\n",
      "Accuracy   ... 1.00\n"
     ]
    },
    {
     "name": "stderr",
     "output_type": "stream",
     "text": [
      "/tmp/ipykernel_7010/1379482575.py:21: RuntimeWarning: invalid value encountered in true_divide\n",
      "  z_score = (x - scaler.mean) / scaler.std\n"
     ]
    }
   ],
   "source": [
    "data_files, subject_ids = get_file_and_ids(DISEASE)\n",
    "\n",
    "accuracies = []\n",
    "\n",
    "for test_subject in subject_ids:\n",
    "    train_x, train_y, test_x, test_y = get_train_test_sets(\n",
    "        test_subject=test_subject,\n",
    "        data_files=data_files,\n",
    "        subject_ids=subject_ids\n",
    "    )\n",
    "\n",
    "    clf = SVC(C=10)\n",
    "    clf.fit(train_x, train_y)\n",
    "    pred_y = clf.predict(test_x)\n",
    "    acc = accuracy_score(test_y.ravel(), pred_y.ravel())\n",
    "    accuracies.append(acc)\n",
    "\n",
    "    print(\"{:10s} ... {:.02f}\".format(test_subject, acc))\n",
    "\n",
    "    break\n",
    "\n",
    "mean_acc = np.mean(accuracies, dtype=np.float32)\n",
    "print(\"-\" * 20)\n",
    "print(\"{:10s} ... {:.02f}\".format(\"Accuracy\", mean_acc))\n"
   ]
  },
  {
   "cell_type": "code",
   "execution_count": 7,
   "metadata": {},
   "outputs": [],
   "source": [
    "ts = np.loadtxt(data_files[0][:-4] + \".ts\", dtype=np.float32)"
   ]
  },
  {
   "cell_type": "code",
   "execution_count": null,
   "metadata": {},
   "outputs": [],
   "source": []
  },
  {
   "cell_type": "code",
   "execution_count": 8,
   "metadata": {},
   "outputs": [
    {
     "name": "stdout",
     "output_type": "stream",
     "text": [
      "*** Feature extraction started ***\n"
     ]
    },
    {
     "data": {
      "text/html": [
       "\n",
       "              <p>\n",
       "                  Progress: 100% Complete\n",
       "              <p/>            \n",
       "              <progress\n",
       "                  value='1'\n",
       "                  max='1',\n",
       "                  style='width: 25%',\n",
       "              >\n",
       "                  1\n",
       "              </progress>\n",
       "\n",
       "    "
      ],
      "text/plain": [
       "<IPython.core.display.HTML object>"
      ]
     },
     "metadata": {},
     "output_type": "display_data"
    },
    {
     "name": "stdout",
     "output_type": "stream",
     "text": [
      "\n",
      "*** Feature extraction finished ***\n"
     ]
    },
    {
     "data": {
      "text/html": [
       "<div>\n",
       "<style scoped>\n",
       "    .dataframe tbody tr th:only-of-type {\n",
       "        vertical-align: middle;\n",
       "    }\n",
       "\n",
       "    .dataframe tbody tr th {\n",
       "        vertical-align: top;\n",
       "    }\n",
       "\n",
       "    .dataframe thead th {\n",
       "        text-align: right;\n",
       "    }\n",
       "</style>\n",
       "<table border=\"1\" class=\"dataframe\">\n",
       "  <thead>\n",
       "    <tr style=\"text-align: right;\">\n",
       "      <th></th>\n",
       "      <th>0_Absolute energy</th>\n",
       "      <th>0_Area under the curve</th>\n",
       "      <th>0_Autocorrelation</th>\n",
       "      <th>0_Centroid</th>\n",
       "      <th>0_ECDF Percentile Count_0</th>\n",
       "      <th>0_ECDF Percentile Count_1</th>\n",
       "      <th>0_ECDF Percentile_0</th>\n",
       "      <th>0_ECDF Percentile_1</th>\n",
       "      <th>0_ECDF_0</th>\n",
       "      <th>0_ECDF_1</th>\n",
       "      <th>...</th>\n",
       "      <th>9_Wavelet variance_0</th>\n",
       "      <th>9_Wavelet variance_1</th>\n",
       "      <th>9_Wavelet variance_2</th>\n",
       "      <th>9_Wavelet variance_3</th>\n",
       "      <th>9_Wavelet variance_4</th>\n",
       "      <th>9_Wavelet variance_5</th>\n",
       "      <th>9_Wavelet variance_6</th>\n",
       "      <th>9_Wavelet variance_7</th>\n",
       "      <th>9_Wavelet variance_8</th>\n",
       "      <th>9_Zero crossing rate</th>\n",
       "    </tr>\n",
       "  </thead>\n",
       "  <tbody>\n",
       "    <tr>\n",
       "      <th>0</th>\n",
       "      <td>298.259267</td>\n",
       "      <td>276.68285</td>\n",
       "      <td>298.259267</td>\n",
       "      <td>130.101136</td>\n",
       "      <td>51.0</td>\n",
       "      <td>207.0</td>\n",
       "      <td>1.0433</td>\n",
       "      <td>1.0933</td>\n",
       "      <td>0.003861</td>\n",
       "      <td>0.007722</td>\n",
       "      <td>...</td>\n",
       "      <td>13.460021</td>\n",
       "      <td>45.642551</td>\n",
       "      <td>96.21395</td>\n",
       "      <td>164.486373</td>\n",
       "      <td>255.525313</td>\n",
       "      <td>364.449519</td>\n",
       "      <td>486.939976</td>\n",
       "      <td>620.672155</td>\n",
       "      <td>764.266444</td>\n",
       "      <td>0.0</td>\n",
       "    </tr>\n",
       "  </tbody>\n",
       "</table>\n",
       "<p>1 rows × 3156 columns</p>\n",
       "</div>"
      ],
      "text/plain": [
       "   0_Absolute energy  0_Area under the curve  0_Autocorrelation  0_Centroid  \\\n",
       "0         298.259267               276.68285         298.259267  130.101136   \n",
       "\n",
       "   0_ECDF Percentile Count_0  0_ECDF Percentile Count_1  0_ECDF Percentile_0  \\\n",
       "0                       51.0                      207.0               1.0433   \n",
       "\n",
       "   0_ECDF Percentile_1  0_ECDF_0  0_ECDF_1  ...  9_Wavelet variance_0  \\\n",
       "0               1.0933  0.003861  0.007722  ...             13.460021   \n",
       "\n",
       "   9_Wavelet variance_1  9_Wavelet variance_2  9_Wavelet variance_3  \\\n",
       "0             45.642551              96.21395            164.486373   \n",
       "\n",
       "   9_Wavelet variance_4  9_Wavelet variance_5  9_Wavelet variance_6  \\\n",
       "0            255.525313            364.449519            486.939976   \n",
       "\n",
       "   9_Wavelet variance_7  9_Wavelet variance_8  9_Zero crossing rate  \n",
       "0            620.672155            764.266444                   0.0  \n",
       "\n",
       "[1 rows x 3156 columns]"
      ]
     },
     "execution_count": 8,
     "metadata": {},
     "output_type": "execute_result"
    }
   ],
   "source": [
    "cfg = tsfel.get_features_by_domain()\n",
    "ts_features = tsfel.time_series_features_extractor(\n",
    "    cfg,\n",
    "    ts[:, 1:],\n",
    "    fs=1,\n",
    "    window_size=ts.shape[0]\n",
    ")\n",
    "ts_features"
   ]
  },
  {
   "cell_type": "code",
   "execution_count": 6,
   "metadata": {},
   "outputs": [
    {
     "data": {
      "text/plain": [
       "array(['aa', 'bb111b'], dtype=object)"
      ]
     },
     "execution_count": 6,
     "metadata": {},
     "output_type": "execute_result"
    }
   ],
   "source": [
    "\n",
    "import numpy as np\n",
    "a = np.array([\"aa\", \"bb111b\"], dtype=np.object_)\n",
    "\n",
    "a"
   ]
  },
  {
   "cell_type": "code",
   "execution_count": 9,
   "metadata": {},
   "outputs": [],
   "source": [
    "a = [1, 2, 3]\n",
    "\n",
    "a += a"
   ]
  },
  {
   "cell_type": "code",
   "execution_count": 10,
   "metadata": {},
   "outputs": [
    {
     "data": {
      "text/plain": [
       "[1, 2, 3, 1, 2, 3]"
      ]
     },
     "execution_count": 10,
     "metadata": {},
     "output_type": "execute_result"
    }
   ],
   "source": [
    "a"
   ]
  },
  {
   "cell_type": "code",
   "execution_count": null,
   "metadata": {},
   "outputs": [],
   "source": []
  }
 ],
 "metadata": {
  "kernelspec": {
   "display_name": "Python 3.10.7 ('Ai')",
   "language": "python",
   "name": "python3"
  },
  "language_info": {
   "codemirror_mode": {
    "name": "ipython",
    "version": 3
   },
   "file_extension": ".py",
   "mimetype": "text/x-python",
   "name": "python",
   "nbconvert_exporter": "python",
   "pygments_lexer": "ipython3",
   "version": "3.10.7"
  },
  "orig_nbformat": 4,
  "vscode": {
   "interpreter": {
    "hash": "cc12dd51c08fff59e312c49b5273cbf2a12939660509ea1a4d83cd89b0463726"
   }
  }
 },
 "nbformat": 4,
 "nbformat_minor": 2
}
