{
 "cells": [
  {
   "cell_type": "code",
   "execution_count": null,
   "metadata": {},
   "outputs": [],
   "source": [
    "import os\n",
    "import tensorflow as tf\n",
    "\n",
    "from utils import (\n",
    "    DataLoader,\n",
    "    PerformanceMetrics,\n",
    "    get_subject_ids,\n",
    "    perform_loocv,\n",
    "    reset_weights\n",
    ")\n",
    "from models import NDDNet\n",
    "\n",
    "# ... Hide tensorflow debug messages\n",
    "os.environ[\"TF_CPP_MIN_LOG_LEVEL\"] = \"2\"\n",
    "# ... Disable GPU\n",
    "os.environ['CUDA_VISIBLE_DEVICES'] = \"-1\"\n"
   ]
  },
  {
   "cell_type": "markdown",
   "metadata": {},
   "source": [
    "# Config"
   ]
  },
  {
   "cell_type": "code",
   "execution_count": null,
   "metadata": {},
   "outputs": [],
   "source": [
    "DATA_DIR = \"../data/gaitndd/\"\n",
    "\n",
    "FS = 300\n",
    "N_EPOCHS = 300\n",
    "LEARNING_RATE = 3e-4\n",
    "GRF_SEGMENT_LEN = 120\n",
    "VAL_PERCENTAGE = 0.3\n",
    "MODE = \"combined\""
   ]
  },
  {
   "cell_type": "markdown",
   "metadata": {},
   "source": [
    "# Utils"
   ]
  },
  {
   "cell_type": "code",
   "execution_count": null,
   "metadata": {},
   "outputs": [],
   "source": [
    "all_subject_ids = get_subject_ids(DATA_DIR, \"ndd\")\n",
    "dataloader = DataLoader(DATA_DIR, all_subject_ids)\n",
    "metrics = PerformanceMetrics()\n"
   ]
  },
  {
   "cell_type": "markdown",
   "metadata": {},
   "source": [
    "# Model"
   ]
  },
  {
   "cell_type": "code",
   "execution_count": null,
   "metadata": {},
   "outputs": [],
   "source": [
    "network = NDDNet(\n",
    "    n_classes=2,\n",
    "    n_conv_blocks=3,\n",
    "    n_mlp_layers=0,\n",
    "    kernel_size=3,\n",
    "    conv_channel_width=16,\n",
    "    mlp_channel_width=32,\n",
    "    mode=\"combined\"\n",
    ")\n",
    "\n",
    "loss = tf.keras.losses.SparseCategoricalCrossentropy(from_logits=False)\n",
    "optimizer = tf.keras.optimizers.Adam(learning_rate=LEARNING_RATE)\n"
   ]
  },
  {
   "cell_type": "markdown",
   "metadata": {},
   "source": [
    "# ALS vs HC"
   ]
  },
  {
   "cell_type": "code",
   "execution_count": null,
   "metadata": {},
   "outputs": [],
   "source": [
    "DISEASE = \"als\"\n",
    "\n",
    "metrics = PerformanceMetrics()\n",
    "subject_ids = get_subject_ids(DATA_DIR, DISEASE)\n",
    "\n",
    "for test_subject in subject_ids:\n",
    "    print(f\"Training on {test_subject} ... \")\n",
    "    y_true, y_pred, model = perform_loocv(\n",
    "        test_subject=test_subject,\n",
    "        val_percentage=VAL_PERCENTAGE,\n",
    "        subject_ids=subject_ids,\n",
    "        dataloader=dataloader,\n",
    "        network=network,\n",
    "        loss=loss,\n",
    "        optimizer=optimizer,\n",
    "        n_epochs=N_EPOCHS\n",
    "    )\n",
    "\n",
    "    metrics.add_entry(test_subject, y_true, y_pred)\n",
    "    # model.save_weights(f\"../weights/{DISEASE}/{test_subject}\", save_format=\"h5\")\n",
    "\n",
    "    # break\n",
    "\n",
    "metrics.print_metrics()\n",
    "\n"
   ]
  },
  {
   "cell_type": "markdown",
   "metadata": {},
   "source": [
    "# HD vs HC"
   ]
  },
  {
   "cell_type": "code",
   "execution_count": null,
   "metadata": {},
   "outputs": [],
   "source": [
    "DISEASE = \"hunt\"\n",
    "\n",
    "metrics = PerformanceMetrics()\n",
    "subject_ids = get_subject_ids(DATA_DIR, DISEASE)\n",
    "\n",
    "for test_subject in subject_ids:\n",
    "    print(f\"Training on {test_subject} ... \")\n",
    "    y_true, y_pred, model = perform_loocv(\n",
    "        test_subject=test_subject,\n",
    "        val_percentage=VAL_PERCENTAGE,\n",
    "        subject_ids=subject_ids,\n",
    "        dataloader=dataloader,\n",
    "        network=network,\n",
    "        loss=loss,\n",
    "        optimizer=optimizer,\n",
    "        n_epochs=N_EPOCHS\n",
    "    )\n",
    "\n",
    "    metrics.add_entry(test_subject, y_true, y_pred)\n",
    "    # model.save_weights(f\"../weights/{DISEASE}/{test_subject}\", save_format=\"h5\")\n",
    "\n",
    "    # break\n",
    "\n",
    "metrics.print_metrics()\n",
    "\n"
   ]
  },
  {
   "cell_type": "markdown",
   "metadata": {},
   "source": [
    "# PD vs HC"
   ]
  },
  {
   "cell_type": "code",
   "execution_count": null,
   "metadata": {},
   "outputs": [],
   "source": [
    "DISEASE = \"park\"\n",
    "\n",
    "metrics = PerformanceMetrics()\n",
    "subject_ids = get_subject_ids(DATA_DIR, DISEASE)\n",
    "\n",
    "for test_subject in subject_ids:\n",
    "    print(f\"Training on {test_subject} ... \")\n",
    "    y_true, y_pred, model = perform_loocv(\n",
    "        test_subject=test_subject,\n",
    "        val_percentage=VAL_PERCENTAGE,\n",
    "        subject_ids=subject_ids,\n",
    "        dataloader=dataloader,\n",
    "        network=network,\n",
    "        loss=loss,\n",
    "        optimizer=optimizer,\n",
    "        n_epochs=N_EPOCHS\n",
    "    )\n",
    "\n",
    "    metrics.add_entry(test_subject, y_true, y_pred)\n",
    "    # model.save_weights(f\"../weights/{DISEASE}/{test_subject}\", save_format=\"h5\")\n",
    "\n",
    "    # break\n",
    "\n",
    "metrics.print_metrics()\n",
    "\n"
   ]
  },
  {
   "cell_type": "markdown",
   "metadata": {},
   "source": [
    "# NDD vs HC"
   ]
  },
  {
   "cell_type": "code",
   "execution_count": null,
   "metadata": {},
   "outputs": [],
   "source": [
    "DISEASE = \"ndd\"\n",
    "\n",
    "metrics = PerformanceMetrics()\n",
    "subject_ids = get_subject_ids(DATA_DIR, DISEASE)\n",
    "\n",
    "for test_subject in subject_ids:\n",
    "    print(f\"Training on {test_subject} ... \")\n",
    "    y_true, y_pred, model = perform_loocv(\n",
    "        test_subject=test_subject,\n",
    "        val_percentage=VAL_PERCENTAGE,\n",
    "        subject_ids=subject_ids,\n",
    "        dataloader=dataloader,\n",
    "        network=network,\n",
    "        loss=loss,\n",
    "        optimizer=optimizer,\n",
    "        n_epochs=N_EPOCHS\n",
    "    )\n",
    "\n",
    "    metrics.add_entry(test_subject, y_true, y_pred)\n",
    "    # model.save_weights(f\"../weights/{DISEASE}/{test_subject}\", save_format=\"h5\")\n",
    "\n",
    "    # break\n",
    "\n",
    "metrics.print_metrics()\n",
    "\n"
   ]
  },
  {
   "cell_type": "code",
   "execution_count": null,
   "metadata": {},
   "outputs": [],
   "source": []
  }
 ],
 "metadata": {
  "kernelspec": {
   "display_name": "Python 3.10.7 ('Ai')",
   "language": "python",
   "name": "python3"
  },
  "language_info": {
   "codemirror_mode": {
    "name": "ipython",
    "version": 3
   },
   "file_extension": ".py",
   "mimetype": "text/x-python",
   "name": "python",
   "nbconvert_exporter": "python",
   "pygments_lexer": "ipython3",
   "version": "3.10.7"
  },
  "orig_nbformat": 4,
  "vscode": {
   "interpreter": {
    "hash": "cc12dd51c08fff59e312c49b5273cbf2a12939660509ea1a4d83cd89b0463726"
   }
  }
 },
 "nbformat": 4,
 "nbformat_minor": 2
}
