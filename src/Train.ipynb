{
 "cells": [
  {
   "cell_type": "code",
   "execution_count": null,
   "metadata": {},
   "outputs": [],
   "source": [
    "import os\n",
    "\n",
    "# ... Hide tensorflow debug messages\n",
    "os.environ[\"TF_CPP_MIN_LOG_LEVEL\"] = \"2\"\n",
    "# ... Disable GPU\n",
    "os.environ['CUDA_VISIBLE_DEVICES'] = \"-1\"\n",
    "\n",
    "import tensorflow as tf\n",
    "\n",
    "from utils import (\n",
    "    DataLoader,\n",
    "    PerformanceMetrics,\n",
    "    get_subject_ids,\n",
    "    perform_loocv,\n",
    "    reset_weights\n",
    ")\n",
    "from models import NDDNet\n"
   ]
  },
  {
   "cell_type": "markdown",
   "metadata": {},
   "source": [
    "# Config"
   ]
  },
  {
   "cell_type": "code",
   "execution_count": null,
   "metadata": {},
   "outputs": [],
   "source": [
    "DATA_DIR = \"../data/dataset/\"\n",
    "\n",
    "FS = 300\n",
    "N_EPOCHS = 300\n",
    "LEARNING_RATE = 3e-4\n",
    "GRF_SEGMENT_LEN = 120\n",
    "VAL_PERCENTAGE = 0.3\n",
    "MODE = \"combined\""
   ]
  },
  {
   "cell_type": "markdown",
   "metadata": {},
   "source": [
    "# Utils"
   ]
  },
  {
   "cell_type": "code",
   "execution_count": null,
   "metadata": {},
   "outputs": [],
   "source": [
    "all_subject_ids = get_subject_ids(DATA_DIR, \"all\")\n",
    "dataloader = DataLoader(DATA_DIR, all_subject_ids)\n",
    "metrics = PerformanceMetrics()\n"
   ]
  },
  {
   "cell_type": "markdown",
   "metadata": {},
   "source": [
    "# Model"
   ]
  },
  {
   "cell_type": "code",
   "execution_count": 7,
   "metadata": {},
   "outputs": [],
   "source": [
    "network = NDDNet(\n",
    "    n_classes=2,\n",
    "    n_conv_blocks=5,\n",
    "    n_mlp_layers=1,\n",
    "    kernel_size=5,\n",
    "    conv_channel_width=16,\n",
    "    mlp_channel_width=32,\n",
    "    mode=\"combined\"\n",
    ")\n",
    "\n",
    "loss = tf.keras.losses.BinaryCrossentropy(from_logits=True)\n",
    "optimizer = tf.keras.optimizers.Adam(learning_rate=LEARNING_RATE)\n"
   ]
  },
  {
   "cell_type": "markdown",
   "metadata": {},
   "source": [
    "# ALS vs HC"
   ]
  },
  {
   "cell_type": "code",
   "execution_count": 8,
   "metadata": {},
   "outputs": [
    {
     "name": "stdout",
     "output_type": "stream",
     "text": [
      "Training on als1 ... \n"
     ]
    },
    {
     "ename": "ValueError",
     "evalue": "in user code:\n\n    File \"/home/ai/Ai/lib/python3.10/site-packages/keras/engine/training.py\", line 1051, in train_function  *\n        return step_function(self, iterator)\n    File \"/home/ai/Ai/lib/python3.10/site-packages/keras/engine/training.py\", line 1040, in step_function  **\n        outputs = model.distribute_strategy.run(run_step, args=(data,))\n    File \"/home/ai/Ai/lib/python3.10/site-packages/keras/engine/training.py\", line 1030, in run_step  **\n        outputs = model.train_step(data)\n    File \"/home/ai/Ai/lib/python3.10/site-packages/keras/engine/training.py\", line 890, in train_step\n        loss = self.compute_loss(x, y, y_pred, sample_weight)\n    File \"/home/ai/Ai/lib/python3.10/site-packages/keras/engine/training.py\", line 948, in compute_loss\n        return self.compiled_loss(\n    File \"/home/ai/Ai/lib/python3.10/site-packages/keras/engine/compile_utils.py\", line 201, in __call__\n        loss_value = loss_obj(y_t, y_p, sample_weight=sw)\n    File \"/home/ai/Ai/lib/python3.10/site-packages/keras/losses.py\", line 139, in __call__\n        losses = call_fn(y_true, y_pred)\n    File \"/home/ai/Ai/lib/python3.10/site-packages/keras/losses.py\", line 243, in call  **\n        return ag_fn(y_true, y_pred, **self._fn_kwargs)\n    File \"/home/ai/Ai/lib/python3.10/site-packages/keras/losses.py\", line 1930, in binary_crossentropy\n        backend.binary_crossentropy(y_true, y_pred, from_logits=from_logits),\n    File \"/home/ai/Ai/lib/python3.10/site-packages/keras/backend.py\", line 5283, in binary_crossentropy\n        return tf.nn.sigmoid_cross_entropy_with_logits(labels=target, logits=output)\n\n    ValueError: `logits` and `labels` must have the same shape, received ((None, 2) vs (None, 1)).\n",
     "output_type": "error",
     "traceback": [
      "\u001b[0;31m---------------------------------------------------------------------------\u001b[0m",
      "\u001b[0;31mValueError\u001b[0m                                Traceback (most recent call last)",
      "\u001b[1;32m/home/ai/Python/NDDNet/src/Train.ipynb Cell 9\u001b[0m in \u001b[0;36m<cell line: 6>\u001b[0;34m()\u001b[0m\n\u001b[1;32m      <a href='vscode-notebook-cell:/home/ai/Python/NDDNet/src/Train.ipynb#W5sZmlsZQ%3D%3D?line=5'>6</a>\u001b[0m \u001b[39mfor\u001b[39;00m test_subject \u001b[39min\u001b[39;00m subject_ids:\n\u001b[1;32m      <a href='vscode-notebook-cell:/home/ai/Python/NDDNet/src/Train.ipynb#W5sZmlsZQ%3D%3D?line=6'>7</a>\u001b[0m     \u001b[39mprint\u001b[39m(\u001b[39mf\u001b[39m\u001b[39m\"\u001b[39m\u001b[39mTraining on \u001b[39m\u001b[39m{\u001b[39;00mtest_subject\u001b[39m}\u001b[39;00m\u001b[39m ... \u001b[39m\u001b[39m\"\u001b[39m)\n\u001b[0;32m----> <a href='vscode-notebook-cell:/home/ai/Python/NDDNet/src/Train.ipynb#W5sZmlsZQ%3D%3D?line=7'>8</a>\u001b[0m     y_true, y_pred, model \u001b[39m=\u001b[39m perform_loocv(\n\u001b[1;32m      <a href='vscode-notebook-cell:/home/ai/Python/NDDNet/src/Train.ipynb#W5sZmlsZQ%3D%3D?line=8'>9</a>\u001b[0m         test_subject\u001b[39m=\u001b[39;49mtest_subject,\n\u001b[1;32m     <a href='vscode-notebook-cell:/home/ai/Python/NDDNet/src/Train.ipynb#W5sZmlsZQ%3D%3D?line=9'>10</a>\u001b[0m         val_percentage\u001b[39m=\u001b[39;49mVAL_PERCENTAGE,\n\u001b[1;32m     <a href='vscode-notebook-cell:/home/ai/Python/NDDNet/src/Train.ipynb#W5sZmlsZQ%3D%3D?line=10'>11</a>\u001b[0m         subject_ids\u001b[39m=\u001b[39;49msubject_ids,\n\u001b[1;32m     <a href='vscode-notebook-cell:/home/ai/Python/NDDNet/src/Train.ipynb#W5sZmlsZQ%3D%3D?line=11'>12</a>\u001b[0m         dataloader\u001b[39m=\u001b[39;49mdataloader,\n\u001b[1;32m     <a href='vscode-notebook-cell:/home/ai/Python/NDDNet/src/Train.ipynb#W5sZmlsZQ%3D%3D?line=12'>13</a>\u001b[0m         network\u001b[39m=\u001b[39;49mnetwork,\n\u001b[1;32m     <a href='vscode-notebook-cell:/home/ai/Python/NDDNet/src/Train.ipynb#W5sZmlsZQ%3D%3D?line=13'>14</a>\u001b[0m         loss\u001b[39m=\u001b[39;49mloss,\n\u001b[1;32m     <a href='vscode-notebook-cell:/home/ai/Python/NDDNet/src/Train.ipynb#W5sZmlsZQ%3D%3D?line=14'>15</a>\u001b[0m         optimizer\u001b[39m=\u001b[39;49moptimizer,\n\u001b[1;32m     <a href='vscode-notebook-cell:/home/ai/Python/NDDNet/src/Train.ipynb#W5sZmlsZQ%3D%3D?line=15'>16</a>\u001b[0m         n_epochs\u001b[39m=\u001b[39;49mN_EPOCHS\n\u001b[1;32m     <a href='vscode-notebook-cell:/home/ai/Python/NDDNet/src/Train.ipynb#W5sZmlsZQ%3D%3D?line=16'>17</a>\u001b[0m     )\n\u001b[1;32m     <a href='vscode-notebook-cell:/home/ai/Python/NDDNet/src/Train.ipynb#W5sZmlsZQ%3D%3D?line=18'>19</a>\u001b[0m     metrics\u001b[39m.\u001b[39madd_entry(test_subject, y_true, y_pred)\n\u001b[1;32m     <a href='vscode-notebook-cell:/home/ai/Python/NDDNet/src/Train.ipynb#W5sZmlsZQ%3D%3D?line=20'>21</a>\u001b[0m     \u001b[39mbreak\u001b[39;00m\n",
      "File \u001b[0;32m~/Python/NDDNet/src/utils/loocv_utils.py:70\u001b[0m, in \u001b[0;36mperform_loocv\u001b[0;34m(test_subject, val_percentage, subject_ids, dataloader, network, loss, optimizer, n_epochs, n_trials)\u001b[0m\n\u001b[1;32m     57\u001b[0m model \u001b[39m=\u001b[39m network\u001b[39m.\u001b[39mget_model(\n\u001b[1;32m     58\u001b[0m     n_grf_channels\u001b[39m=\u001b[39m\u001b[39mlen\u001b[39m(train_x) \u001b[39m-\u001b[39m \u001b[39m1\u001b[39m,\n\u001b[1;32m     59\u001b[0m     n_feature_channels\u001b[39m=\u001b[39m\u001b[39m1\u001b[39m,\n\u001b[1;32m     60\u001b[0m     grf_channel_shape\u001b[39m=\u001b[39mtrain_x[\u001b[39m0\u001b[39m]\u001b[39m.\u001b[39mshape[\u001b[39m1\u001b[39m:],\n\u001b[1;32m     61\u001b[0m     feature_channel_shape\u001b[39m=\u001b[39mtrain_x[\u001b[39m-\u001b[39m\u001b[39m1\u001b[39m]\u001b[39m.\u001b[39mshape[\u001b[39m1\u001b[39m:]\n\u001b[1;32m     62\u001b[0m )\n\u001b[1;32m     64\u001b[0m model\u001b[39m.\u001b[39mcompile(\n\u001b[1;32m     65\u001b[0m     loss\u001b[39m=\u001b[39mloss,\n\u001b[1;32m     66\u001b[0m     optimizer\u001b[39m=\u001b[39moptimizer,\n\u001b[1;32m     67\u001b[0m     metrics\u001b[39m=\u001b[39m[\u001b[39m\"\u001b[39m\u001b[39maccuracy\u001b[39m\u001b[39m\"\u001b[39m]\n\u001b[1;32m     68\u001b[0m )\n\u001b[0;32m---> 70\u001b[0m model\u001b[39m.\u001b[39;49mfit(\n\u001b[1;32m     71\u001b[0m     train_x,\n\u001b[1;32m     72\u001b[0m     train_y,\n\u001b[1;32m     73\u001b[0m     verbose\u001b[39m=\u001b[39;49m\u001b[39m0\u001b[39;49m,\n\u001b[1;32m     74\u001b[0m     shuffle\u001b[39m=\u001b[39;49m\u001b[39mTrue\u001b[39;49;00m,\n\u001b[1;32m     75\u001b[0m     epochs\u001b[39m=\u001b[39;49mn_epochs,\n\u001b[1;32m     76\u001b[0m     batch_size\u001b[39m=\u001b[39;49m\u001b[39m64\u001b[39;49m,\n\u001b[1;32m     77\u001b[0m     validation_data\u001b[39m=\u001b[39;49m(val_x, val_y),\n\u001b[1;32m     78\u001b[0m     callbacks\u001b[39m=\u001b[39;49mcallbacks_list\n\u001b[1;32m     79\u001b[0m )\n\u001b[1;32m     81\u001b[0m pred_y \u001b[39m=\u001b[39m np\u001b[39m.\u001b[39margmax(model\u001b[39m.\u001b[39mpredict(test_x, verbose\u001b[39m=\u001b[39m\u001b[39m0\u001b[39m), axis\u001b[39m=\u001b[39m\u001b[39m1\u001b[39m)\n\u001b[1;32m     83\u001b[0m acc \u001b[39m=\u001b[39m accuracy_score(test_y\u001b[39m.\u001b[39mravel(), pred_y\u001b[39m.\u001b[39mravel())\n",
      "File \u001b[0;32m~/Ai/lib/python3.10/site-packages/keras/utils/traceback_utils.py:67\u001b[0m, in \u001b[0;36mfilter_traceback.<locals>.error_handler\u001b[0;34m(*args, **kwargs)\u001b[0m\n\u001b[1;32m     65\u001b[0m \u001b[39mexcept\u001b[39;00m \u001b[39mException\u001b[39;00m \u001b[39mas\u001b[39;00m e:  \u001b[39m# pylint: disable=broad-except\u001b[39;00m\n\u001b[1;32m     66\u001b[0m   filtered_tb \u001b[39m=\u001b[39m _process_traceback_frames(e\u001b[39m.\u001b[39m__traceback__)\n\u001b[0;32m---> 67\u001b[0m   \u001b[39mraise\u001b[39;00m e\u001b[39m.\u001b[39mwith_traceback(filtered_tb) \u001b[39mfrom\u001b[39;00m \u001b[39mNone\u001b[39m\n\u001b[1;32m     68\u001b[0m \u001b[39mfinally\u001b[39;00m:\n\u001b[1;32m     69\u001b[0m   \u001b[39mdel\u001b[39;00m filtered_tb\n",
      "File \u001b[0;32m/tmp/__autograph_generated_file3q5eiycz.py:15\u001b[0m, in \u001b[0;36mouter_factory.<locals>.inner_factory.<locals>.tf__train_function\u001b[0;34m(iterator)\u001b[0m\n\u001b[1;32m     13\u001b[0m \u001b[39mtry\u001b[39;00m:\n\u001b[1;32m     14\u001b[0m     do_return \u001b[39m=\u001b[39m \u001b[39mTrue\u001b[39;00m\n\u001b[0;32m---> 15\u001b[0m     retval_ \u001b[39m=\u001b[39m ag__\u001b[39m.\u001b[39mconverted_call(ag__\u001b[39m.\u001b[39mld(step_function), (ag__\u001b[39m.\u001b[39mld(\u001b[39mself\u001b[39m), ag__\u001b[39m.\u001b[39mld(iterator)), \u001b[39mNone\u001b[39;00m, fscope)\n\u001b[1;32m     16\u001b[0m \u001b[39mexcept\u001b[39;00m:\n\u001b[1;32m     17\u001b[0m     do_return \u001b[39m=\u001b[39m \u001b[39mFalse\u001b[39;00m\n",
      "\u001b[0;31mValueError\u001b[0m: in user code:\n\n    File \"/home/ai/Ai/lib/python3.10/site-packages/keras/engine/training.py\", line 1051, in train_function  *\n        return step_function(self, iterator)\n    File \"/home/ai/Ai/lib/python3.10/site-packages/keras/engine/training.py\", line 1040, in step_function  **\n        outputs = model.distribute_strategy.run(run_step, args=(data,))\n    File \"/home/ai/Ai/lib/python3.10/site-packages/keras/engine/training.py\", line 1030, in run_step  **\n        outputs = model.train_step(data)\n    File \"/home/ai/Ai/lib/python3.10/site-packages/keras/engine/training.py\", line 890, in train_step\n        loss = self.compute_loss(x, y, y_pred, sample_weight)\n    File \"/home/ai/Ai/lib/python3.10/site-packages/keras/engine/training.py\", line 948, in compute_loss\n        return self.compiled_loss(\n    File \"/home/ai/Ai/lib/python3.10/site-packages/keras/engine/compile_utils.py\", line 201, in __call__\n        loss_value = loss_obj(y_t, y_p, sample_weight=sw)\n    File \"/home/ai/Ai/lib/python3.10/site-packages/keras/losses.py\", line 139, in __call__\n        losses = call_fn(y_true, y_pred)\n    File \"/home/ai/Ai/lib/python3.10/site-packages/keras/losses.py\", line 243, in call  **\n        return ag_fn(y_true, y_pred, **self._fn_kwargs)\n    File \"/home/ai/Ai/lib/python3.10/site-packages/keras/losses.py\", line 1930, in binary_crossentropy\n        backend.binary_crossentropy(y_true, y_pred, from_logits=from_logits),\n    File \"/home/ai/Ai/lib/python3.10/site-packages/keras/backend.py\", line 5283, in binary_crossentropy\n        return tf.nn.sigmoid_cross_entropy_with_logits(labels=target, logits=output)\n\n    ValueError: `logits` and `labels` must have the same shape, received ((None, 2) vs (None, 1)).\n"
     ]
    }
   ],
   "source": [
    "DISEASE = \"als\"\n",
    "\n",
    "metrics = PerformanceMetrics()\n",
    "subject_ids = get_subject_ids(DATA_DIR, DISEASE)\n",
    "\n",
    "for test_subject in subject_ids:\n",
    "    print(f\"Training on {test_subject} ... \")\n",
    "    y_true, y_pred, model = perform_loocv(\n",
    "        test_subject=test_subject,\n",
    "        val_percentage=VAL_PERCENTAGE,\n",
    "        subject_ids=subject_ids,\n",
    "        dataloader=dataloader,\n",
    "        network=network,\n",
    "        loss=loss,\n",
    "        optimizer=optimizer,\n",
    "        n_epochs=N_EPOCHS\n",
    "    )\n",
    "\n",
    "    metrics.add_entry(test_subject, y_true, y_pred)\n",
    "\n",
    "    break\n",
    "\n",
    "metrics.print_metrics()\n",
    "\n"
   ]
  },
  {
   "cell_type": "code",
   "execution_count": null,
   "metadata": {},
   "outputs": [],
   "source": []
  }
 ],
 "metadata": {
  "kernelspec": {
   "display_name": "Python 3.10.7 ('Ai')",
   "language": "python",
   "name": "python3"
  },
  "language_info": {
   "codemirror_mode": {
    "name": "ipython",
    "version": 3
   },
   "file_extension": ".py",
   "mimetype": "text/x-python",
   "name": "python",
   "nbconvert_exporter": "python",
   "pygments_lexer": "ipython3",
   "version": "3.10.7"
  },
  "orig_nbformat": 4,
  "vscode": {
   "interpreter": {
    "hash": "cc12dd51c08fff59e312c49b5273cbf2a12939660509ea1a4d83cd89b0463726"
   }
  }
 },
 "nbformat": 4,
 "nbformat_minor": 2
}
