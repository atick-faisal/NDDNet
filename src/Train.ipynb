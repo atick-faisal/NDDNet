{
 "cells": [
  {
   "cell_type": "code",
   "execution_count": 1,
   "metadata": {},
   "outputs": [
    {
     "name": "stderr",
     "output_type": "stream",
     "text": [
      "2022-10-23 04:15:41.705240: I tensorflow/core/util/util.cc:169] oneDNN custom operations are on. You may see slightly different numerical results due to floating-point round-off errors from different computation orders. To turn them off, set the environment variable `TF_ENABLE_ONEDNN_OPTS=0`.\n"
     ]
    }
   ],
   "source": [
    "import os\n",
    "import tensorflow as tf\n",
    "\n",
    "from utils import (\n",
    "    DataLoader,\n",
    "    PerformanceMetrics,\n",
    "    get_subject_ids,\n",
    "    perform_loocv,\n",
    "    reset_weights\n",
    ")\n",
    "from models import NDDNet\n",
    "\n",
    "# ... Hide tensorflow debug messages\n",
    "os.environ[\"TF_CPP_MIN_LOG_LEVEL\"] = \"2\"\n",
    "# ... Disable GPU\n",
    "os.environ['CUDA_VISIBLE_DEVICES'] = \"-1\"\n"
   ]
  },
  {
   "cell_type": "markdown",
   "metadata": {},
   "source": [
    "# Config"
   ]
  },
  {
   "cell_type": "code",
   "execution_count": 2,
   "metadata": {},
   "outputs": [],
   "source": [
    "DATA_DIR = \"../data/gaitndd/\"\n",
    "\n",
    "FS = 300\n",
    "N_EPOCHS = 300\n",
    "LEARNING_RATE = 3e-4\n",
    "GRF_SEGMENT_LEN = 120\n",
    "VAL_PERCENTAGE = 0.3\n",
    "MODE = \"combined\""
   ]
  },
  {
   "cell_type": "markdown",
   "metadata": {},
   "source": [
    "# Utils"
   ]
  },
  {
   "cell_type": "code",
   "execution_count": null,
   "metadata": {},
   "outputs": [],
   "source": [
    "all_subject_ids = get_subject_ids(DATA_DIR, \"ndd\")\n",
    "dataloader = DataLoader(DATA_DIR, all_subject_ids)\n",
    "metrics = PerformanceMetrics()\n"
   ]
  },
  {
   "cell_type": "markdown",
   "metadata": {},
   "source": [
    "# Model"
   ]
  },
  {
   "cell_type": "code",
   "execution_count": 4,
   "metadata": {},
   "outputs": [],
   "source": [
    "network = NDDNet(\n",
    "    n_classes=2,\n",
    "    n_conv_blocks=3,\n",
    "    n_mlp_layers=0,\n",
    "    kernel_size=3,\n",
    "    conv_channel_width=16,\n",
    "    mlp_channel_width=32,\n",
    "    mode=\"combined\"\n",
    ")\n",
    "\n",
    "loss = tf.keras.losses.SparseCategoricalCrossentropy(from_logits=False)\n",
    "optimizer = tf.keras.optimizers.Adam(learning_rate=LEARNING_RATE)\n"
   ]
  },
  {
   "cell_type": "markdown",
   "metadata": {},
   "source": [
    "# ALS vs HC"
   ]
  },
  {
   "cell_type": "code",
   "execution_count": 6,
   "metadata": {},
   "outputs": [
    {
     "name": "stdout",
     "output_type": "stream",
     "text": [
      "Training on als7 ... \n"
     ]
    },
    {
     "data": {
      "text/html": [
       "<pre style=\"white-space:pre;overflow-x:auto;line-height:normal;font-family:Menlo,'DejaVu Sans Mono',consolas,'Courier New',monospace\"><span style=\"font-style: italic\">                   Performace Metrics                    </span>\n",
       "┏━━━━━━━━━━━━┳━━━━━━━━━━━┳━━━━━━━━┳━━━━━━━━━━┳━━━━━━━━━━┓\n",
       "┃<span style=\"font-weight: bold\"> Subject ID </span>┃<span style=\"font-weight: bold\"> Precision </span>┃<span style=\"font-weight: bold\"> Recall </span>┃<span style=\"font-weight: bold\"> F1-Score </span>┃<span style=\"font-weight: bold\"> Accuracy </span>┃\n",
       "┡━━━━━━━━━━━━╇━━━━━━━━━━━╇━━━━━━━━╇━━━━━━━━━━╇━━━━━━━━━━┩\n",
       "│ als7       │ 1.000     │ 1.000  │ 1.000    │ 1.000    │\n",
       "│ ALL        │ 1.000     │ 1.000  │ 1.000    │ 1.000    │\n",
       "└────────────┴───────────┴────────┴──────────┴──────────┘\n",
       "</pre>\n"
      ],
      "text/plain": [
       "\u001b[3m                   Performace Metrics                    \u001b[0m\n",
       "┏━━━━━━━━━━━━┳━━━━━━━━━━━┳━━━━━━━━┳━━━━━━━━━━┳━━━━━━━━━━┓\n",
       "┃\u001b[1m \u001b[0m\u001b[1mSubject ID\u001b[0m\u001b[1m \u001b[0m┃\u001b[1m \u001b[0m\u001b[1mPrecision\u001b[0m\u001b[1m \u001b[0m┃\u001b[1m \u001b[0m\u001b[1mRecall\u001b[0m\u001b[1m \u001b[0m┃\u001b[1m \u001b[0m\u001b[1mF1-Score\u001b[0m\u001b[1m \u001b[0m┃\u001b[1m \u001b[0m\u001b[1mAccuracy\u001b[0m\u001b[1m \u001b[0m┃\n",
       "┡━━━━━━━━━━━━╇━━━━━━━━━━━╇━━━━━━━━╇━━━━━━━━━━╇━━━━━━━━━━┩\n",
       "│ als7       │ 1.000     │ 1.000  │ 1.000    │ 1.000    │\n",
       "│ ALL        │ 1.000     │ 1.000  │ 1.000    │ 1.000    │\n",
       "└────────────┴───────────┴────────┴──────────┴──────────┘\n"
      ]
     },
     "metadata": {},
     "output_type": "display_data"
    }
   ],
   "source": [
    "DISEASE = \"als\"\n",
    "\n",
    "metrics = PerformanceMetrics()\n",
    "subject_ids = get_subject_ids(DATA_DIR, DISEASE)\n",
    "\n",
    "for test_subject in [\"als7\"]:\n",
    "    print(f\"Training on {test_subject} ... \")\n",
    "    y_true, y_pred, model = perform_loocv(\n",
    "        test_subject=test_subject,\n",
    "        val_percentage=VAL_PERCENTAGE,\n",
    "        subject_ids=subject_ids,\n",
    "        dataloader=dataloader,\n",
    "        network=network,\n",
    "        loss=loss,\n",
    "        optimizer=optimizer,\n",
    "        n_epochs=N_EPOCHS\n",
    "    )\n",
    "\n",
    "    metrics.add_entry(test_subject, y_true, y_pred)\n",
    "    # model.save_weights(f\"../weights/{DISEASE}/{test_subject}\", save_format=\"h5\")\n",
    "\n",
    "    break\n",
    "\n",
    "metrics.print_metrics()\n",
    "\n"
   ]
  },
  {
   "cell_type": "markdown",
   "metadata": {},
   "source": [
    "# HD vs HC"
   ]
  },
  {
   "cell_type": "code",
   "execution_count": 5,
   "metadata": {},
   "outputs": [
    {
     "name": "stdout",
     "output_type": "stream",
     "text": [
      "Training on control11 ... \n"
     ]
    },
    {
     "name": "stderr",
     "output_type": "stream",
     "text": [
      "2022-10-23 04:16:59.867939: E tensorflow/stream_executor/cuda/cuda_driver.cc:271] failed call to cuInit: CUDA_ERROR_NO_DEVICE: no CUDA-capable device is detected\n",
      "2022-10-23 04:16:59.867967: I tensorflow/stream_executor/cuda/cuda_diagnostics.cc:169] retrieving CUDA diagnostic information for host: Andromeda\n",
      "2022-10-23 04:16:59.867973: I tensorflow/stream_executor/cuda/cuda_diagnostics.cc:176] hostname: Andromeda\n",
      "2022-10-23 04:16:59.868093: I tensorflow/stream_executor/cuda/cuda_diagnostics.cc:200] libcuda reported version is: 520.56.6\n",
      "2022-10-23 04:16:59.868107: I tensorflow/stream_executor/cuda/cuda_diagnostics.cc:204] kernel reported version is: 520.56.6\n",
      "2022-10-23 04:16:59.868110: I tensorflow/stream_executor/cuda/cuda_diagnostics.cc:310] kernel version seems to match DSO: 520.56.6\n",
      "2022-10-23 04:16:59.868355: I tensorflow/core/platform/cpu_feature_guard.cc:193] This TensorFlow binary is optimized with oneAPI Deep Neural Network Library (oneDNN) to use the following CPU instructions in performance-critical operations:  AVX2 AVX512F AVX512_VNNI FMA\n",
      "To enable them in other operations, rebuild TensorFlow with the appropriate compiler flags.\n"
     ]
    },
    {
     "name": "stdout",
     "output_type": "stream",
     "text": [
      "Training on control14 ... \n",
      "Training on control9 ... \n"
     ]
    },
    {
     "data": {
      "text/html": [
       "<pre style=\"white-space:pre;overflow-x:auto;line-height:normal;font-family:Menlo,'DejaVu Sans Mono',consolas,'Courier New',monospace\"><span style=\"font-style: italic\">                   Performace Metrics                    </span>\n",
       "┏━━━━━━━━━━━━┳━━━━━━━━━━━┳━━━━━━━━┳━━━━━━━━━━┳━━━━━━━━━━┓\n",
       "┃<span style=\"font-weight: bold\"> Subject ID </span>┃<span style=\"font-weight: bold\"> Precision </span>┃<span style=\"font-weight: bold\"> Recall </span>┃<span style=\"font-weight: bold\"> F1-Score </span>┃<span style=\"font-weight: bold\"> Accuracy </span>┃\n",
       "┡━━━━━━━━━━━━╇━━━━━━━━━━━╇━━━━━━━━╇━━━━━━━━━━╇━━━━━━━━━━┩\n",
       "│ control11  │ 1.000     │ 1.000  │ 1.000    │ 1.000    │\n",
       "│ control14  │ 1.000     │ 1.000  │ 1.000    │ 1.000    │\n",
       "│ control9   │ 1.000     │ 1.000  │ 1.000    │ 1.000    │\n",
       "│ ALL        │ 1.000     │ 1.000  │ 1.000    │ 1.000    │\n",
       "└────────────┴───────────┴────────┴──────────┴──────────┘\n",
       "</pre>\n"
      ],
      "text/plain": [
       "\u001b[3m                   Performace Metrics                    \u001b[0m\n",
       "┏━━━━━━━━━━━━┳━━━━━━━━━━━┳━━━━━━━━┳━━━━━━━━━━┳━━━━━━━━━━┓\n",
       "┃\u001b[1m \u001b[0m\u001b[1mSubject ID\u001b[0m\u001b[1m \u001b[0m┃\u001b[1m \u001b[0m\u001b[1mPrecision\u001b[0m\u001b[1m \u001b[0m┃\u001b[1m \u001b[0m\u001b[1mRecall\u001b[0m\u001b[1m \u001b[0m┃\u001b[1m \u001b[0m\u001b[1mF1-Score\u001b[0m\u001b[1m \u001b[0m┃\u001b[1m \u001b[0m\u001b[1mAccuracy\u001b[0m\u001b[1m \u001b[0m┃\n",
       "┡━━━━━━━━━━━━╇━━━━━━━━━━━╇━━━━━━━━╇━━━━━━━━━━╇━━━━━━━━━━┩\n",
       "│ control11  │ 1.000     │ 1.000  │ 1.000    │ 1.000    │\n",
       "│ control14  │ 1.000     │ 1.000  │ 1.000    │ 1.000    │\n",
       "│ control9   │ 1.000     │ 1.000  │ 1.000    │ 1.000    │\n",
       "│ ALL        │ 1.000     │ 1.000  │ 1.000    │ 1.000    │\n",
       "└────────────┴───────────┴────────┴──────────┴──────────┘\n"
      ]
     },
     "metadata": {},
     "output_type": "display_data"
    }
   ],
   "source": [
    "DISEASE = \"hunt\"\n",
    "\n",
    "metrics = PerformanceMetrics()\n",
    "subject_ids = get_subject_ids(DATA_DIR, DISEASE)\n",
    "\n",
    "for test_subject in [\"control11\", \"control14\", \"control9\"]:\n",
    "    print(f\"Training on {test_subject} ... \")\n",
    "    y_true, y_pred, model = perform_loocv(\n",
    "        test_subject=test_subject,\n",
    "        val_percentage=VAL_PERCENTAGE,\n",
    "        subject_ids=subject_ids,\n",
    "        dataloader=dataloader,\n",
    "        network=network,\n",
    "        loss=loss,\n",
    "        optimizer=optimizer,\n",
    "        n_epochs=N_EPOCHS\n",
    "    )\n",
    "\n",
    "    metrics.add_entry(test_subject, y_true, y_pred)\n",
    "    model.save_weights(f\"../weights/{DISEASE}/{test_subject}\", save_format=\"h5\")\n",
    "\n",
    "    # break\n",
    "\n",
    "metrics.print_metrics()\n",
    "\n"
   ]
  },
  {
   "cell_type": "markdown",
   "metadata": {},
   "source": [
    "# PD vs HC"
   ]
  },
  {
   "cell_type": "code",
   "execution_count": 9,
   "metadata": {},
   "outputs": [
    {
     "name": "stdout",
     "output_type": "stream",
     "text": [
      "Training on park7 ... \n"
     ]
    },
    {
     "data": {
      "text/html": [
       "<pre style=\"white-space:pre;overflow-x:auto;line-height:normal;font-family:Menlo,'DejaVu Sans Mono',consolas,'Courier New',monospace\"><span style=\"font-style: italic\">                   Performace Metrics                    </span>\n",
       "┏━━━━━━━━━━━━┳━━━━━━━━━━━┳━━━━━━━━┳━━━━━━━━━━┳━━━━━━━━━━┓\n",
       "┃<span style=\"font-weight: bold\"> Subject ID </span>┃<span style=\"font-weight: bold\"> Precision </span>┃<span style=\"font-weight: bold\"> Recall </span>┃<span style=\"font-weight: bold\"> F1-Score </span>┃<span style=\"font-weight: bold\"> Accuracy </span>┃\n",
       "┡━━━━━━━━━━━━╇━━━━━━━━━━━╇━━━━━━━━╇━━━━━━━━━━╇━━━━━━━━━━┩\n",
       "│ park7      │ 1.000     │ 1.000  │ 1.000    │ 1.000    │\n",
       "│ ALL        │ 1.000     │ 1.000  │ 1.000    │ 1.000    │\n",
       "└────────────┴───────────┴────────┴──────────┴──────────┘\n",
       "</pre>\n"
      ],
      "text/plain": [
       "\u001b[3m                   Performace Metrics                    \u001b[0m\n",
       "┏━━━━━━━━━━━━┳━━━━━━━━━━━┳━━━━━━━━┳━━━━━━━━━━┳━━━━━━━━━━┓\n",
       "┃\u001b[1m \u001b[0m\u001b[1mSubject ID\u001b[0m\u001b[1m \u001b[0m┃\u001b[1m \u001b[0m\u001b[1mPrecision\u001b[0m\u001b[1m \u001b[0m┃\u001b[1m \u001b[0m\u001b[1mRecall\u001b[0m\u001b[1m \u001b[0m┃\u001b[1m \u001b[0m\u001b[1mF1-Score\u001b[0m\u001b[1m \u001b[0m┃\u001b[1m \u001b[0m\u001b[1mAccuracy\u001b[0m\u001b[1m \u001b[0m┃\n",
       "┡━━━━━━━━━━━━╇━━━━━━━━━━━╇━━━━━━━━╇━━━━━━━━━━╇━━━━━━━━━━┩\n",
       "│ park7      │ 1.000     │ 1.000  │ 1.000    │ 1.000    │\n",
       "│ ALL        │ 1.000     │ 1.000  │ 1.000    │ 1.000    │\n",
       "└────────────┴───────────┴────────┴──────────┴──────────┘\n"
      ]
     },
     "metadata": {},
     "output_type": "display_data"
    }
   ],
   "source": [
    "DISEASE = \"park\"\n",
    "\n",
    "metrics = PerformanceMetrics()\n",
    "subject_ids = get_subject_ids(DATA_DIR, DISEASE)\n",
    "\n",
    "for test_subject in [\"park7\"]:\n",
    "    print(f\"Training on {test_subject} ... \")\n",
    "    y_true, y_pred, model = perform_loocv(\n",
    "        test_subject=test_subject,\n",
    "        val_percentage=VAL_PERCENTAGE,\n",
    "        subject_ids=subject_ids,\n",
    "        dataloader=dataloader,\n",
    "        network=network,\n",
    "        loss=loss,\n",
    "        optimizer=optimizer,\n",
    "        n_epochs=N_EPOCHS\n",
    "    )\n",
    "\n",
    "    metrics.add_entry(test_subject, y_true, y_pred)\n",
    "    model.save_weights(f\"../weights/{DISEASE}/{test_subject}\", save_format=\"h5\")\n",
    "\n",
    "    # break\n",
    "\n",
    "metrics.print_metrics()\n",
    "\n"
   ]
  },
  {
   "cell_type": "markdown",
   "metadata": {},
   "source": [
    "# NDD vs HC"
   ]
  },
  {
   "cell_type": "code",
   "execution_count": 12,
   "metadata": {},
   "outputs": [
    {
     "name": "stdout",
     "output_type": "stream",
     "text": [
      "Training on park3 ... \n"
     ]
    },
    {
     "data": {
      "text/html": [
       "<pre style=\"white-space:pre;overflow-x:auto;line-height:normal;font-family:Menlo,'DejaVu Sans Mono',consolas,'Courier New',monospace\"><span style=\"font-style: italic\">                   Performace Metrics                    </span>\n",
       "┏━━━━━━━━━━━━┳━━━━━━━━━━━┳━━━━━━━━┳━━━━━━━━━━┳━━━━━━━━━━┓\n",
       "┃<span style=\"font-weight: bold\"> Subject ID </span>┃<span style=\"font-weight: bold\"> Precision </span>┃<span style=\"font-weight: bold\"> Recall </span>┃<span style=\"font-weight: bold\"> F1-Score </span>┃<span style=\"font-weight: bold\"> Accuracy </span>┃\n",
       "┡━━━━━━━━━━━━╇━━━━━━━━━━━╇━━━━━━━━╇━━━━━━━━━━╇━━━━━━━━━━┩\n",
       "│ park3      │ 1.000     │ 1.000  │ 1.000    │ 1.000    │\n",
       "│ ALL        │ 1.000     │ 1.000  │ 1.000    │ 1.000    │\n",
       "└────────────┴───────────┴────────┴──────────┴──────────┘\n",
       "</pre>\n"
      ],
      "text/plain": [
       "\u001b[3m                   Performace Metrics                    \u001b[0m\n",
       "┏━━━━━━━━━━━━┳━━━━━━━━━━━┳━━━━━━━━┳━━━━━━━━━━┳━━━━━━━━━━┓\n",
       "┃\u001b[1m \u001b[0m\u001b[1mSubject ID\u001b[0m\u001b[1m \u001b[0m┃\u001b[1m \u001b[0m\u001b[1mPrecision\u001b[0m\u001b[1m \u001b[0m┃\u001b[1m \u001b[0m\u001b[1mRecall\u001b[0m\u001b[1m \u001b[0m┃\u001b[1m \u001b[0m\u001b[1mF1-Score\u001b[0m\u001b[1m \u001b[0m┃\u001b[1m \u001b[0m\u001b[1mAccuracy\u001b[0m\u001b[1m \u001b[0m┃\n",
       "┡━━━━━━━━━━━━╇━━━━━━━━━━━╇━━━━━━━━╇━━━━━━━━━━╇━━━━━━━━━━┩\n",
       "│ park3      │ 1.000     │ 1.000  │ 1.000    │ 1.000    │\n",
       "│ ALL        │ 1.000     │ 1.000  │ 1.000    │ 1.000    │\n",
       "└────────────┴───────────┴────────┴──────────┴──────────┘\n"
      ]
     },
     "metadata": {},
     "output_type": "display_data"
    }
   ],
   "source": [
    "DISEASE = \"ndd\"\n",
    "\n",
    "metrics = PerformanceMetrics()\n",
    "subject_ids = get_subject_ids(DATA_DIR, DISEASE)\n",
    "\n",
    "for test_subject in [\"park3\"]:\n",
    "    print(f\"Training on {test_subject} ... \")\n",
    "    y_true, y_pred, model = perform_loocv(\n",
    "        test_subject=test_subject,\n",
    "        val_percentage=VAL_PERCENTAGE,\n",
    "        subject_ids=subject_ids,\n",
    "        dataloader=dataloader,\n",
    "        network=network,\n",
    "        loss=loss,\n",
    "        optimizer=optimizer,\n",
    "        n_epochs=N_EPOCHS\n",
    "    )\n",
    "\n",
    "    metrics.add_entry(test_subject, y_true, y_pred)\n",
    "    model.save_weights(f\"../weights/{DISEASE}/{test_subject}\", save_format=\"h5\")\n",
    "\n",
    "    # break\n",
    "\n",
    "metrics.print_metrics()\n",
    "\n"
   ]
  },
  {
   "cell_type": "code",
   "execution_count": null,
   "metadata": {},
   "outputs": [],
   "source": []
  }
 ],
 "metadata": {
  "kernelspec": {
   "display_name": "Python 3.10.7 ('Ai')",
   "language": "python",
   "name": "python3"
  },
  "language_info": {
   "codemirror_mode": {
    "name": "ipython",
    "version": 3
   },
   "file_extension": ".py",
   "mimetype": "text/x-python",
   "name": "python",
   "nbconvert_exporter": "python",
   "pygments_lexer": "ipython3",
   "version": "3.10.7"
  },
  "orig_nbformat": 4,
  "vscode": {
   "interpreter": {
    "hash": "cc12dd51c08fff59e312c49b5273cbf2a12939660509ea1a4d83cd89b0463726"
   }
  }
 },
 "nbformat": 4,
 "nbformat_minor": 2
}
