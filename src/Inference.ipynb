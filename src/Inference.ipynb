{
 "cells": [
  {
   "cell_type": "code",
   "execution_count": null,
   "metadata": {},
   "outputs": [],
   "source": [
    "import os\n",
    "\n",
    "import tensorflow as tf\n",
    "\n",
    "from utils import (\n",
    "    DataLoader,\n",
    "    PerformanceMetrics,\n",
    "    get_subject_ids,\n",
    "    run_inference,\n",
    "    reset_weights\n",
    ")\n",
    "from models import NDDNet\n",
    "\n",
    "# ... Hide tensorflow debug messages\n",
    "os.environ[\"TF_CPP_MIN_LOG_LEVEL\"] = \"2\"\n",
    "# ... Disable GPU\n",
    "os.environ[\"CUDA_VISIBLE_DEVICES\"] = \"-1\"\n"
   ]
  },
  {
   "cell_type": "markdown",
   "metadata": {},
   "source": [
    "# Config"
   ]
  },
  {
   "cell_type": "code",
   "execution_count": null,
   "metadata": {},
   "outputs": [],
   "source": [
    "ROOT_DIR = os.path.normpath(os.getcwd() + os.sep + os.pardir)\n",
    "DATA_DIR = os.path.join(ROOT_DIR, \"data\", \"gaitndd\")\n",
    "\n",
    "FS = 300\n",
    "N_EPOCHS = 300\n",
    "LEARNING_RATE = 3e-4\n",
    "GRF_SEGMENT_LEN = 120\n",
    "VAL_PERCENTAGE = 0.3\n",
    "MODE = \"combined\""
   ]
  },
  {
   "cell_type": "markdown",
   "metadata": {},
   "source": [
    "# Utils"
   ]
  },
  {
   "cell_type": "code",
   "execution_count": null,
   "metadata": {},
   "outputs": [],
   "source": [
    "all_subject_ids = get_subject_ids(DATA_DIR, \"ndd\")\n",
    "dataloader = DataLoader(DATA_DIR, all_subject_ids)\n",
    "metrics = PerformanceMetrics()\n"
   ]
  },
  {
   "cell_type": "markdown",
   "metadata": {},
   "source": [
    "# Model"
   ]
  },
  {
   "cell_type": "code",
   "execution_count": null,
   "metadata": {},
   "outputs": [],
   "source": [
    "network = NDDNet(\n",
    "    n_classes=2,\n",
    "    n_conv_blocks=3,\n",
    "    n_mlp_layers=0,\n",
    "    kernel_size=3,\n",
    "    conv_channel_width=16,\n",
    "    mlp_channel_width=32,\n",
    "    mode=\"combined\"\n",
    ")\n",
    "\n",
    "loss = tf.keras.losses.SparseCategoricalCrossentropy(from_logits=False)\n",
    "optimizer = tf.keras.optimizers.Adam(learning_rate=LEARNING_RATE)\n"
   ]
  },
  {
   "cell_type": "markdown",
   "metadata": {},
   "source": [
    "# ALS vs HC"
   ]
  },
  {
   "cell_type": "code",
   "execution_count": null,
   "metadata": {},
   "outputs": [],
   "source": [
    "DISEASE = \"als\"\n",
    "WEIGHT_DIR = os.path.join(ROOT_DIR, \"weights\", DISEASE)\n",
    "\n",
    "metrics = PerformanceMetrics()\n",
    "subject_ids = get_subject_ids(DATA_DIR, DISEASE)\n",
    "\n",
    "for test_subject in subject_ids:\n",
    "    print(f\"Running inference on {test_subject} ... \")\n",
    "    y_true, y_pred = run_inference(\n",
    "        test_subject=test_subject,\n",
    "        subject_ids=subject_ids,\n",
    "        dataloader=dataloader,\n",
    "        network=network,\n",
    "        weight_dir=WEIGHT_DIR\n",
    "    )\n",
    "\n",
    "    metrics.add_entry(test_subject, y_true, y_pred)\n",
    "    # model.save_weights(f\"../weights/{DISEASE}/{test_subject}\", save_format=\"h5\")\n",
    "\n",
    "    # break\n",
    "\n",
    "metrics.print_metrics()\n"
   ]
  },
  {
   "cell_type": "markdown",
   "metadata": {},
   "source": [
    "# HD vs HC"
   ]
  },
  {
   "cell_type": "code",
   "execution_count": null,
   "metadata": {},
   "outputs": [],
   "source": [
    "DISEASE = \"hunt\"\n",
    "WEIGHT_DIR = os.path.join(ROOT_DIR, \"weights\", DISEASE)\n",
    "\n",
    "metrics = PerformanceMetrics()\n",
    "subject_ids = get_subject_ids(DATA_DIR, DISEASE)\n",
    "\n",
    "for test_subject in subject_ids:\n",
    "    print(f\"Running inference on {test_subject} ... \")\n",
    "    y_true, y_pred = run_inference(\n",
    "        test_subject=test_subject,\n",
    "        subject_ids=subject_ids,\n",
    "        dataloader=dataloader,\n",
    "        network=network,\n",
    "        weight_dir=WEIGHT_DIR\n",
    "    )\n",
    "\n",
    "    metrics.add_entry(test_subject, y_true, y_pred)\n",
    "    # model.save_weights(f\"../weights/{DISEASE}/{test_subject}\", save_format=\"h5\")\n",
    "\n",
    "    # break\n",
    "\n",
    "metrics.print_metrics()\n"
   ]
  },
  {
   "cell_type": "markdown",
   "metadata": {},
   "source": [
    "# PD vs HC"
   ]
  },
  {
   "cell_type": "code",
   "execution_count": null,
   "metadata": {},
   "outputs": [],
   "source": [
    "DISEASE = \"park\"\n",
    "WEIGHT_DIR = os.path.join(ROOT_DIR, \"weights\", DISEASE)\n",
    "\n",
    "metrics = PerformanceMetrics()\n",
    "subject_ids = get_subject_ids(DATA_DIR, DISEASE)\n",
    "\n",
    "for test_subject in subject_ids:\n",
    "    print(f\"Running inference on {test_subject} ... \")\n",
    "    y_true, y_pred = run_inference(\n",
    "        test_subject=test_subject,\n",
    "        subject_ids=subject_ids,\n",
    "        dataloader=dataloader,\n",
    "        network=network,\n",
    "        weight_dir=WEIGHT_DIR\n",
    "    )\n",
    "\n",
    "    metrics.add_entry(test_subject, y_true, y_pred)\n",
    "    # model.save_weights(f\"../weights/{DISEASE}/{test_subject}\", save_format=\"h5\")\n",
    "\n",
    "    # break\n",
    "\n",
    "metrics.print_metrics()\n"
   ]
  },
  {
   "cell_type": "markdown",
   "metadata": {},
   "source": [
    "# NDD vs HC"
   ]
  },
  {
   "cell_type": "code",
   "execution_count": null,
   "metadata": {},
   "outputs": [],
   "source": [
    "DISEASE = \"ndd\"\n",
    "WEIGHT_DIR = os.path.join(ROOT_DIR, \"weights\", DISEASE)\n",
    "\n",
    "metrics = PerformanceMetrics()\n",
    "subject_ids = get_subject_ids(DATA_DIR, DISEASE)\n",
    "\n",
    "for test_subject in subject_ids:\n",
    "    print(f\"Running inference on {test_subject} ... \")\n",
    "    y_true, y_pred = run_inference(\n",
    "        test_subject=test_subject,\n",
    "        subject_ids=subject_ids,\n",
    "        dataloader=dataloader,\n",
    "        network=network,\n",
    "        weight_dir=WEIGHT_DIR\n",
    "    )\n",
    "\n",
    "    metrics.add_entry(test_subject, y_true, y_pred)\n",
    "    # model.save_weights(f\"../weights/{DISEASE}/{test_subject}\", save_format=\"h5\")\n",
    "\n",
    "    # break\n",
    "\n",
    "metrics.print_metrics()\n"
   ]
  },
  {
   "cell_type": "code",
   "execution_count": null,
   "metadata": {},
   "outputs": [],
   "source": []
  }
 ],
 "metadata": {
  "kernelspec": {
   "display_name": "Python 3.10.5 64-bit",
   "language": "python",
   "name": "python3"
  },
  "language_info": {
   "codemirror_mode": {
    "name": "ipython",
    "version": 3
   },
   "file_extension": ".py",
   "mimetype": "text/x-python",
   "name": "python",
   "nbconvert_exporter": "python",
   "pygments_lexer": "ipython3",
   "version": "3.10.5"
  },
  "orig_nbformat": 4,
  "vscode": {
   "interpreter": {
    "hash": "d0a93a7fe683202793edfe4b36e658855b29d4363e84d08b437ae403e8c6b82e"
   }
  }
 },
 "nbformat": 4,
 "nbformat_minor": 2
}
