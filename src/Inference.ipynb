{
 "cells": [
  {
   "cell_type": "code",
   "execution_count": 1,
   "metadata": {},
   "outputs": [],
   "source": [
    "import os\n",
    "\n",
    "import tensorflow as tf\n",
    "\n",
    "from utils import (\n",
    "    DataLoader,\n",
    "    PerformanceMetrics,\n",
    "    get_subject_ids,\n",
    "    run_inference,\n",
    "    reset_weights\n",
    ")\n",
    "from models import NDDNet\n",
    "\n",
    "# ... Hide tensorflow debug messages\n",
    "os.environ[\"TF_CPP_MIN_LOG_LEVEL\"] = \"2\"\n",
    "# ... Disable GPU\n",
    "os.environ[\"CUDA_VISIBLE_DEVICES\"] = \"-1\"\n"
   ]
  },
  {
   "cell_type": "markdown",
   "metadata": {},
   "source": [
    "# Config"
   ]
  },
  {
   "cell_type": "code",
   "execution_count": 2,
   "metadata": {},
   "outputs": [],
   "source": [
    "ROOT_DIR = os.path.normpath(os.getcwd() + os.sep + os.pardir)\n",
    "DATA_DIR = os.path.join(ROOT_DIR, \"data\", \"gaitndd\")\n",
    "\n",
    "FS = 300\n",
    "N_EPOCHS = 300\n",
    "LEARNING_RATE = 3e-4\n",
    "GRF_SEGMENT_LEN = 120\n",
    "VAL_PERCENTAGE = 0.3\n",
    "MODE = \"combined\""
   ]
  },
  {
   "cell_type": "markdown",
   "metadata": {},
   "source": [
    "# Utils"
   ]
  },
  {
   "cell_type": "code",
   "execution_count": 3,
   "metadata": {},
   "outputs": [
    {
     "data": {
      "application/vnd.jupyter.widget-view+json": {
       "model_id": "40a1d6af3fd047f4b02b501d1625ec3a",
       "version_major": 2,
       "version_minor": 0
      },
      "text/plain": [
       "Output()"
      ]
     },
     "metadata": {},
     "output_type": "display_data"
    },
    {
     "data": {
      "text/html": [
       "<pre style=\"white-space:pre;overflow-x:auto;line-height:normal;font-family:Menlo,'DejaVu Sans Mono',consolas,'Courier New',monospace\"></pre>\n"
      ],
      "text/plain": []
     },
     "metadata": {},
     "output_type": "display_data"
    },
    {
     "data": {
      "text/html": [
       "<pre style=\"white-space:pre;overflow-x:auto;line-height:normal;font-family:Menlo,'DejaVu Sans Mono',consolas,'Courier New',monospace\">\n",
       "</pre>\n"
      ],
      "text/plain": [
       "\n"
      ]
     },
     "metadata": {},
     "output_type": "display_data"
    },
    {
     "data": {
      "text/html": [
       "\n",
       "              <p>\n",
       "                  Progress: 0% Complete\n",
       "              <p/>            \n",
       "              <progress\n",
       "                  value='0'\n",
       "                  max='1',\n",
       "                  style='width: 25%',\n",
       "              >\n",
       "                  0\n",
       "              </progress>\n",
       "\n",
       "    "
      ],
      "text/plain": [
       "<IPython.core.display.HTML object>"
      ]
     },
     "metadata": {},
     "output_type": "display_data"
    },
    {
     "data": {
      "application/vnd.jupyter.widget-view+json": {
       "model_id": "43afcc18a62e44c985cdb0d0025ad081",
       "version_major": 2,
       "version_minor": 0
      },
      "text/plain": [
       "Output()"
      ]
     },
     "metadata": {},
     "output_type": "display_data"
    },
    {
     "name": "stderr",
     "output_type": "stream",
     "text": [
      "C:\\Users\\atick\\AppData\\Roaming\\Python\\Python310\\site-packages\\tsfel\\feature_extraction\\calc_features.py:300: FutureWarning: The frame.append method is deprecated and will be removed from pandas in a future version. Use pandas.concat instead.\n",
      "  features_final = features_final.append(feat)\n"
     ]
    },
    {
     "data": {
      "text/html": [
       "<pre style=\"white-space:pre;overflow-x:auto;line-height:normal;font-family:Menlo,'DejaVu Sans Mono',consolas,'Courier New',monospace\"></pre>\n"
      ],
      "text/plain": []
     },
     "metadata": {},
     "output_type": "display_data"
    },
    {
     "data": {
      "text/html": [
       "<pre style=\"white-space:pre;overflow-x:auto;line-height:normal;font-family:Menlo,'DejaVu Sans Mono',consolas,'Courier New',monospace\">\n",
       "</pre>\n"
      ],
      "text/plain": [
       "\n"
      ]
     },
     "metadata": {},
     "output_type": "display_data"
    },
    {
     "data": {
      "text/html": [
       "\n",
       "              <p>\n",
       "                  Progress: 0% Complete\n",
       "              <p/>            \n",
       "              <progress\n",
       "                  value='0'\n",
       "                  max='1',\n",
       "                  style='width: 25%',\n",
       "              >\n",
       "                  0\n",
       "              </progress>\n",
       "\n",
       "    "
      ],
      "text/plain": [
       "<IPython.core.display.HTML object>"
      ]
     },
     "metadata": {},
     "output_type": "display_data"
    },
    {
     "data": {
      "application/vnd.jupyter.widget-view+json": {
       "model_id": "d8ec0da09b6f4694baba1d5c14ea9005",
       "version_major": 2,
       "version_minor": 0
      },
      "text/plain": [
       "Output()"
      ]
     },
     "metadata": {},
     "output_type": "display_data"
    },
    {
     "name": "stderr",
     "output_type": "stream",
     "text": [
      "C:\\Users\\atick\\AppData\\Roaming\\Python\\Python310\\site-packages\\tsfel\\feature_extraction\\calc_features.py:300: FutureWarning: The frame.append method is deprecated and will be removed from pandas in a future version. Use pandas.concat instead.\n",
      "  features_final = features_final.append(feat)\n"
     ]
    },
    {
     "data": {
      "text/html": [
       "<pre style=\"white-space:pre;overflow-x:auto;line-height:normal;font-family:Menlo,'DejaVu Sans Mono',consolas,'Courier New',monospace\"></pre>\n"
      ],
      "text/plain": []
     },
     "metadata": {},
     "output_type": "display_data"
    },
    {
     "data": {
      "text/html": [
       "<pre style=\"white-space:pre;overflow-x:auto;line-height:normal;font-family:Menlo,'DejaVu Sans Mono',consolas,'Courier New',monospace\">\n",
       "</pre>\n"
      ],
      "text/plain": [
       "\n"
      ]
     },
     "metadata": {},
     "output_type": "display_data"
    },
    {
     "data": {
      "text/html": [
       "\n",
       "              <p>\n",
       "                  Progress: 0% Complete\n",
       "              <p/>            \n",
       "              <progress\n",
       "                  value='0'\n",
       "                  max='1',\n",
       "                  style='width: 25%',\n",
       "              >\n",
       "                  0\n",
       "              </progress>\n",
       "\n",
       "    "
      ],
      "text/plain": [
       "<IPython.core.display.HTML object>"
      ]
     },
     "metadata": {},
     "output_type": "display_data"
    },
    {
     "data": {
      "application/vnd.jupyter.widget-view+json": {
       "model_id": "8b748d5cc8204c0895493bbed74996f0",
       "version_major": 2,
       "version_minor": 0
      },
      "text/plain": [
       "Output()"
      ]
     },
     "metadata": {},
     "output_type": "display_data"
    },
    {
     "name": "stderr",
     "output_type": "stream",
     "text": [
      "C:\\Users\\atick\\AppData\\Roaming\\Python\\Python310\\site-packages\\tsfel\\feature_extraction\\calc_features.py:300: FutureWarning: The frame.append method is deprecated and will be removed from pandas in a future version. Use pandas.concat instead.\n",
      "  features_final = features_final.append(feat)\n"
     ]
    },
    {
     "data": {
      "text/html": [
       "<pre style=\"white-space:pre;overflow-x:auto;line-height:normal;font-family:Menlo,'DejaVu Sans Mono',consolas,'Courier New',monospace\"></pre>\n"
      ],
      "text/plain": []
     },
     "metadata": {},
     "output_type": "display_data"
    },
    {
     "data": {
      "text/html": [
       "<pre style=\"white-space:pre;overflow-x:auto;line-height:normal;font-family:Menlo,'DejaVu Sans Mono',consolas,'Courier New',monospace\">\n",
       "</pre>\n"
      ],
      "text/plain": [
       "\n"
      ]
     },
     "metadata": {},
     "output_type": "display_data"
    },
    {
     "data": {
      "text/html": [
       "\n",
       "              <p>\n",
       "                  Progress: 0% Complete\n",
       "              <p/>            \n",
       "              <progress\n",
       "                  value='0'\n",
       "                  max='1',\n",
       "                  style='width: 25%',\n",
       "              >\n",
       "                  0\n",
       "              </progress>\n",
       "\n",
       "    "
      ],
      "text/plain": [
       "<IPython.core.display.HTML object>"
      ]
     },
     "metadata": {},
     "output_type": "display_data"
    },
    {
     "data": {
      "application/vnd.jupyter.widget-view+json": {
       "model_id": "f8ff048828ec42a08874be92cc0ed529",
       "version_major": 2,
       "version_minor": 0
      },
      "text/plain": [
       "Output()"
      ]
     },
     "metadata": {},
     "output_type": "display_data"
    },
    {
     "name": "stderr",
     "output_type": "stream",
     "text": [
      "C:\\Users\\atick\\AppData\\Roaming\\Python\\Python310\\site-packages\\tsfel\\feature_extraction\\calc_features.py:300: FutureWarning: The frame.append method is deprecated and will be removed from pandas in a future version. Use pandas.concat instead.\n",
      "  features_final = features_final.append(feat)\n"
     ]
    },
    {
     "data": {
      "text/html": [
       "<pre style=\"white-space:pre;overflow-x:auto;line-height:normal;font-family:Menlo,'DejaVu Sans Mono',consolas,'Courier New',monospace\"></pre>\n"
      ],
      "text/plain": []
     },
     "metadata": {},
     "output_type": "display_data"
    },
    {
     "data": {
      "text/html": [
       "<pre style=\"white-space:pre;overflow-x:auto;line-height:normal;font-family:Menlo,'DejaVu Sans Mono',consolas,'Courier New',monospace\">\n",
       "</pre>\n"
      ],
      "text/plain": [
       "\n"
      ]
     },
     "metadata": {},
     "output_type": "display_data"
    },
    {
     "data": {
      "text/html": [
       "\n",
       "              <p>\n",
       "                  Progress: 0% Complete\n",
       "              <p/>            \n",
       "              <progress\n",
       "                  value='0'\n",
       "                  max='1',\n",
       "                  style='width: 25%',\n",
       "              >\n",
       "                  0\n",
       "              </progress>\n",
       "\n",
       "    "
      ],
      "text/plain": [
       "<IPython.core.display.HTML object>"
      ]
     },
     "metadata": {},
     "output_type": "display_data"
    },
    {
     "data": {
      "application/vnd.jupyter.widget-view+json": {
       "model_id": "43b5e3157db24009bb4388bce871f779",
       "version_major": 2,
       "version_minor": 0
      },
      "text/plain": [
       "Output()"
      ]
     },
     "metadata": {},
     "output_type": "display_data"
    },
    {
     "name": "stderr",
     "output_type": "stream",
     "text": [
      "C:\\Users\\atick\\AppData\\Roaming\\Python\\Python310\\site-packages\\tsfel\\feature_extraction\\calc_features.py:300: FutureWarning: The frame.append method is deprecated and will be removed from pandas in a future version. Use pandas.concat instead.\n",
      "  features_final = features_final.append(feat)\n"
     ]
    },
    {
     "data": {
      "text/html": [
       "<pre style=\"white-space:pre;overflow-x:auto;line-height:normal;font-family:Menlo,'DejaVu Sans Mono',consolas,'Courier New',monospace\"></pre>\n"
      ],
      "text/plain": []
     },
     "metadata": {},
     "output_type": "display_data"
    },
    {
     "data": {
      "text/html": [
       "<pre style=\"white-space:pre;overflow-x:auto;line-height:normal;font-family:Menlo,'DejaVu Sans Mono',consolas,'Courier New',monospace\">\n",
       "</pre>\n"
      ],
      "text/plain": [
       "\n"
      ]
     },
     "metadata": {},
     "output_type": "display_data"
    },
    {
     "data": {
      "text/html": [
       "\n",
       "              <p>\n",
       "                  Progress: 0% Complete\n",
       "              <p/>            \n",
       "              <progress\n",
       "                  value='0'\n",
       "                  max='1',\n",
       "                  style='width: 25%',\n",
       "              >\n",
       "                  0\n",
       "              </progress>\n",
       "\n",
       "    "
      ],
      "text/plain": [
       "<IPython.core.display.HTML object>"
      ]
     },
     "metadata": {},
     "output_type": "display_data"
    },
    {
     "data": {
      "application/vnd.jupyter.widget-view+json": {
       "model_id": "8083cb780ec045cb93f842e6bf2fd6c7",
       "version_major": 2,
       "version_minor": 0
      },
      "text/plain": [
       "Output()"
      ]
     },
     "metadata": {},
     "output_type": "display_data"
    },
    {
     "name": "stderr",
     "output_type": "stream",
     "text": [
      "C:\\Users\\atick\\AppData\\Roaming\\Python\\Python310\\site-packages\\tsfel\\feature_extraction\\calc_features.py:300: FutureWarning: The frame.append method is deprecated and will be removed from pandas in a future version. Use pandas.concat instead.\n",
      "  features_final = features_final.append(feat)\n"
     ]
    },
    {
     "data": {
      "text/html": [
       "<pre style=\"white-space:pre;overflow-x:auto;line-height:normal;font-family:Menlo,'DejaVu Sans Mono',consolas,'Courier New',monospace\"></pre>\n"
      ],
      "text/plain": []
     },
     "metadata": {},
     "output_type": "display_data"
    },
    {
     "data": {
      "text/html": [
       "<pre style=\"white-space:pre;overflow-x:auto;line-height:normal;font-family:Menlo,'DejaVu Sans Mono',consolas,'Courier New',monospace\">\n",
       "</pre>\n"
      ],
      "text/plain": [
       "\n"
      ]
     },
     "metadata": {},
     "output_type": "display_data"
    },
    {
     "data": {
      "text/html": [
       "\n",
       "              <p>\n",
       "                  Progress: 0% Complete\n",
       "              <p/>            \n",
       "              <progress\n",
       "                  value='0'\n",
       "                  max='1',\n",
       "                  style='width: 25%',\n",
       "              >\n",
       "                  0\n",
       "              </progress>\n",
       "\n",
       "    "
      ],
      "text/plain": [
       "<IPython.core.display.HTML object>"
      ]
     },
     "metadata": {},
     "output_type": "display_data"
    },
    {
     "data": {
      "application/vnd.jupyter.widget-view+json": {
       "model_id": "d48ca3e08dcf47878abfe65bf15f8f5f",
       "version_major": 2,
       "version_minor": 0
      },
      "text/plain": [
       "Output()"
      ]
     },
     "metadata": {},
     "output_type": "display_data"
    },
    {
     "name": "stderr",
     "output_type": "stream",
     "text": [
      "C:\\Users\\atick\\AppData\\Roaming\\Python\\Python310\\site-packages\\tsfel\\feature_extraction\\calc_features.py:300: FutureWarning: The frame.append method is deprecated and will be removed from pandas in a future version. Use pandas.concat instead.\n",
      "  features_final = features_final.append(feat)\n"
     ]
    },
    {
     "data": {
      "text/html": [
       "<pre style=\"white-space:pre;overflow-x:auto;line-height:normal;font-family:Menlo,'DejaVu Sans Mono',consolas,'Courier New',monospace\"></pre>\n"
      ],
      "text/plain": []
     },
     "metadata": {},
     "output_type": "display_data"
    },
    {
     "data": {
      "text/html": [
       "<pre style=\"white-space:pre;overflow-x:auto;line-height:normal;font-family:Menlo,'DejaVu Sans Mono',consolas,'Courier New',monospace\">\n",
       "</pre>\n"
      ],
      "text/plain": [
       "\n"
      ]
     },
     "metadata": {},
     "output_type": "display_data"
    },
    {
     "data": {
      "text/html": [
       "\n",
       "              <p>\n",
       "                  Progress: 0% Complete\n",
       "              <p/>            \n",
       "              <progress\n",
       "                  value='0'\n",
       "                  max='1',\n",
       "                  style='width: 25%',\n",
       "              >\n",
       "                  0\n",
       "              </progress>\n",
       "\n",
       "    "
      ],
      "text/plain": [
       "<IPython.core.display.HTML object>"
      ]
     },
     "metadata": {},
     "output_type": "display_data"
    },
    {
     "data": {
      "application/vnd.jupyter.widget-view+json": {
       "model_id": "2cb0ac929c08433c8943b7f5da581acf",
       "version_major": 2,
       "version_minor": 0
      },
      "text/plain": [
       "Output()"
      ]
     },
     "metadata": {},
     "output_type": "display_data"
    },
    {
     "name": "stderr",
     "output_type": "stream",
     "text": [
      "C:\\Users\\atick\\AppData\\Roaming\\Python\\Python310\\site-packages\\tsfel\\feature_extraction\\calc_features.py:300: FutureWarning: The frame.append method is deprecated and will be removed from pandas in a future version. Use pandas.concat instead.\n",
      "  features_final = features_final.append(feat)\n"
     ]
    },
    {
     "data": {
      "text/html": [
       "<pre style=\"white-space:pre;overflow-x:auto;line-height:normal;font-family:Menlo,'DejaVu Sans Mono',consolas,'Courier New',monospace\"></pre>\n"
      ],
      "text/plain": []
     },
     "metadata": {},
     "output_type": "display_data"
    },
    {
     "data": {
      "text/html": [
       "<pre style=\"white-space:pre;overflow-x:auto;line-height:normal;font-family:Menlo,'DejaVu Sans Mono',consolas,'Courier New',monospace\">\n",
       "</pre>\n"
      ],
      "text/plain": [
       "\n"
      ]
     },
     "metadata": {},
     "output_type": "display_data"
    },
    {
     "data": {
      "text/html": [
       "\n",
       "              <p>\n",
       "                  Progress: 0% Complete\n",
       "              <p/>            \n",
       "              <progress\n",
       "                  value='0'\n",
       "                  max='1',\n",
       "                  style='width: 25%',\n",
       "              >\n",
       "                  0\n",
       "              </progress>\n",
       "\n",
       "    "
      ],
      "text/plain": [
       "<IPython.core.display.HTML object>"
      ]
     },
     "metadata": {},
     "output_type": "display_data"
    },
    {
     "data": {
      "application/vnd.jupyter.widget-view+json": {
       "model_id": "02d17d34170f4f3c8a5dadef99d39d20",
       "version_major": 2,
       "version_minor": 0
      },
      "text/plain": [
       "Output()"
      ]
     },
     "metadata": {},
     "output_type": "display_data"
    },
    {
     "name": "stderr",
     "output_type": "stream",
     "text": [
      "C:\\Users\\atick\\AppData\\Roaming\\Python\\Python310\\site-packages\\tsfel\\feature_extraction\\calc_features.py:300: FutureWarning: The frame.append method is deprecated and will be removed from pandas in a future version. Use pandas.concat instead.\n",
      "  features_final = features_final.append(feat)\n"
     ]
    },
    {
     "data": {
      "text/html": [
       "<pre style=\"white-space:pre;overflow-x:auto;line-height:normal;font-family:Menlo,'DejaVu Sans Mono',consolas,'Courier New',monospace\"></pre>\n"
      ],
      "text/plain": []
     },
     "metadata": {},
     "output_type": "display_data"
    },
    {
     "data": {
      "text/html": [
       "<pre style=\"white-space:pre;overflow-x:auto;line-height:normal;font-family:Menlo,'DejaVu Sans Mono',consolas,'Courier New',monospace\">\n",
       "</pre>\n"
      ],
      "text/plain": [
       "\n"
      ]
     },
     "metadata": {},
     "output_type": "display_data"
    },
    {
     "data": {
      "text/html": [
       "\n",
       "              <p>\n",
       "                  Progress: 0% Complete\n",
       "              <p/>            \n",
       "              <progress\n",
       "                  value='0'\n",
       "                  max='1',\n",
       "                  style='width: 25%',\n",
       "              >\n",
       "                  0\n",
       "              </progress>\n",
       "\n",
       "    "
      ],
      "text/plain": [
       "<IPython.core.display.HTML object>"
      ]
     },
     "metadata": {},
     "output_type": "display_data"
    },
    {
     "data": {
      "application/vnd.jupyter.widget-view+json": {
       "model_id": "381055c521884bd48533b4d9400e3eae",
       "version_major": 2,
       "version_minor": 0
      },
      "text/plain": [
       "Output()"
      ]
     },
     "metadata": {},
     "output_type": "display_data"
    },
    {
     "name": "stderr",
     "output_type": "stream",
     "text": [
      "C:\\Users\\atick\\AppData\\Roaming\\Python\\Python310\\site-packages\\tsfel\\feature_extraction\\calc_features.py:300: FutureWarning: The frame.append method is deprecated and will be removed from pandas in a future version. Use pandas.concat instead.\n",
      "  features_final = features_final.append(feat)\n"
     ]
    },
    {
     "data": {
      "text/html": [
       "<pre style=\"white-space:pre;overflow-x:auto;line-height:normal;font-family:Menlo,'DejaVu Sans Mono',consolas,'Courier New',monospace\"></pre>\n"
      ],
      "text/plain": []
     },
     "metadata": {},
     "output_type": "display_data"
    },
    {
     "data": {
      "text/html": [
       "<pre style=\"white-space:pre;overflow-x:auto;line-height:normal;font-family:Menlo,'DejaVu Sans Mono',consolas,'Courier New',monospace\">\n",
       "</pre>\n"
      ],
      "text/plain": [
       "\n"
      ]
     },
     "metadata": {},
     "output_type": "display_data"
    },
    {
     "data": {
      "text/html": [
       "\n",
       "              <p>\n",
       "                  Progress: 0% Complete\n",
       "              <p/>            \n",
       "              <progress\n",
       "                  value='0'\n",
       "                  max='1',\n",
       "                  style='width: 25%',\n",
       "              >\n",
       "                  0\n",
       "              </progress>\n",
       "\n",
       "    "
      ],
      "text/plain": [
       "<IPython.core.display.HTML object>"
      ]
     },
     "metadata": {},
     "output_type": "display_data"
    },
    {
     "data": {
      "application/vnd.jupyter.widget-view+json": {
       "model_id": "3eba4f65a7b84a94a11abb8fc9388574",
       "version_major": 2,
       "version_minor": 0
      },
      "text/plain": [
       "Output()"
      ]
     },
     "metadata": {},
     "output_type": "display_data"
    },
    {
     "name": "stderr",
     "output_type": "stream",
     "text": [
      "C:\\Users\\atick\\AppData\\Roaming\\Python\\Python310\\site-packages\\tsfel\\feature_extraction\\calc_features.py:300: FutureWarning: The frame.append method is deprecated and will be removed from pandas in a future version. Use pandas.concat instead.\n",
      "  features_final = features_final.append(feat)\n"
     ]
    },
    {
     "data": {
      "text/html": [
       "<pre style=\"white-space:pre;overflow-x:auto;line-height:normal;font-family:Menlo,'DejaVu Sans Mono',consolas,'Courier New',monospace\"></pre>\n"
      ],
      "text/plain": []
     },
     "metadata": {},
     "output_type": "display_data"
    },
    {
     "data": {
      "text/html": [
       "<pre style=\"white-space:pre;overflow-x:auto;line-height:normal;font-family:Menlo,'DejaVu Sans Mono',consolas,'Courier New',monospace\">\n",
       "</pre>\n"
      ],
      "text/plain": [
       "\n"
      ]
     },
     "metadata": {},
     "output_type": "display_data"
    },
    {
     "data": {
      "text/html": [
       "\n",
       "              <p>\n",
       "                  Progress: 0% Complete\n",
       "              <p/>            \n",
       "              <progress\n",
       "                  value='0'\n",
       "                  max='1',\n",
       "                  style='width: 25%',\n",
       "              >\n",
       "                  0\n",
       "              </progress>\n",
       "\n",
       "    "
      ],
      "text/plain": [
       "<IPython.core.display.HTML object>"
      ]
     },
     "metadata": {},
     "output_type": "display_data"
    },
    {
     "data": {
      "application/vnd.jupyter.widget-view+json": {
       "model_id": "c5d6b2b511df45c8af221b5a0486661d",
       "version_major": 2,
       "version_minor": 0
      },
      "text/plain": [
       "Output()"
      ]
     },
     "metadata": {},
     "output_type": "display_data"
    },
    {
     "name": "stderr",
     "output_type": "stream",
     "text": [
      "C:\\Users\\atick\\AppData\\Roaming\\Python\\Python310\\site-packages\\tsfel\\feature_extraction\\calc_features.py:300: FutureWarning: The frame.append method is deprecated and will be removed from pandas in a future version. Use pandas.concat instead.\n",
      "  features_final = features_final.append(feat)\n"
     ]
    },
    {
     "data": {
      "text/html": [
       "<pre style=\"white-space:pre;overflow-x:auto;line-height:normal;font-family:Menlo,'DejaVu Sans Mono',consolas,'Courier New',monospace\"></pre>\n"
      ],
      "text/plain": []
     },
     "metadata": {},
     "output_type": "display_data"
    },
    {
     "data": {
      "text/html": [
       "<pre style=\"white-space:pre;overflow-x:auto;line-height:normal;font-family:Menlo,'DejaVu Sans Mono',consolas,'Courier New',monospace\">\n",
       "</pre>\n"
      ],
      "text/plain": [
       "\n"
      ]
     },
     "metadata": {},
     "output_type": "display_data"
    },
    {
     "data": {
      "text/html": [
       "\n",
       "              <p>\n",
       "                  Progress: 0% Complete\n",
       "              <p/>            \n",
       "              <progress\n",
       "                  value='0'\n",
       "                  max='1',\n",
       "                  style='width: 25%',\n",
       "              >\n",
       "                  0\n",
       "              </progress>\n",
       "\n",
       "    "
      ],
      "text/plain": [
       "<IPython.core.display.HTML object>"
      ]
     },
     "metadata": {},
     "output_type": "display_data"
    },
    {
     "data": {
      "application/vnd.jupyter.widget-view+json": {
       "model_id": "af0551d690414a2f90d312b2eeff161c",
       "version_major": 2,
       "version_minor": 0
      },
      "text/plain": [
       "Output()"
      ]
     },
     "metadata": {},
     "output_type": "display_data"
    },
    {
     "name": "stderr",
     "output_type": "stream",
     "text": [
      "C:\\Users\\atick\\AppData\\Roaming\\Python\\Python310\\site-packages\\tsfel\\feature_extraction\\calc_features.py:300: FutureWarning: The frame.append method is deprecated and will be removed from pandas in a future version. Use pandas.concat instead.\n",
      "  features_final = features_final.append(feat)\n"
     ]
    },
    {
     "data": {
      "text/html": [
       "<pre style=\"white-space:pre;overflow-x:auto;line-height:normal;font-family:Menlo,'DejaVu Sans Mono',consolas,'Courier New',monospace\"></pre>\n"
      ],
      "text/plain": []
     },
     "metadata": {},
     "output_type": "display_data"
    },
    {
     "data": {
      "text/html": [
       "<pre style=\"white-space:pre;overflow-x:auto;line-height:normal;font-family:Menlo,'DejaVu Sans Mono',consolas,'Courier New',monospace\">\n",
       "</pre>\n"
      ],
      "text/plain": [
       "\n"
      ]
     },
     "metadata": {},
     "output_type": "display_data"
    },
    {
     "data": {
      "text/html": [
       "\n",
       "              <p>\n",
       "                  Progress: 0% Complete\n",
       "              <p/>            \n",
       "              <progress\n",
       "                  value='0'\n",
       "                  max='1',\n",
       "                  style='width: 25%',\n",
       "              >\n",
       "                  0\n",
       "              </progress>\n",
       "\n",
       "    "
      ],
      "text/plain": [
       "<IPython.core.display.HTML object>"
      ]
     },
     "metadata": {},
     "output_type": "display_data"
    },
    {
     "data": {
      "application/vnd.jupyter.widget-view+json": {
       "model_id": "4ebe41c173f446e78e96dafacf08e045",
       "version_major": 2,
       "version_minor": 0
      },
      "text/plain": [
       "Output()"
      ]
     },
     "metadata": {},
     "output_type": "display_data"
    },
    {
     "name": "stderr",
     "output_type": "stream",
     "text": [
      "C:\\Users\\atick\\AppData\\Roaming\\Python\\Python310\\site-packages\\tsfel\\feature_extraction\\calc_features.py:300: FutureWarning: The frame.append method is deprecated and will be removed from pandas in a future version. Use pandas.concat instead.\n",
      "  features_final = features_final.append(feat)\n"
     ]
    },
    {
     "data": {
      "text/html": [
       "<pre style=\"white-space:pre;overflow-x:auto;line-height:normal;font-family:Menlo,'DejaVu Sans Mono',consolas,'Courier New',monospace\"></pre>\n"
      ],
      "text/plain": []
     },
     "metadata": {},
     "output_type": "display_data"
    },
    {
     "data": {
      "text/html": [
       "<pre style=\"white-space:pre;overflow-x:auto;line-height:normal;font-family:Menlo,'DejaVu Sans Mono',consolas,'Courier New',monospace\">\n",
       "</pre>\n"
      ],
      "text/plain": [
       "\n"
      ]
     },
     "metadata": {},
     "output_type": "display_data"
    },
    {
     "data": {
      "text/html": [
       "\n",
       "              <p>\n",
       "                  Progress: 0% Complete\n",
       "              <p/>            \n",
       "              <progress\n",
       "                  value='0'\n",
       "                  max='1',\n",
       "                  style='width: 25%',\n",
       "              >\n",
       "                  0\n",
       "              </progress>\n",
       "\n",
       "    "
      ],
      "text/plain": [
       "<IPython.core.display.HTML object>"
      ]
     },
     "metadata": {},
     "output_type": "display_data"
    },
    {
     "data": {
      "application/vnd.jupyter.widget-view+json": {
       "model_id": "5d2912f07ab34001bf22d8f3e7ff2270",
       "version_major": 2,
       "version_minor": 0
      },
      "text/plain": [
       "Output()"
      ]
     },
     "metadata": {},
     "output_type": "display_data"
    },
    {
     "name": "stderr",
     "output_type": "stream",
     "text": [
      "C:\\Users\\atick\\AppData\\Roaming\\Python\\Python310\\site-packages\\tsfel\\feature_extraction\\calc_features.py:300: FutureWarning: The frame.append method is deprecated and will be removed from pandas in a future version. Use pandas.concat instead.\n",
      "  features_final = features_final.append(feat)\n"
     ]
    },
    {
     "data": {
      "text/html": [
       "<pre style=\"white-space:pre;overflow-x:auto;line-height:normal;font-family:Menlo,'DejaVu Sans Mono',consolas,'Courier New',monospace\"></pre>\n"
      ],
      "text/plain": []
     },
     "metadata": {},
     "output_type": "display_data"
    },
    {
     "data": {
      "text/html": [
       "<pre style=\"white-space:pre;overflow-x:auto;line-height:normal;font-family:Menlo,'DejaVu Sans Mono',consolas,'Courier New',monospace\">\n",
       "</pre>\n"
      ],
      "text/plain": [
       "\n"
      ]
     },
     "metadata": {},
     "output_type": "display_data"
    },
    {
     "data": {
      "text/html": [
       "\n",
       "              <p>\n",
       "                  Progress: 0% Complete\n",
       "              <p/>            \n",
       "              <progress\n",
       "                  value='0'\n",
       "                  max='1',\n",
       "                  style='width: 25%',\n",
       "              >\n",
       "                  0\n",
       "              </progress>\n",
       "\n",
       "    "
      ],
      "text/plain": [
       "<IPython.core.display.HTML object>"
      ]
     },
     "metadata": {},
     "output_type": "display_data"
    },
    {
     "data": {
      "application/vnd.jupyter.widget-view+json": {
       "model_id": "86258de55e784ea6ac7a7831054a1359",
       "version_major": 2,
       "version_minor": 0
      },
      "text/plain": [
       "Output()"
      ]
     },
     "metadata": {},
     "output_type": "display_data"
    },
    {
     "name": "stderr",
     "output_type": "stream",
     "text": [
      "C:\\Users\\atick\\AppData\\Roaming\\Python\\Python310\\site-packages\\tsfel\\feature_extraction\\calc_features.py:300: FutureWarning: The frame.append method is deprecated and will be removed from pandas in a future version. Use pandas.concat instead.\n",
      "  features_final = features_final.append(feat)\n"
     ]
    },
    {
     "data": {
      "text/html": [
       "<pre style=\"white-space:pre;overflow-x:auto;line-height:normal;font-family:Menlo,'DejaVu Sans Mono',consolas,'Courier New',monospace\"></pre>\n"
      ],
      "text/plain": []
     },
     "metadata": {},
     "output_type": "display_data"
    },
    {
     "data": {
      "text/html": [
       "<pre style=\"white-space:pre;overflow-x:auto;line-height:normal;font-family:Menlo,'DejaVu Sans Mono',consolas,'Courier New',monospace\">\n",
       "</pre>\n"
      ],
      "text/plain": [
       "\n"
      ]
     },
     "metadata": {},
     "output_type": "display_data"
    },
    {
     "data": {
      "text/html": [
       "\n",
       "              <p>\n",
       "                  Progress: 0% Complete\n",
       "              <p/>            \n",
       "              <progress\n",
       "                  value='0'\n",
       "                  max='1',\n",
       "                  style='width: 25%',\n",
       "              >\n",
       "                  0\n",
       "              </progress>\n",
       "\n",
       "    "
      ],
      "text/plain": [
       "<IPython.core.display.HTML object>"
      ]
     },
     "metadata": {},
     "output_type": "display_data"
    },
    {
     "data": {
      "application/vnd.jupyter.widget-view+json": {
       "model_id": "0fa9ccf889f840f4b49e386ca2522252",
       "version_major": 2,
       "version_minor": 0
      },
      "text/plain": [
       "Output()"
      ]
     },
     "metadata": {},
     "output_type": "display_data"
    },
    {
     "name": "stderr",
     "output_type": "stream",
     "text": [
      "C:\\Users\\atick\\AppData\\Roaming\\Python\\Python310\\site-packages\\tsfel\\feature_extraction\\calc_features.py:300: FutureWarning: The frame.append method is deprecated and will be removed from pandas in a future version. Use pandas.concat instead.\n",
      "  features_final = features_final.append(feat)\n"
     ]
    },
    {
     "data": {
      "text/html": [
       "<pre style=\"white-space:pre;overflow-x:auto;line-height:normal;font-family:Menlo,'DejaVu Sans Mono',consolas,'Courier New',monospace\"></pre>\n"
      ],
      "text/plain": []
     },
     "metadata": {},
     "output_type": "display_data"
    },
    {
     "data": {
      "text/html": [
       "<pre style=\"white-space:pre;overflow-x:auto;line-height:normal;font-family:Menlo,'DejaVu Sans Mono',consolas,'Courier New',monospace\">\n",
       "</pre>\n"
      ],
      "text/plain": [
       "\n"
      ]
     },
     "metadata": {},
     "output_type": "display_data"
    },
    {
     "data": {
      "text/html": [
       "\n",
       "              <p>\n",
       "                  Progress: 0% Complete\n",
       "              <p/>            \n",
       "              <progress\n",
       "                  value='0'\n",
       "                  max='1',\n",
       "                  style='width: 25%',\n",
       "              >\n",
       "                  0\n",
       "              </progress>\n",
       "\n",
       "    "
      ],
      "text/plain": [
       "<IPython.core.display.HTML object>"
      ]
     },
     "metadata": {},
     "output_type": "display_data"
    },
    {
     "data": {
      "application/vnd.jupyter.widget-view+json": {
       "model_id": "ca2107b12d8341a08aaadbbc8aedbed9",
       "version_major": 2,
       "version_minor": 0
      },
      "text/plain": [
       "Output()"
      ]
     },
     "metadata": {},
     "output_type": "display_data"
    },
    {
     "name": "stderr",
     "output_type": "stream",
     "text": [
      "C:\\Users\\atick\\AppData\\Roaming\\Python\\Python310\\site-packages\\tsfel\\feature_extraction\\calc_features.py:300: FutureWarning: The frame.append method is deprecated and will be removed from pandas in a future version. Use pandas.concat instead.\n",
      "  features_final = features_final.append(feat)\n"
     ]
    },
    {
     "data": {
      "text/html": [
       "<pre style=\"white-space:pre;overflow-x:auto;line-height:normal;font-family:Menlo,'DejaVu Sans Mono',consolas,'Courier New',monospace\"></pre>\n"
      ],
      "text/plain": []
     },
     "metadata": {},
     "output_type": "display_data"
    },
    {
     "data": {
      "text/html": [
       "<pre style=\"white-space:pre;overflow-x:auto;line-height:normal;font-family:Menlo,'DejaVu Sans Mono',consolas,'Courier New',monospace\">\n",
       "</pre>\n"
      ],
      "text/plain": [
       "\n"
      ]
     },
     "metadata": {},
     "output_type": "display_data"
    },
    {
     "data": {
      "text/html": [
       "\n",
       "              <p>\n",
       "                  Progress: 0% Complete\n",
       "              <p/>            \n",
       "              <progress\n",
       "                  value='0'\n",
       "                  max='1',\n",
       "                  style='width: 25%',\n",
       "              >\n",
       "                  0\n",
       "              </progress>\n",
       "\n",
       "    "
      ],
      "text/plain": [
       "<IPython.core.display.HTML object>"
      ]
     },
     "metadata": {},
     "output_type": "display_data"
    },
    {
     "data": {
      "application/vnd.jupyter.widget-view+json": {
       "model_id": "c4465dd3f3324ccd9cb1d4dbac03fcdc",
       "version_major": 2,
       "version_minor": 0
      },
      "text/plain": [
       "Output()"
      ]
     },
     "metadata": {},
     "output_type": "display_data"
    },
    {
     "name": "stderr",
     "output_type": "stream",
     "text": [
      "C:\\Users\\atick\\AppData\\Roaming\\Python\\Python310\\site-packages\\tsfel\\feature_extraction\\calc_features.py:300: FutureWarning: The frame.append method is deprecated and will be removed from pandas in a future version. Use pandas.concat instead.\n",
      "  features_final = features_final.append(feat)\n"
     ]
    },
    {
     "data": {
      "text/html": [
       "<pre style=\"white-space:pre;overflow-x:auto;line-height:normal;font-family:Menlo,'DejaVu Sans Mono',consolas,'Courier New',monospace\"></pre>\n"
      ],
      "text/plain": []
     },
     "metadata": {},
     "output_type": "display_data"
    },
    {
     "data": {
      "text/html": [
       "<pre style=\"white-space:pre;overflow-x:auto;line-height:normal;font-family:Menlo,'DejaVu Sans Mono',consolas,'Courier New',monospace\">\n",
       "</pre>\n"
      ],
      "text/plain": [
       "\n"
      ]
     },
     "metadata": {},
     "output_type": "display_data"
    },
    {
     "data": {
      "text/html": [
       "\n",
       "              <p>\n",
       "                  Progress: 0% Complete\n",
       "              <p/>            \n",
       "              <progress\n",
       "                  value='0'\n",
       "                  max='1',\n",
       "                  style='width: 25%',\n",
       "              >\n",
       "                  0\n",
       "              </progress>\n",
       "\n",
       "    "
      ],
      "text/plain": [
       "<IPython.core.display.HTML object>"
      ]
     },
     "metadata": {},
     "output_type": "display_data"
    },
    {
     "data": {
      "application/vnd.jupyter.widget-view+json": {
       "model_id": "4079a5329ba44e37adebbcbe1fc4940e",
       "version_major": 2,
       "version_minor": 0
      },
      "text/plain": [
       "Output()"
      ]
     },
     "metadata": {},
     "output_type": "display_data"
    },
    {
     "name": "stderr",
     "output_type": "stream",
     "text": [
      "C:\\Users\\atick\\AppData\\Roaming\\Python\\Python310\\site-packages\\tsfel\\feature_extraction\\calc_features.py:300: FutureWarning: The frame.append method is deprecated and will be removed from pandas in a future version. Use pandas.concat instead.\n",
      "  features_final = features_final.append(feat)\n"
     ]
    },
    {
     "data": {
      "text/html": [
       "<pre style=\"white-space:pre;overflow-x:auto;line-height:normal;font-family:Menlo,'DejaVu Sans Mono',consolas,'Courier New',monospace\"></pre>\n"
      ],
      "text/plain": []
     },
     "metadata": {},
     "output_type": "display_data"
    },
    {
     "data": {
      "text/html": [
       "<pre style=\"white-space:pre;overflow-x:auto;line-height:normal;font-family:Menlo,'DejaVu Sans Mono',consolas,'Courier New',monospace\">\n",
       "</pre>\n"
      ],
      "text/plain": [
       "\n"
      ]
     },
     "metadata": {},
     "output_type": "display_data"
    },
    {
     "data": {
      "text/html": [
       "\n",
       "              <p>\n",
       "                  Progress: 0% Complete\n",
       "              <p/>            \n",
       "              <progress\n",
       "                  value='0'\n",
       "                  max='1',\n",
       "                  style='width: 25%',\n",
       "              >\n",
       "                  0\n",
       "              </progress>\n",
       "\n",
       "    "
      ],
      "text/plain": [
       "<IPython.core.display.HTML object>"
      ]
     },
     "metadata": {},
     "output_type": "display_data"
    },
    {
     "data": {
      "application/vnd.jupyter.widget-view+json": {
       "model_id": "0d7bf194333e4c06baa65d9020e8f26e",
       "version_major": 2,
       "version_minor": 0
      },
      "text/plain": [
       "Output()"
      ]
     },
     "metadata": {},
     "output_type": "display_data"
    },
    {
     "name": "stderr",
     "output_type": "stream",
     "text": [
      "C:\\Users\\atick\\AppData\\Roaming\\Python\\Python310\\site-packages\\tsfel\\feature_extraction\\calc_features.py:300: FutureWarning: The frame.append method is deprecated and will be removed from pandas in a future version. Use pandas.concat instead.\n",
      "  features_final = features_final.append(feat)\n"
     ]
    },
    {
     "data": {
      "text/html": [
       "<pre style=\"white-space:pre;overflow-x:auto;line-height:normal;font-family:Menlo,'DejaVu Sans Mono',consolas,'Courier New',monospace\"></pre>\n"
      ],
      "text/plain": []
     },
     "metadata": {},
     "output_type": "display_data"
    },
    {
     "data": {
      "text/html": [
       "<pre style=\"white-space:pre;overflow-x:auto;line-height:normal;font-family:Menlo,'DejaVu Sans Mono',consolas,'Courier New',monospace\">\n",
       "</pre>\n"
      ],
      "text/plain": [
       "\n"
      ]
     },
     "metadata": {},
     "output_type": "display_data"
    },
    {
     "data": {
      "text/html": [
       "\n",
       "              <p>\n",
       "                  Progress: 0% Complete\n",
       "              <p/>            \n",
       "              <progress\n",
       "                  value='0'\n",
       "                  max='1',\n",
       "                  style='width: 25%',\n",
       "              >\n",
       "                  0\n",
       "              </progress>\n",
       "\n",
       "    "
      ],
      "text/plain": [
       "<IPython.core.display.HTML object>"
      ]
     },
     "metadata": {},
     "output_type": "display_data"
    },
    {
     "data": {
      "application/vnd.jupyter.widget-view+json": {
       "model_id": "8a949fc15c7f4cb3974ac7fd9b491708",
       "version_major": 2,
       "version_minor": 0
      },
      "text/plain": [
       "Output()"
      ]
     },
     "metadata": {},
     "output_type": "display_data"
    },
    {
     "name": "stderr",
     "output_type": "stream",
     "text": [
      "C:\\Users\\atick\\AppData\\Roaming\\Python\\Python310\\site-packages\\tsfel\\feature_extraction\\calc_features.py:300: FutureWarning: The frame.append method is deprecated and will be removed from pandas in a future version. Use pandas.concat instead.\n",
      "  features_final = features_final.append(feat)\n"
     ]
    },
    {
     "data": {
      "text/html": [
       "<pre style=\"white-space:pre;overflow-x:auto;line-height:normal;font-family:Menlo,'DejaVu Sans Mono',consolas,'Courier New',monospace\"></pre>\n"
      ],
      "text/plain": []
     },
     "metadata": {},
     "output_type": "display_data"
    },
    {
     "data": {
      "text/html": [
       "<pre style=\"white-space:pre;overflow-x:auto;line-height:normal;font-family:Menlo,'DejaVu Sans Mono',consolas,'Courier New',monospace\">\n",
       "</pre>\n"
      ],
      "text/plain": [
       "\n"
      ]
     },
     "metadata": {},
     "output_type": "display_data"
    },
    {
     "data": {
      "text/html": [
       "\n",
       "              <p>\n",
       "                  Progress: 0% Complete\n",
       "              <p/>            \n",
       "              <progress\n",
       "                  value='0'\n",
       "                  max='1',\n",
       "                  style='width: 25%',\n",
       "              >\n",
       "                  0\n",
       "              </progress>\n",
       "\n",
       "    "
      ],
      "text/plain": [
       "<IPython.core.display.HTML object>"
      ]
     },
     "metadata": {},
     "output_type": "display_data"
    },
    {
     "data": {
      "application/vnd.jupyter.widget-view+json": {
       "model_id": "92b5d03916af4eaab2c01c1db27caa8c",
       "version_major": 2,
       "version_minor": 0
      },
      "text/plain": [
       "Output()"
      ]
     },
     "metadata": {},
     "output_type": "display_data"
    },
    {
     "name": "stderr",
     "output_type": "stream",
     "text": [
      "C:\\Users\\atick\\AppData\\Roaming\\Python\\Python310\\site-packages\\tsfel\\feature_extraction\\calc_features.py:300: FutureWarning: The frame.append method is deprecated and will be removed from pandas in a future version. Use pandas.concat instead.\n",
      "  features_final = features_final.append(feat)\n"
     ]
    },
    {
     "data": {
      "text/html": [
       "<pre style=\"white-space:pre;overflow-x:auto;line-height:normal;font-family:Menlo,'DejaVu Sans Mono',consolas,'Courier New',monospace\"></pre>\n"
      ],
      "text/plain": []
     },
     "metadata": {},
     "output_type": "display_data"
    },
    {
     "data": {
      "text/html": [
       "<pre style=\"white-space:pre;overflow-x:auto;line-height:normal;font-family:Menlo,'DejaVu Sans Mono',consolas,'Courier New',monospace\">\n",
       "</pre>\n"
      ],
      "text/plain": [
       "\n"
      ]
     },
     "metadata": {},
     "output_type": "display_data"
    },
    {
     "data": {
      "text/html": [
       "\n",
       "              <p>\n",
       "                  Progress: 0% Complete\n",
       "              <p/>            \n",
       "              <progress\n",
       "                  value='0'\n",
       "                  max='1',\n",
       "                  style='width: 25%',\n",
       "              >\n",
       "                  0\n",
       "              </progress>\n",
       "\n",
       "    "
      ],
      "text/plain": [
       "<IPython.core.display.HTML object>"
      ]
     },
     "metadata": {},
     "output_type": "display_data"
    },
    {
     "data": {
      "application/vnd.jupyter.widget-view+json": {
       "model_id": "41ee7b6f3e81410487201aa2f1dce6f2",
       "version_major": 2,
       "version_minor": 0
      },
      "text/plain": [
       "Output()"
      ]
     },
     "metadata": {},
     "output_type": "display_data"
    },
    {
     "name": "stderr",
     "output_type": "stream",
     "text": [
      "C:\\Users\\atick\\AppData\\Roaming\\Python\\Python310\\site-packages\\tsfel\\feature_extraction\\calc_features.py:300: FutureWarning: The frame.append method is deprecated and will be removed from pandas in a future version. Use pandas.concat instead.\n",
      "  features_final = features_final.append(feat)\n"
     ]
    },
    {
     "data": {
      "text/html": [
       "<pre style=\"white-space:pre;overflow-x:auto;line-height:normal;font-family:Menlo,'DejaVu Sans Mono',consolas,'Courier New',monospace\"></pre>\n"
      ],
      "text/plain": []
     },
     "metadata": {},
     "output_type": "display_data"
    },
    {
     "data": {
      "text/html": [
       "<pre style=\"white-space:pre;overflow-x:auto;line-height:normal;font-family:Menlo,'DejaVu Sans Mono',consolas,'Courier New',monospace\">\n",
       "</pre>\n"
      ],
      "text/plain": [
       "\n"
      ]
     },
     "metadata": {},
     "output_type": "display_data"
    },
    {
     "data": {
      "text/html": [
       "\n",
       "              <p>\n",
       "                  Progress: 0% Complete\n",
       "              <p/>            \n",
       "              <progress\n",
       "                  value='0'\n",
       "                  max='1',\n",
       "                  style='width: 25%',\n",
       "              >\n",
       "                  0\n",
       "              </progress>\n",
       "\n",
       "    "
      ],
      "text/plain": [
       "<IPython.core.display.HTML object>"
      ]
     },
     "metadata": {},
     "output_type": "display_data"
    },
    {
     "data": {
      "application/vnd.jupyter.widget-view+json": {
       "model_id": "44429c6924774b56a57471a7efc21b91",
       "version_major": 2,
       "version_minor": 0
      },
      "text/plain": [
       "Output()"
      ]
     },
     "metadata": {},
     "output_type": "display_data"
    },
    {
     "name": "stderr",
     "output_type": "stream",
     "text": [
      "C:\\Users\\atick\\AppData\\Roaming\\Python\\Python310\\site-packages\\tsfel\\feature_extraction\\calc_features.py:300: FutureWarning: The frame.append method is deprecated and will be removed from pandas in a future version. Use pandas.concat instead.\n",
      "  features_final = features_final.append(feat)\n"
     ]
    },
    {
     "data": {
      "text/html": [
       "<pre style=\"white-space:pre;overflow-x:auto;line-height:normal;font-family:Menlo,'DejaVu Sans Mono',consolas,'Courier New',monospace\"></pre>\n"
      ],
      "text/plain": []
     },
     "metadata": {},
     "output_type": "display_data"
    },
    {
     "data": {
      "text/html": [
       "<pre style=\"white-space:pre;overflow-x:auto;line-height:normal;font-family:Menlo,'DejaVu Sans Mono',consolas,'Courier New',monospace\">\n",
       "</pre>\n"
      ],
      "text/plain": [
       "\n"
      ]
     },
     "metadata": {},
     "output_type": "display_data"
    },
    {
     "data": {
      "text/html": [
       "\n",
       "              <p>\n",
       "                  Progress: 0% Complete\n",
       "              <p/>            \n",
       "              <progress\n",
       "                  value='0'\n",
       "                  max='1',\n",
       "                  style='width: 25%',\n",
       "              >\n",
       "                  0\n",
       "              </progress>\n",
       "\n",
       "    "
      ],
      "text/plain": [
       "<IPython.core.display.HTML object>"
      ]
     },
     "metadata": {},
     "output_type": "display_data"
    },
    {
     "data": {
      "application/vnd.jupyter.widget-view+json": {
       "model_id": "9c21f5a855c542208829bb543c4d6fe7",
       "version_major": 2,
       "version_minor": 0
      },
      "text/plain": [
       "Output()"
      ]
     },
     "metadata": {},
     "output_type": "display_data"
    },
    {
     "name": "stderr",
     "output_type": "stream",
     "text": [
      "C:\\Users\\atick\\AppData\\Roaming\\Python\\Python310\\site-packages\\tsfel\\feature_extraction\\calc_features.py:300: FutureWarning: The frame.append method is deprecated and will be removed from pandas in a future version. Use pandas.concat instead.\n",
      "  features_final = features_final.append(feat)\n"
     ]
    },
    {
     "data": {
      "text/html": [
       "<pre style=\"white-space:pre;overflow-x:auto;line-height:normal;font-family:Menlo,'DejaVu Sans Mono',consolas,'Courier New',monospace\"></pre>\n"
      ],
      "text/plain": []
     },
     "metadata": {},
     "output_type": "display_data"
    },
    {
     "data": {
      "text/html": [
       "<pre style=\"white-space:pre;overflow-x:auto;line-height:normal;font-family:Menlo,'DejaVu Sans Mono',consolas,'Courier New',monospace\">\n",
       "</pre>\n"
      ],
      "text/plain": [
       "\n"
      ]
     },
     "metadata": {},
     "output_type": "display_data"
    },
    {
     "data": {
      "text/html": [
       "\n",
       "              <p>\n",
       "                  Progress: 0% Complete\n",
       "              <p/>            \n",
       "              <progress\n",
       "                  value='0'\n",
       "                  max='1',\n",
       "                  style='width: 25%',\n",
       "              >\n",
       "                  0\n",
       "              </progress>\n",
       "\n",
       "    "
      ],
      "text/plain": [
       "<IPython.core.display.HTML object>"
      ]
     },
     "metadata": {},
     "output_type": "display_data"
    },
    {
     "data": {
      "application/vnd.jupyter.widget-view+json": {
       "model_id": "edadd18107134683a697ba30db3e0849",
       "version_major": 2,
       "version_minor": 0
      },
      "text/plain": [
       "Output()"
      ]
     },
     "metadata": {},
     "output_type": "display_data"
    },
    {
     "name": "stderr",
     "output_type": "stream",
     "text": [
      "C:\\Users\\atick\\AppData\\Roaming\\Python\\Python310\\site-packages\\tsfel\\feature_extraction\\calc_features.py:300: FutureWarning: The frame.append method is deprecated and will be removed from pandas in a future version. Use pandas.concat instead.\n",
      "  features_final = features_final.append(feat)\n"
     ]
    },
    {
     "data": {
      "text/html": [
       "<pre style=\"white-space:pre;overflow-x:auto;line-height:normal;font-family:Menlo,'DejaVu Sans Mono',consolas,'Courier New',monospace\"></pre>\n"
      ],
      "text/plain": []
     },
     "metadata": {},
     "output_type": "display_data"
    },
    {
     "data": {
      "text/html": [
       "<pre style=\"white-space:pre;overflow-x:auto;line-height:normal;font-family:Menlo,'DejaVu Sans Mono',consolas,'Courier New',monospace\">\n",
       "</pre>\n"
      ],
      "text/plain": [
       "\n"
      ]
     },
     "metadata": {},
     "output_type": "display_data"
    },
    {
     "data": {
      "text/html": [
       "\n",
       "              <p>\n",
       "                  Progress: 0% Complete\n",
       "              <p/>            \n",
       "              <progress\n",
       "                  value='0'\n",
       "                  max='1',\n",
       "                  style='width: 25%',\n",
       "              >\n",
       "                  0\n",
       "              </progress>\n",
       "\n",
       "    "
      ],
      "text/plain": [
       "<IPython.core.display.HTML object>"
      ]
     },
     "metadata": {},
     "output_type": "display_data"
    },
    {
     "data": {
      "application/vnd.jupyter.widget-view+json": {
       "model_id": "fc4ce88568ea4ce9b640dff594e9c41b",
       "version_major": 2,
       "version_minor": 0
      },
      "text/plain": [
       "Output()"
      ]
     },
     "metadata": {},
     "output_type": "display_data"
    },
    {
     "name": "stderr",
     "output_type": "stream",
     "text": [
      "C:\\Users\\atick\\AppData\\Roaming\\Python\\Python310\\site-packages\\tsfel\\feature_extraction\\calc_features.py:300: FutureWarning: The frame.append method is deprecated and will be removed from pandas in a future version. Use pandas.concat instead.\n",
      "  features_final = features_final.append(feat)\n"
     ]
    },
    {
     "data": {
      "text/html": [
       "<pre style=\"white-space:pre;overflow-x:auto;line-height:normal;font-family:Menlo,'DejaVu Sans Mono',consolas,'Courier New',monospace\"></pre>\n"
      ],
      "text/plain": []
     },
     "metadata": {},
     "output_type": "display_data"
    },
    {
     "data": {
      "text/html": [
       "<pre style=\"white-space:pre;overflow-x:auto;line-height:normal;font-family:Menlo,'DejaVu Sans Mono',consolas,'Courier New',monospace\">\n",
       "</pre>\n"
      ],
      "text/plain": [
       "\n"
      ]
     },
     "metadata": {},
     "output_type": "display_data"
    },
    {
     "data": {
      "text/html": [
       "\n",
       "              <p>\n",
       "                  Progress: 0% Complete\n",
       "              <p/>            \n",
       "              <progress\n",
       "                  value='0'\n",
       "                  max='1',\n",
       "                  style='width: 25%',\n",
       "              >\n",
       "                  0\n",
       "              </progress>\n",
       "\n",
       "    "
      ],
      "text/plain": [
       "<IPython.core.display.HTML object>"
      ]
     },
     "metadata": {},
     "output_type": "display_data"
    },
    {
     "name": "stderr",
     "output_type": "stream",
     "text": [
      "C:\\Users\\atick\\AppData\\Roaming\\Python\\Python310\\site-packages\\tsfel\\feature_extraction\\calc_features.py:300: FutureWarning: The frame.append method is deprecated and will be removed from pandas in a future version. Use pandas.concat instead.\n",
      "  features_final = features_final.append(feat)\n"
     ]
    },
    {
     "data": {
      "application/vnd.jupyter.widget-view+json": {
       "model_id": "3b24345667774e5d96bc1aa292fa211a",
       "version_major": 2,
       "version_minor": 0
      },
      "text/plain": [
       "Output()"
      ]
     },
     "metadata": {},
     "output_type": "display_data"
    },
    {
     "data": {
      "text/html": [
       "<pre style=\"white-space:pre;overflow-x:auto;line-height:normal;font-family:Menlo,'DejaVu Sans Mono',consolas,'Courier New',monospace\"></pre>\n"
      ],
      "text/plain": []
     },
     "metadata": {},
     "output_type": "display_data"
    },
    {
     "data": {
      "text/html": [
       "<pre style=\"white-space:pre;overflow-x:auto;line-height:normal;font-family:Menlo,'DejaVu Sans Mono',consolas,'Courier New',monospace\">\n",
       "</pre>\n"
      ],
      "text/plain": [
       "\n"
      ]
     },
     "metadata": {},
     "output_type": "display_data"
    },
    {
     "data": {
      "text/html": [
       "\n",
       "              <p>\n",
       "                  Progress: 0% Complete\n",
       "              <p/>            \n",
       "              <progress\n",
       "                  value='0'\n",
       "                  max='1',\n",
       "                  style='width: 25%',\n",
       "              >\n",
       "                  0\n",
       "              </progress>\n",
       "\n",
       "    "
      ],
      "text/plain": [
       "<IPython.core.display.HTML object>"
      ]
     },
     "metadata": {},
     "output_type": "display_data"
    },
    {
     "data": {
      "application/vnd.jupyter.widget-view+json": {
       "model_id": "2746460625d54c0198c5cd4404af9206",
       "version_major": 2,
       "version_minor": 0
      },
      "text/plain": [
       "Output()"
      ]
     },
     "metadata": {},
     "output_type": "display_data"
    },
    {
     "name": "stderr",
     "output_type": "stream",
     "text": [
      "C:\\Users\\atick\\AppData\\Roaming\\Python\\Python310\\site-packages\\tsfel\\feature_extraction\\calc_features.py:300: FutureWarning: The frame.append method is deprecated and will be removed from pandas in a future version. Use pandas.concat instead.\n",
      "  features_final = features_final.append(feat)\n"
     ]
    },
    {
     "data": {
      "text/html": [
       "<pre style=\"white-space:pre;overflow-x:auto;line-height:normal;font-family:Menlo,'DejaVu Sans Mono',consolas,'Courier New',monospace\"></pre>\n"
      ],
      "text/plain": []
     },
     "metadata": {},
     "output_type": "display_data"
    },
    {
     "data": {
      "text/html": [
       "<pre style=\"white-space:pre;overflow-x:auto;line-height:normal;font-family:Menlo,'DejaVu Sans Mono',consolas,'Courier New',monospace\">\n",
       "</pre>\n"
      ],
      "text/plain": [
       "\n"
      ]
     },
     "metadata": {},
     "output_type": "display_data"
    },
    {
     "data": {
      "text/html": [
       "\n",
       "              <p>\n",
       "                  Progress: 0% Complete\n",
       "              <p/>            \n",
       "              <progress\n",
       "                  value='0'\n",
       "                  max='1',\n",
       "                  style='width: 25%',\n",
       "              >\n",
       "                  0\n",
       "              </progress>\n",
       "\n",
       "    "
      ],
      "text/plain": [
       "<IPython.core.display.HTML object>"
      ]
     },
     "metadata": {},
     "output_type": "display_data"
    },
    {
     "data": {
      "application/vnd.jupyter.widget-view+json": {
       "model_id": "517caf7e0de442d895ae4ed146db0804",
       "version_major": 2,
       "version_minor": 0
      },
      "text/plain": [
       "Output()"
      ]
     },
     "metadata": {},
     "output_type": "display_data"
    },
    {
     "name": "stderr",
     "output_type": "stream",
     "text": [
      "C:\\Users\\atick\\AppData\\Roaming\\Python\\Python310\\site-packages\\tsfel\\feature_extraction\\calc_features.py:300: FutureWarning: The frame.append method is deprecated and will be removed from pandas in a future version. Use pandas.concat instead.\n",
      "  features_final = features_final.append(feat)\n"
     ]
    },
    {
     "data": {
      "text/html": [
       "<pre style=\"white-space:pre;overflow-x:auto;line-height:normal;font-family:Menlo,'DejaVu Sans Mono',consolas,'Courier New',monospace\"></pre>\n"
      ],
      "text/plain": []
     },
     "metadata": {},
     "output_type": "display_data"
    },
    {
     "data": {
      "text/html": [
       "<pre style=\"white-space:pre;overflow-x:auto;line-height:normal;font-family:Menlo,'DejaVu Sans Mono',consolas,'Courier New',monospace\">\n",
       "</pre>\n"
      ],
      "text/plain": [
       "\n"
      ]
     },
     "metadata": {},
     "output_type": "display_data"
    },
    {
     "data": {
      "text/html": [
       "\n",
       "              <p>\n",
       "                  Progress: 0% Complete\n",
       "              <p/>            \n",
       "              <progress\n",
       "                  value='0'\n",
       "                  max='1',\n",
       "                  style='width: 25%',\n",
       "              >\n",
       "                  0\n",
       "              </progress>\n",
       "\n",
       "    "
      ],
      "text/plain": [
       "<IPython.core.display.HTML object>"
      ]
     },
     "metadata": {},
     "output_type": "display_data"
    },
    {
     "name": "stderr",
     "output_type": "stream",
     "text": [
      "C:\\Users\\atick\\AppData\\Roaming\\Python\\Python310\\site-packages\\tsfel\\feature_extraction\\calc_features.py:300: FutureWarning: The frame.append method is deprecated and will be removed from pandas in a future version. Use pandas.concat instead.\n",
      "  features_final = features_final.append(feat)\n"
     ]
    },
    {
     "data": {
      "application/vnd.jupyter.widget-view+json": {
       "model_id": "90229a7b934d4b918893e8bedafe4cdc",
       "version_major": 2,
       "version_minor": 0
      },
      "text/plain": [
       "Output()"
      ]
     },
     "metadata": {},
     "output_type": "display_data"
    },
    {
     "data": {
      "text/html": [
       "<pre style=\"white-space:pre;overflow-x:auto;line-height:normal;font-family:Menlo,'DejaVu Sans Mono',consolas,'Courier New',monospace\"></pre>\n"
      ],
      "text/plain": []
     },
     "metadata": {},
     "output_type": "display_data"
    },
    {
     "data": {
      "text/html": [
       "<pre style=\"white-space:pre;overflow-x:auto;line-height:normal;font-family:Menlo,'DejaVu Sans Mono',consolas,'Courier New',monospace\">\n",
       "</pre>\n"
      ],
      "text/plain": [
       "\n"
      ]
     },
     "metadata": {},
     "output_type": "display_data"
    },
    {
     "data": {
      "text/html": [
       "\n",
       "              <p>\n",
       "                  Progress: 0% Complete\n",
       "              <p/>            \n",
       "              <progress\n",
       "                  value='0'\n",
       "                  max='1',\n",
       "                  style='width: 25%',\n",
       "              >\n",
       "                  0\n",
       "              </progress>\n",
       "\n",
       "    "
      ],
      "text/plain": [
       "<IPython.core.display.HTML object>"
      ]
     },
     "metadata": {},
     "output_type": "display_data"
    },
    {
     "data": {
      "application/vnd.jupyter.widget-view+json": {
       "model_id": "d75cec5e23e44d3297eac10951652fbf",
       "version_major": 2,
       "version_minor": 0
      },
      "text/plain": [
       "Output()"
      ]
     },
     "metadata": {},
     "output_type": "display_data"
    },
    {
     "name": "stderr",
     "output_type": "stream",
     "text": [
      "C:\\Users\\atick\\AppData\\Roaming\\Python\\Python310\\site-packages\\tsfel\\feature_extraction\\calc_features.py:300: FutureWarning: The frame.append method is deprecated and will be removed from pandas in a future version. Use pandas.concat instead.\n",
      "  features_final = features_final.append(feat)\n"
     ]
    },
    {
     "data": {
      "text/html": [
       "<pre style=\"white-space:pre;overflow-x:auto;line-height:normal;font-family:Menlo,'DejaVu Sans Mono',consolas,'Courier New',monospace\"></pre>\n"
      ],
      "text/plain": []
     },
     "metadata": {},
     "output_type": "display_data"
    },
    {
     "data": {
      "text/html": [
       "<pre style=\"white-space:pre;overflow-x:auto;line-height:normal;font-family:Menlo,'DejaVu Sans Mono',consolas,'Courier New',monospace\">\n",
       "</pre>\n"
      ],
      "text/plain": [
       "\n"
      ]
     },
     "metadata": {},
     "output_type": "display_data"
    },
    {
     "data": {
      "text/html": [
       "\n",
       "              <p>\n",
       "                  Progress: 0% Complete\n",
       "              <p/>            \n",
       "              <progress\n",
       "                  value='0'\n",
       "                  max='1',\n",
       "                  style='width: 25%',\n",
       "              >\n",
       "                  0\n",
       "              </progress>\n",
       "\n",
       "    "
      ],
      "text/plain": [
       "<IPython.core.display.HTML object>"
      ]
     },
     "metadata": {},
     "output_type": "display_data"
    },
    {
     "data": {
      "application/vnd.jupyter.widget-view+json": {
       "model_id": "be2fa756abad46e291d2da4dca2a02f6",
       "version_major": 2,
       "version_minor": 0
      },
      "text/plain": [
       "Output()"
      ]
     },
     "metadata": {},
     "output_type": "display_data"
    },
    {
     "name": "stderr",
     "output_type": "stream",
     "text": [
      "C:\\Users\\atick\\AppData\\Roaming\\Python\\Python310\\site-packages\\tsfel\\feature_extraction\\calc_features.py:300: FutureWarning: The frame.append method is deprecated and will be removed from pandas in a future version. Use pandas.concat instead.\n",
      "  features_final = features_final.append(feat)\n"
     ]
    },
    {
     "data": {
      "text/html": [
       "<pre style=\"white-space:pre;overflow-x:auto;line-height:normal;font-family:Menlo,'DejaVu Sans Mono',consolas,'Courier New',monospace\"></pre>\n"
      ],
      "text/plain": []
     },
     "metadata": {},
     "output_type": "display_data"
    },
    {
     "data": {
      "text/html": [
       "<pre style=\"white-space:pre;overflow-x:auto;line-height:normal;font-family:Menlo,'DejaVu Sans Mono',consolas,'Courier New',monospace\">\n",
       "</pre>\n"
      ],
      "text/plain": [
       "\n"
      ]
     },
     "metadata": {},
     "output_type": "display_data"
    },
    {
     "data": {
      "text/html": [
       "\n",
       "              <p>\n",
       "                  Progress: 0% Complete\n",
       "              <p/>            \n",
       "              <progress\n",
       "                  value='0'\n",
       "                  max='1',\n",
       "                  style='width: 25%',\n",
       "              >\n",
       "                  0\n",
       "              </progress>\n",
       "\n",
       "    "
      ],
      "text/plain": [
       "<IPython.core.display.HTML object>"
      ]
     },
     "metadata": {},
     "output_type": "display_data"
    },
    {
     "data": {
      "application/vnd.jupyter.widget-view+json": {
       "model_id": "5630bbaa73f54fd1b85054c1a4ba3c99",
       "version_major": 2,
       "version_minor": 0
      },
      "text/plain": [
       "Output()"
      ]
     },
     "metadata": {},
     "output_type": "display_data"
    },
    {
     "name": "stderr",
     "output_type": "stream",
     "text": [
      "C:\\Users\\atick\\AppData\\Roaming\\Python\\Python310\\site-packages\\tsfel\\feature_extraction\\calc_features.py:300: FutureWarning: The frame.append method is deprecated and will be removed from pandas in a future version. Use pandas.concat instead.\n",
      "  features_final = features_final.append(feat)\n"
     ]
    },
    {
     "data": {
      "text/html": [
       "<pre style=\"white-space:pre;overflow-x:auto;line-height:normal;font-family:Menlo,'DejaVu Sans Mono',consolas,'Courier New',monospace\"></pre>\n"
      ],
      "text/plain": []
     },
     "metadata": {},
     "output_type": "display_data"
    },
    {
     "data": {
      "text/html": [
       "<pre style=\"white-space:pre;overflow-x:auto;line-height:normal;font-family:Menlo,'DejaVu Sans Mono',consolas,'Courier New',monospace\">\n",
       "</pre>\n"
      ],
      "text/plain": [
       "\n"
      ]
     },
     "metadata": {},
     "output_type": "display_data"
    },
    {
     "data": {
      "text/html": [
       "\n",
       "              <p>\n",
       "                  Progress: 0% Complete\n",
       "              <p/>            \n",
       "              <progress\n",
       "                  value='0'\n",
       "                  max='1',\n",
       "                  style='width: 25%',\n",
       "              >\n",
       "                  0\n",
       "              </progress>\n",
       "\n",
       "    "
      ],
      "text/plain": [
       "<IPython.core.display.HTML object>"
      ]
     },
     "metadata": {},
     "output_type": "display_data"
    },
    {
     "name": "stderr",
     "output_type": "stream",
     "text": [
      "C:\\Users\\atick\\AppData\\Roaming\\Python\\Python310\\site-packages\\tsfel\\feature_extraction\\calc_features.py:300: FutureWarning: The frame.append method is deprecated and will be removed from pandas in a future version. Use pandas.concat instead.\n",
      "  features_final = features_final.append(feat)\n"
     ]
    },
    {
     "data": {
      "application/vnd.jupyter.widget-view+json": {
       "model_id": "47606d9ba9524080b483063eea285656",
       "version_major": 2,
       "version_minor": 0
      },
      "text/plain": [
       "Output()"
      ]
     },
     "metadata": {},
     "output_type": "display_data"
    },
    {
     "data": {
      "text/html": [
       "<pre style=\"white-space:pre;overflow-x:auto;line-height:normal;font-family:Menlo,'DejaVu Sans Mono',consolas,'Courier New',monospace\"></pre>\n"
      ],
      "text/plain": []
     },
     "metadata": {},
     "output_type": "display_data"
    },
    {
     "data": {
      "text/html": [
       "<pre style=\"white-space:pre;overflow-x:auto;line-height:normal;font-family:Menlo,'DejaVu Sans Mono',consolas,'Courier New',monospace\">\n",
       "</pre>\n"
      ],
      "text/plain": [
       "\n"
      ]
     },
     "metadata": {},
     "output_type": "display_data"
    },
    {
     "data": {
      "text/html": [
       "\n",
       "              <p>\n",
       "                  Progress: 0% Complete\n",
       "              <p/>            \n",
       "              <progress\n",
       "                  value='0'\n",
       "                  max='1',\n",
       "                  style='width: 25%',\n",
       "              >\n",
       "                  0\n",
       "              </progress>\n",
       "\n",
       "    "
      ],
      "text/plain": [
       "<IPython.core.display.HTML object>"
      ]
     },
     "metadata": {},
     "output_type": "display_data"
    },
    {
     "data": {
      "application/vnd.jupyter.widget-view+json": {
       "model_id": "53c560c7f6624e0295a4c6599b7a18fc",
       "version_major": 2,
       "version_minor": 0
      },
      "text/plain": [
       "Output()"
      ]
     },
     "metadata": {},
     "output_type": "display_data"
    },
    {
     "name": "stderr",
     "output_type": "stream",
     "text": [
      "C:\\Users\\atick\\AppData\\Roaming\\Python\\Python310\\site-packages\\tsfel\\feature_extraction\\calc_features.py:300: FutureWarning: The frame.append method is deprecated and will be removed from pandas in a future version. Use pandas.concat instead.\n",
      "  features_final = features_final.append(feat)\n"
     ]
    },
    {
     "data": {
      "text/html": [
       "<pre style=\"white-space:pre;overflow-x:auto;line-height:normal;font-family:Menlo,'DejaVu Sans Mono',consolas,'Courier New',monospace\"></pre>\n"
      ],
      "text/plain": []
     },
     "metadata": {},
     "output_type": "display_data"
    },
    {
     "data": {
      "text/html": [
       "<pre style=\"white-space:pre;overflow-x:auto;line-height:normal;font-family:Menlo,'DejaVu Sans Mono',consolas,'Courier New',monospace\">\n",
       "</pre>\n"
      ],
      "text/plain": [
       "\n"
      ]
     },
     "metadata": {},
     "output_type": "display_data"
    },
    {
     "data": {
      "text/html": [
       "\n",
       "              <p>\n",
       "                  Progress: 0% Complete\n",
       "              <p/>            \n",
       "              <progress\n",
       "                  value='0'\n",
       "                  max='1',\n",
       "                  style='width: 25%',\n",
       "              >\n",
       "                  0\n",
       "              </progress>\n",
       "\n",
       "    "
      ],
      "text/plain": [
       "<IPython.core.display.HTML object>"
      ]
     },
     "metadata": {},
     "output_type": "display_data"
    },
    {
     "data": {
      "application/vnd.jupyter.widget-view+json": {
       "model_id": "3ce187e2d657442b8418c841b11613be",
       "version_major": 2,
       "version_minor": 0
      },
      "text/plain": [
       "Output()"
      ]
     },
     "metadata": {},
     "output_type": "display_data"
    },
    {
     "name": "stderr",
     "output_type": "stream",
     "text": [
      "C:\\Users\\atick\\AppData\\Roaming\\Python\\Python310\\site-packages\\tsfel\\feature_extraction\\calc_features.py:300: FutureWarning: The frame.append method is deprecated and will be removed from pandas in a future version. Use pandas.concat instead.\n",
      "  features_final = features_final.append(feat)\n"
     ]
    },
    {
     "data": {
      "text/html": [
       "<pre style=\"white-space:pre;overflow-x:auto;line-height:normal;font-family:Menlo,'DejaVu Sans Mono',consolas,'Courier New',monospace\"></pre>\n"
      ],
      "text/plain": []
     },
     "metadata": {},
     "output_type": "display_data"
    },
    {
     "data": {
      "text/html": [
       "<pre style=\"white-space:pre;overflow-x:auto;line-height:normal;font-family:Menlo,'DejaVu Sans Mono',consolas,'Courier New',monospace\">\n",
       "</pre>\n"
      ],
      "text/plain": [
       "\n"
      ]
     },
     "metadata": {},
     "output_type": "display_data"
    },
    {
     "data": {
      "text/html": [
       "\n",
       "              <p>\n",
       "                  Progress: 0% Complete\n",
       "              <p/>            \n",
       "              <progress\n",
       "                  value='0'\n",
       "                  max='1',\n",
       "                  style='width: 25%',\n",
       "              >\n",
       "                  0\n",
       "              </progress>\n",
       "\n",
       "    "
      ],
      "text/plain": [
       "<IPython.core.display.HTML object>"
      ]
     },
     "metadata": {},
     "output_type": "display_data"
    },
    {
     "data": {
      "application/vnd.jupyter.widget-view+json": {
       "model_id": "d5739871240242f993e09c35c5aeb072",
       "version_major": 2,
       "version_minor": 0
      },
      "text/plain": [
       "Output()"
      ]
     },
     "metadata": {},
     "output_type": "display_data"
    },
    {
     "name": "stderr",
     "output_type": "stream",
     "text": [
      "C:\\Users\\atick\\AppData\\Roaming\\Python\\Python310\\site-packages\\tsfel\\feature_extraction\\calc_features.py:300: FutureWarning: The frame.append method is deprecated and will be removed from pandas in a future version. Use pandas.concat instead.\n",
      "  features_final = features_final.append(feat)\n"
     ]
    },
    {
     "data": {
      "text/html": [
       "<pre style=\"white-space:pre;overflow-x:auto;line-height:normal;font-family:Menlo,'DejaVu Sans Mono',consolas,'Courier New',monospace\"></pre>\n"
      ],
      "text/plain": []
     },
     "metadata": {},
     "output_type": "display_data"
    },
    {
     "data": {
      "text/html": [
       "<pre style=\"white-space:pre;overflow-x:auto;line-height:normal;font-family:Menlo,'DejaVu Sans Mono',consolas,'Courier New',monospace\">\n",
       "</pre>\n"
      ],
      "text/plain": [
       "\n"
      ]
     },
     "metadata": {},
     "output_type": "display_data"
    },
    {
     "data": {
      "text/html": [
       "\n",
       "              <p>\n",
       "                  Progress: 0% Complete\n",
       "              <p/>            \n",
       "              <progress\n",
       "                  value='0'\n",
       "                  max='1',\n",
       "                  style='width: 25%',\n",
       "              >\n",
       "                  0\n",
       "              </progress>\n",
       "\n",
       "    "
      ],
      "text/plain": [
       "<IPython.core.display.HTML object>"
      ]
     },
     "metadata": {},
     "output_type": "display_data"
    },
    {
     "data": {
      "application/vnd.jupyter.widget-view+json": {
       "model_id": "5f0f578c483b4fe6b1b9e58dc132e8b9",
       "version_major": 2,
       "version_minor": 0
      },
      "text/plain": [
       "Output()"
      ]
     },
     "metadata": {},
     "output_type": "display_data"
    },
    {
     "name": "stderr",
     "output_type": "stream",
     "text": [
      "C:\\Users\\atick\\AppData\\Roaming\\Python\\Python310\\site-packages\\tsfel\\feature_extraction\\calc_features.py:300: FutureWarning: The frame.append method is deprecated and will be removed from pandas in a future version. Use pandas.concat instead.\n",
      "  features_final = features_final.append(feat)\n"
     ]
    },
    {
     "data": {
      "text/html": [
       "<pre style=\"white-space:pre;overflow-x:auto;line-height:normal;font-family:Menlo,'DejaVu Sans Mono',consolas,'Courier New',monospace\"></pre>\n"
      ],
      "text/plain": []
     },
     "metadata": {},
     "output_type": "display_data"
    },
    {
     "data": {
      "text/html": [
       "<pre style=\"white-space:pre;overflow-x:auto;line-height:normal;font-family:Menlo,'DejaVu Sans Mono',consolas,'Courier New',monospace\">\n",
       "</pre>\n"
      ],
      "text/plain": [
       "\n"
      ]
     },
     "metadata": {},
     "output_type": "display_data"
    },
    {
     "data": {
      "text/html": [
       "\n",
       "              <p>\n",
       "                  Progress: 0% Complete\n",
       "              <p/>            \n",
       "              <progress\n",
       "                  value='0'\n",
       "                  max='1',\n",
       "                  style='width: 25%',\n",
       "              >\n",
       "                  0\n",
       "              </progress>\n",
       "\n",
       "    "
      ],
      "text/plain": [
       "<IPython.core.display.HTML object>"
      ]
     },
     "metadata": {},
     "output_type": "display_data"
    },
    {
     "data": {
      "application/vnd.jupyter.widget-view+json": {
       "model_id": "99e33338210843f0aeab1967c9930de0",
       "version_major": 2,
       "version_minor": 0
      },
      "text/plain": [
       "Output()"
      ]
     },
     "metadata": {},
     "output_type": "display_data"
    },
    {
     "name": "stderr",
     "output_type": "stream",
     "text": [
      "C:\\Users\\atick\\AppData\\Roaming\\Python\\Python310\\site-packages\\tsfel\\feature_extraction\\calc_features.py:300: FutureWarning: The frame.append method is deprecated and will be removed from pandas in a future version. Use pandas.concat instead.\n",
      "  features_final = features_final.append(feat)\n"
     ]
    },
    {
     "data": {
      "text/html": [
       "<pre style=\"white-space:pre;overflow-x:auto;line-height:normal;font-family:Menlo,'DejaVu Sans Mono',consolas,'Courier New',monospace\"></pre>\n"
      ],
      "text/plain": []
     },
     "metadata": {},
     "output_type": "display_data"
    },
    {
     "data": {
      "text/html": [
       "<pre style=\"white-space:pre;overflow-x:auto;line-height:normal;font-family:Menlo,'DejaVu Sans Mono',consolas,'Courier New',monospace\">\n",
       "</pre>\n"
      ],
      "text/plain": [
       "\n"
      ]
     },
     "metadata": {},
     "output_type": "display_data"
    },
    {
     "data": {
      "text/html": [
       "\n",
       "              <p>\n",
       "                  Progress: 0% Complete\n",
       "              <p/>            \n",
       "              <progress\n",
       "                  value='0'\n",
       "                  max='1',\n",
       "                  style='width: 25%',\n",
       "              >\n",
       "                  0\n",
       "              </progress>\n",
       "\n",
       "    "
      ],
      "text/plain": [
       "<IPython.core.display.HTML object>"
      ]
     },
     "metadata": {},
     "output_type": "display_data"
    },
    {
     "data": {
      "application/vnd.jupyter.widget-view+json": {
       "model_id": "fb602d4133ab41deb98353cabfe28cda",
       "version_major": 2,
       "version_minor": 0
      },
      "text/plain": [
       "Output()"
      ]
     },
     "metadata": {},
     "output_type": "display_data"
    },
    {
     "name": "stderr",
     "output_type": "stream",
     "text": [
      "C:\\Users\\atick\\AppData\\Roaming\\Python\\Python310\\site-packages\\tsfel\\feature_extraction\\calc_features.py:300: FutureWarning: The frame.append method is deprecated and will be removed from pandas in a future version. Use pandas.concat instead.\n",
      "  features_final = features_final.append(feat)\n"
     ]
    },
    {
     "data": {
      "text/html": [
       "<pre style=\"white-space:pre;overflow-x:auto;line-height:normal;font-family:Menlo,'DejaVu Sans Mono',consolas,'Courier New',monospace\"></pre>\n"
      ],
      "text/plain": []
     },
     "metadata": {},
     "output_type": "display_data"
    },
    {
     "data": {
      "text/html": [
       "<pre style=\"white-space:pre;overflow-x:auto;line-height:normal;font-family:Menlo,'DejaVu Sans Mono',consolas,'Courier New',monospace\">\n",
       "</pre>\n"
      ],
      "text/plain": [
       "\n"
      ]
     },
     "metadata": {},
     "output_type": "display_data"
    },
    {
     "data": {
      "text/html": [
       "\n",
       "              <p>\n",
       "                  Progress: 0% Complete\n",
       "              <p/>            \n",
       "              <progress\n",
       "                  value='0'\n",
       "                  max='1',\n",
       "                  style='width: 25%',\n",
       "              >\n",
       "                  0\n",
       "              </progress>\n",
       "\n",
       "    "
      ],
      "text/plain": [
       "<IPython.core.display.HTML object>"
      ]
     },
     "metadata": {},
     "output_type": "display_data"
    },
    {
     "data": {
      "application/vnd.jupyter.widget-view+json": {
       "model_id": "b5c10c3ff07543398a8e8d952225e76e",
       "version_major": 2,
       "version_minor": 0
      },
      "text/plain": [
       "Output()"
      ]
     },
     "metadata": {},
     "output_type": "display_data"
    },
    {
     "name": "stderr",
     "output_type": "stream",
     "text": [
      "C:\\Users\\atick\\AppData\\Roaming\\Python\\Python310\\site-packages\\tsfel\\feature_extraction\\calc_features.py:300: FutureWarning: The frame.append method is deprecated and will be removed from pandas in a future version. Use pandas.concat instead.\n",
      "  features_final = features_final.append(feat)\n"
     ]
    },
    {
     "data": {
      "text/html": [
       "<pre style=\"white-space:pre;overflow-x:auto;line-height:normal;font-family:Menlo,'DejaVu Sans Mono',consolas,'Courier New',monospace\"></pre>\n"
      ],
      "text/plain": []
     },
     "metadata": {},
     "output_type": "display_data"
    },
    {
     "data": {
      "text/html": [
       "<pre style=\"white-space:pre;overflow-x:auto;line-height:normal;font-family:Menlo,'DejaVu Sans Mono',consolas,'Courier New',monospace\">\n",
       "</pre>\n"
      ],
      "text/plain": [
       "\n"
      ]
     },
     "metadata": {},
     "output_type": "display_data"
    },
    {
     "data": {
      "text/html": [
       "\n",
       "              <p>\n",
       "                  Progress: 0% Complete\n",
       "              <p/>            \n",
       "              <progress\n",
       "                  value='0'\n",
       "                  max='1',\n",
       "                  style='width: 25%',\n",
       "              >\n",
       "                  0\n",
       "              </progress>\n",
       "\n",
       "    "
      ],
      "text/plain": [
       "<IPython.core.display.HTML object>"
      ]
     },
     "metadata": {},
     "output_type": "display_data"
    },
    {
     "data": {
      "application/vnd.jupyter.widget-view+json": {
       "model_id": "1051853fa01a42cf96d841e8b61e77ec",
       "version_major": 2,
       "version_minor": 0
      },
      "text/plain": [
       "Output()"
      ]
     },
     "metadata": {},
     "output_type": "display_data"
    },
    {
     "name": "stderr",
     "output_type": "stream",
     "text": [
      "C:\\Users\\atick\\AppData\\Roaming\\Python\\Python310\\site-packages\\tsfel\\feature_extraction\\calc_features.py:300: FutureWarning: The frame.append method is deprecated and will be removed from pandas in a future version. Use pandas.concat instead.\n",
      "  features_final = features_final.append(feat)\n"
     ]
    },
    {
     "data": {
      "text/html": [
       "<pre style=\"white-space:pre;overflow-x:auto;line-height:normal;font-family:Menlo,'DejaVu Sans Mono',consolas,'Courier New',monospace\"></pre>\n"
      ],
      "text/plain": []
     },
     "metadata": {},
     "output_type": "display_data"
    },
    {
     "data": {
      "text/html": [
       "<pre style=\"white-space:pre;overflow-x:auto;line-height:normal;font-family:Menlo,'DejaVu Sans Mono',consolas,'Courier New',monospace\">\n",
       "</pre>\n"
      ],
      "text/plain": [
       "\n"
      ]
     },
     "metadata": {},
     "output_type": "display_data"
    },
    {
     "data": {
      "text/html": [
       "\n",
       "              <p>\n",
       "                  Progress: 0% Complete\n",
       "              <p/>            \n",
       "              <progress\n",
       "                  value='0'\n",
       "                  max='1',\n",
       "                  style='width: 25%',\n",
       "              >\n",
       "                  0\n",
       "              </progress>\n",
       "\n",
       "    "
      ],
      "text/plain": [
       "<IPython.core.display.HTML object>"
      ]
     },
     "metadata": {},
     "output_type": "display_data"
    },
    {
     "data": {
      "application/vnd.jupyter.widget-view+json": {
       "model_id": "827484ab2f964fc9b66cf9498c041f22",
       "version_major": 2,
       "version_minor": 0
      },
      "text/plain": [
       "Output()"
      ]
     },
     "metadata": {},
     "output_type": "display_data"
    },
    {
     "name": "stderr",
     "output_type": "stream",
     "text": [
      "C:\\Users\\atick\\AppData\\Roaming\\Python\\Python310\\site-packages\\tsfel\\feature_extraction\\calc_features.py:300: FutureWarning: The frame.append method is deprecated and will be removed from pandas in a future version. Use pandas.concat instead.\n",
      "  features_final = features_final.append(feat)\n"
     ]
    },
    {
     "data": {
      "text/html": [
       "<pre style=\"white-space:pre;overflow-x:auto;line-height:normal;font-family:Menlo,'DejaVu Sans Mono',consolas,'Courier New',monospace\"></pre>\n"
      ],
      "text/plain": []
     },
     "metadata": {},
     "output_type": "display_data"
    },
    {
     "data": {
      "text/html": [
       "<pre style=\"white-space:pre;overflow-x:auto;line-height:normal;font-family:Menlo,'DejaVu Sans Mono',consolas,'Courier New',monospace\">\n",
       "</pre>\n"
      ],
      "text/plain": [
       "\n"
      ]
     },
     "metadata": {},
     "output_type": "display_data"
    },
    {
     "data": {
      "text/html": [
       "\n",
       "              <p>\n",
       "                  Progress: 0% Complete\n",
       "              <p/>            \n",
       "              <progress\n",
       "                  value='0'\n",
       "                  max='1',\n",
       "                  style='width: 25%',\n",
       "              >\n",
       "                  0\n",
       "              </progress>\n",
       "\n",
       "    "
      ],
      "text/plain": [
       "<IPython.core.display.HTML object>"
      ]
     },
     "metadata": {},
     "output_type": "display_data"
    },
    {
     "data": {
      "application/vnd.jupyter.widget-view+json": {
       "model_id": "b9cd990167944684bc7c86d1ebb5269d",
       "version_major": 2,
       "version_minor": 0
      },
      "text/plain": [
       "Output()"
      ]
     },
     "metadata": {},
     "output_type": "display_data"
    },
    {
     "name": "stderr",
     "output_type": "stream",
     "text": [
      "C:\\Users\\atick\\AppData\\Roaming\\Python\\Python310\\site-packages\\tsfel\\feature_extraction\\calc_features.py:300: FutureWarning: The frame.append method is deprecated and will be removed from pandas in a future version. Use pandas.concat instead.\n",
      "  features_final = features_final.append(feat)\n"
     ]
    },
    {
     "data": {
      "text/html": [
       "<pre style=\"white-space:pre;overflow-x:auto;line-height:normal;font-family:Menlo,'DejaVu Sans Mono',consolas,'Courier New',monospace\"></pre>\n"
      ],
      "text/plain": []
     },
     "metadata": {},
     "output_type": "display_data"
    },
    {
     "data": {
      "text/html": [
       "<pre style=\"white-space:pre;overflow-x:auto;line-height:normal;font-family:Menlo,'DejaVu Sans Mono',consolas,'Courier New',monospace\">\n",
       "</pre>\n"
      ],
      "text/plain": [
       "\n"
      ]
     },
     "metadata": {},
     "output_type": "display_data"
    },
    {
     "data": {
      "text/html": [
       "\n",
       "              <p>\n",
       "                  Progress: 0% Complete\n",
       "              <p/>            \n",
       "              <progress\n",
       "                  value='0'\n",
       "                  max='1',\n",
       "                  style='width: 25%',\n",
       "              >\n",
       "                  0\n",
       "              </progress>\n",
       "\n",
       "    "
      ],
      "text/plain": [
       "<IPython.core.display.HTML object>"
      ]
     },
     "metadata": {},
     "output_type": "display_data"
    },
    {
     "data": {
      "application/vnd.jupyter.widget-view+json": {
       "model_id": "0c38559a2ae945edba920a42e9c4cb8f",
       "version_major": 2,
       "version_minor": 0
      },
      "text/plain": [
       "Output()"
      ]
     },
     "metadata": {},
     "output_type": "display_data"
    },
    {
     "name": "stderr",
     "output_type": "stream",
     "text": [
      "C:\\Users\\atick\\AppData\\Roaming\\Python\\Python310\\site-packages\\tsfel\\feature_extraction\\calc_features.py:300: FutureWarning: The frame.append method is deprecated and will be removed from pandas in a future version. Use pandas.concat instead.\n",
      "  features_final = features_final.append(feat)\n"
     ]
    },
    {
     "data": {
      "text/html": [
       "<pre style=\"white-space:pre;overflow-x:auto;line-height:normal;font-family:Menlo,'DejaVu Sans Mono',consolas,'Courier New',monospace\"></pre>\n"
      ],
      "text/plain": []
     },
     "metadata": {},
     "output_type": "display_data"
    },
    {
     "data": {
      "text/html": [
       "<pre style=\"white-space:pre;overflow-x:auto;line-height:normal;font-family:Menlo,'DejaVu Sans Mono',consolas,'Courier New',monospace\">\n",
       "</pre>\n"
      ],
      "text/plain": [
       "\n"
      ]
     },
     "metadata": {},
     "output_type": "display_data"
    },
    {
     "data": {
      "text/html": [
       "\n",
       "              <p>\n",
       "                  Progress: 0% Complete\n",
       "              <p/>            \n",
       "              <progress\n",
       "                  value='0'\n",
       "                  max='1',\n",
       "                  style='width: 25%',\n",
       "              >\n",
       "                  0\n",
       "              </progress>\n",
       "\n",
       "    "
      ],
      "text/plain": [
       "<IPython.core.display.HTML object>"
      ]
     },
     "metadata": {},
     "output_type": "display_data"
    },
    {
     "data": {
      "application/vnd.jupyter.widget-view+json": {
       "model_id": "0d0cdccdd6a04f1895f41e4b3417aa27",
       "version_major": 2,
       "version_minor": 0
      },
      "text/plain": [
       "Output()"
      ]
     },
     "metadata": {},
     "output_type": "display_data"
    },
    {
     "name": "stderr",
     "output_type": "stream",
     "text": [
      "C:\\Users\\atick\\AppData\\Roaming\\Python\\Python310\\site-packages\\tsfel\\feature_extraction\\calc_features.py:300: FutureWarning: The frame.append method is deprecated and will be removed from pandas in a future version. Use pandas.concat instead.\n",
      "  features_final = features_final.append(feat)\n"
     ]
    },
    {
     "data": {
      "text/html": [
       "<pre style=\"white-space:pre;overflow-x:auto;line-height:normal;font-family:Menlo,'DejaVu Sans Mono',consolas,'Courier New',monospace\"></pre>\n"
      ],
      "text/plain": []
     },
     "metadata": {},
     "output_type": "display_data"
    },
    {
     "data": {
      "text/html": [
       "<pre style=\"white-space:pre;overflow-x:auto;line-height:normal;font-family:Menlo,'DejaVu Sans Mono',consolas,'Courier New',monospace\">\n",
       "</pre>\n"
      ],
      "text/plain": [
       "\n"
      ]
     },
     "metadata": {},
     "output_type": "display_data"
    },
    {
     "data": {
      "text/html": [
       "\n",
       "              <p>\n",
       "                  Progress: 0% Complete\n",
       "              <p/>            \n",
       "              <progress\n",
       "                  value='0'\n",
       "                  max='1',\n",
       "                  style='width: 25%',\n",
       "              >\n",
       "                  0\n",
       "              </progress>\n",
       "\n",
       "    "
      ],
      "text/plain": [
       "<IPython.core.display.HTML object>"
      ]
     },
     "metadata": {},
     "output_type": "display_data"
    },
    {
     "data": {
      "application/vnd.jupyter.widget-view+json": {
       "model_id": "518765992abb465ca346ca5577d86790",
       "version_major": 2,
       "version_minor": 0
      },
      "text/plain": [
       "Output()"
      ]
     },
     "metadata": {},
     "output_type": "display_data"
    },
    {
     "name": "stderr",
     "output_type": "stream",
     "text": [
      "C:\\Users\\atick\\AppData\\Roaming\\Python\\Python310\\site-packages\\tsfel\\feature_extraction\\calc_features.py:300: FutureWarning: The frame.append method is deprecated and will be removed from pandas in a future version. Use pandas.concat instead.\n",
      "  features_final = features_final.append(feat)\n"
     ]
    },
    {
     "data": {
      "text/html": [
       "<pre style=\"white-space:pre;overflow-x:auto;line-height:normal;font-family:Menlo,'DejaVu Sans Mono',consolas,'Courier New',monospace\"></pre>\n"
      ],
      "text/plain": []
     },
     "metadata": {},
     "output_type": "display_data"
    },
    {
     "data": {
      "text/html": [
       "<pre style=\"white-space:pre;overflow-x:auto;line-height:normal;font-family:Menlo,'DejaVu Sans Mono',consolas,'Courier New',monospace\">\n",
       "</pre>\n"
      ],
      "text/plain": [
       "\n"
      ]
     },
     "metadata": {},
     "output_type": "display_data"
    },
    {
     "data": {
      "text/html": [
       "\n",
       "              <p>\n",
       "                  Progress: 0% Complete\n",
       "              <p/>            \n",
       "              <progress\n",
       "                  value='0'\n",
       "                  max='1',\n",
       "                  style='width: 25%',\n",
       "              >\n",
       "                  0\n",
       "              </progress>\n",
       "\n",
       "    "
      ],
      "text/plain": [
       "<IPython.core.display.HTML object>"
      ]
     },
     "metadata": {},
     "output_type": "display_data"
    },
    {
     "data": {
      "application/vnd.jupyter.widget-view+json": {
       "model_id": "27af7186fd8642cab7328c894e320690",
       "version_major": 2,
       "version_minor": 0
      },
      "text/plain": [
       "Output()"
      ]
     },
     "metadata": {},
     "output_type": "display_data"
    },
    {
     "name": "stderr",
     "output_type": "stream",
     "text": [
      "C:\\Users\\atick\\AppData\\Roaming\\Python\\Python310\\site-packages\\tsfel\\feature_extraction\\calc_features.py:300: FutureWarning: The frame.append method is deprecated and will be removed from pandas in a future version. Use pandas.concat instead.\n",
      "  features_final = features_final.append(feat)\n"
     ]
    },
    {
     "data": {
      "text/html": [
       "<pre style=\"white-space:pre;overflow-x:auto;line-height:normal;font-family:Menlo,'DejaVu Sans Mono',consolas,'Courier New',monospace\"></pre>\n"
      ],
      "text/plain": []
     },
     "metadata": {},
     "output_type": "display_data"
    },
    {
     "data": {
      "text/html": [
       "<pre style=\"white-space:pre;overflow-x:auto;line-height:normal;font-family:Menlo,'DejaVu Sans Mono',consolas,'Courier New',monospace\">\n",
       "</pre>\n"
      ],
      "text/plain": [
       "\n"
      ]
     },
     "metadata": {},
     "output_type": "display_data"
    },
    {
     "data": {
      "text/html": [
       "\n",
       "              <p>\n",
       "                  Progress: 0% Complete\n",
       "              <p/>            \n",
       "              <progress\n",
       "                  value='0'\n",
       "                  max='1',\n",
       "                  style='width: 25%',\n",
       "              >\n",
       "                  0\n",
       "              </progress>\n",
       "\n",
       "    "
      ],
      "text/plain": [
       "<IPython.core.display.HTML object>"
      ]
     },
     "metadata": {},
     "output_type": "display_data"
    },
    {
     "name": "stderr",
     "output_type": "stream",
     "text": [
      "C:\\Users\\atick\\AppData\\Roaming\\Python\\Python310\\site-packages\\tsfel\\feature_extraction\\calc_features.py:300: FutureWarning: The frame.append method is deprecated and will be removed from pandas in a future version. Use pandas.concat instead.\n",
      "  features_final = features_final.append(feat)\n"
     ]
    },
    {
     "data": {
      "application/vnd.jupyter.widget-view+json": {
       "model_id": "8718413c483b4f0c907638a726da4069",
       "version_major": 2,
       "version_minor": 0
      },
      "text/plain": [
       "Output()"
      ]
     },
     "metadata": {},
     "output_type": "display_data"
    },
    {
     "data": {
      "text/html": [
       "<pre style=\"white-space:pre;overflow-x:auto;line-height:normal;font-family:Menlo,'DejaVu Sans Mono',consolas,'Courier New',monospace\"></pre>\n"
      ],
      "text/plain": []
     },
     "metadata": {},
     "output_type": "display_data"
    },
    {
     "data": {
      "text/html": [
       "<pre style=\"white-space:pre;overflow-x:auto;line-height:normal;font-family:Menlo,'DejaVu Sans Mono',consolas,'Courier New',monospace\">\n",
       "</pre>\n"
      ],
      "text/plain": [
       "\n"
      ]
     },
     "metadata": {},
     "output_type": "display_data"
    },
    {
     "data": {
      "text/html": [
       "\n",
       "              <p>\n",
       "                  Progress: 0% Complete\n",
       "              <p/>            \n",
       "              <progress\n",
       "                  value='0'\n",
       "                  max='1',\n",
       "                  style='width: 25%',\n",
       "              >\n",
       "                  0\n",
       "              </progress>\n",
       "\n",
       "    "
      ],
      "text/plain": [
       "<IPython.core.display.HTML object>"
      ]
     },
     "metadata": {},
     "output_type": "display_data"
    },
    {
     "data": {
      "application/vnd.jupyter.widget-view+json": {
       "model_id": "7127f7aa214e4efa910ad5c6df966f83",
       "version_major": 2,
       "version_minor": 0
      },
      "text/plain": [
       "Output()"
      ]
     },
     "metadata": {},
     "output_type": "display_data"
    },
    {
     "name": "stderr",
     "output_type": "stream",
     "text": [
      "C:\\Users\\atick\\AppData\\Roaming\\Python\\Python310\\site-packages\\tsfel\\feature_extraction\\calc_features.py:300: FutureWarning: The frame.append method is deprecated and will be removed from pandas in a future version. Use pandas.concat instead.\n",
      "  features_final = features_final.append(feat)\n"
     ]
    },
    {
     "data": {
      "text/html": [
       "<pre style=\"white-space:pre;overflow-x:auto;line-height:normal;font-family:Menlo,'DejaVu Sans Mono',consolas,'Courier New',monospace\"></pre>\n"
      ],
      "text/plain": []
     },
     "metadata": {},
     "output_type": "display_data"
    },
    {
     "data": {
      "text/html": [
       "<pre style=\"white-space:pre;overflow-x:auto;line-height:normal;font-family:Menlo,'DejaVu Sans Mono',consolas,'Courier New',monospace\">\n",
       "</pre>\n"
      ],
      "text/plain": [
       "\n"
      ]
     },
     "metadata": {},
     "output_type": "display_data"
    },
    {
     "data": {
      "text/html": [
       "\n",
       "              <p>\n",
       "                  Progress: 0% Complete\n",
       "              <p/>            \n",
       "              <progress\n",
       "                  value='0'\n",
       "                  max='1',\n",
       "                  style='width: 25%',\n",
       "              >\n",
       "                  0\n",
       "              </progress>\n",
       "\n",
       "    "
      ],
      "text/plain": [
       "<IPython.core.display.HTML object>"
      ]
     },
     "metadata": {},
     "output_type": "display_data"
    },
    {
     "data": {
      "application/vnd.jupyter.widget-view+json": {
       "model_id": "e40c590b0e204ce49864070f641a1171",
       "version_major": 2,
       "version_minor": 0
      },
      "text/plain": [
       "Output()"
      ]
     },
     "metadata": {},
     "output_type": "display_data"
    },
    {
     "name": "stderr",
     "output_type": "stream",
     "text": [
      "C:\\Users\\atick\\AppData\\Roaming\\Python\\Python310\\site-packages\\tsfel\\feature_extraction\\calc_features.py:300: FutureWarning: The frame.append method is deprecated and will be removed from pandas in a future version. Use pandas.concat instead.\n",
      "  features_final = features_final.append(feat)\n"
     ]
    },
    {
     "data": {
      "text/html": [
       "<pre style=\"white-space:pre;overflow-x:auto;line-height:normal;font-family:Menlo,'DejaVu Sans Mono',consolas,'Courier New',monospace\"></pre>\n"
      ],
      "text/plain": []
     },
     "metadata": {},
     "output_type": "display_data"
    },
    {
     "data": {
      "text/html": [
       "<pre style=\"white-space:pre;overflow-x:auto;line-height:normal;font-family:Menlo,'DejaVu Sans Mono',consolas,'Courier New',monospace\">\n",
       "</pre>\n"
      ],
      "text/plain": [
       "\n"
      ]
     },
     "metadata": {},
     "output_type": "display_data"
    },
    {
     "data": {
      "text/html": [
       "\n",
       "              <p>\n",
       "                  Progress: 0% Complete\n",
       "              <p/>            \n",
       "              <progress\n",
       "                  value='0'\n",
       "                  max='1',\n",
       "                  style='width: 25%',\n",
       "              >\n",
       "                  0\n",
       "              </progress>\n",
       "\n",
       "    "
      ],
      "text/plain": [
       "<IPython.core.display.HTML object>"
      ]
     },
     "metadata": {},
     "output_type": "display_data"
    },
    {
     "data": {
      "application/vnd.jupyter.widget-view+json": {
       "model_id": "36e2b66b565942ffb4f4c9d6e99a654b",
       "version_major": 2,
       "version_minor": 0
      },
      "text/plain": [
       "Output()"
      ]
     },
     "metadata": {},
     "output_type": "display_data"
    },
    {
     "name": "stderr",
     "output_type": "stream",
     "text": [
      "C:\\Users\\atick\\AppData\\Roaming\\Python\\Python310\\site-packages\\tsfel\\feature_extraction\\calc_features.py:300: FutureWarning: The frame.append method is deprecated and will be removed from pandas in a future version. Use pandas.concat instead.\n",
      "  features_final = features_final.append(feat)\n"
     ]
    },
    {
     "data": {
      "text/html": [
       "<pre style=\"white-space:pre;overflow-x:auto;line-height:normal;font-family:Menlo,'DejaVu Sans Mono',consolas,'Courier New',monospace\"></pre>\n"
      ],
      "text/plain": []
     },
     "metadata": {},
     "output_type": "display_data"
    },
    {
     "data": {
      "text/html": [
       "<pre style=\"white-space:pre;overflow-x:auto;line-height:normal;font-family:Menlo,'DejaVu Sans Mono',consolas,'Courier New',monospace\">\n",
       "</pre>\n"
      ],
      "text/plain": [
       "\n"
      ]
     },
     "metadata": {},
     "output_type": "display_data"
    },
    {
     "data": {
      "text/html": [
       "\n",
       "              <p>\n",
       "                  Progress: 0% Complete\n",
       "              <p/>            \n",
       "              <progress\n",
       "                  value='0'\n",
       "                  max='1',\n",
       "                  style='width: 25%',\n",
       "              >\n",
       "                  0\n",
       "              </progress>\n",
       "\n",
       "    "
      ],
      "text/plain": [
       "<IPython.core.display.HTML object>"
      ]
     },
     "metadata": {},
     "output_type": "display_data"
    },
    {
     "data": {
      "application/vnd.jupyter.widget-view+json": {
       "model_id": "a90debcb8aa541ea9ce8a578817993cd",
       "version_major": 2,
       "version_minor": 0
      },
      "text/plain": [
       "Output()"
      ]
     },
     "metadata": {},
     "output_type": "display_data"
    },
    {
     "name": "stderr",
     "output_type": "stream",
     "text": [
      "C:\\Users\\atick\\AppData\\Roaming\\Python\\Python310\\site-packages\\tsfel\\feature_extraction\\calc_features.py:300: FutureWarning: The frame.append method is deprecated and will be removed from pandas in a future version. Use pandas.concat instead.\n",
      "  features_final = features_final.append(feat)\n"
     ]
    },
    {
     "data": {
      "text/html": [
       "<pre style=\"white-space:pre;overflow-x:auto;line-height:normal;font-family:Menlo,'DejaVu Sans Mono',consolas,'Courier New',monospace\"></pre>\n"
      ],
      "text/plain": []
     },
     "metadata": {},
     "output_type": "display_data"
    },
    {
     "data": {
      "text/html": [
       "<pre style=\"white-space:pre;overflow-x:auto;line-height:normal;font-family:Menlo,'DejaVu Sans Mono',consolas,'Courier New',monospace\">\n",
       "</pre>\n"
      ],
      "text/plain": [
       "\n"
      ]
     },
     "metadata": {},
     "output_type": "display_data"
    },
    {
     "data": {
      "text/html": [
       "\n",
       "              <p>\n",
       "                  Progress: 0% Complete\n",
       "              <p/>            \n",
       "              <progress\n",
       "                  value='0'\n",
       "                  max='1',\n",
       "                  style='width: 25%',\n",
       "              >\n",
       "                  0\n",
       "              </progress>\n",
       "\n",
       "    "
      ],
      "text/plain": [
       "<IPython.core.display.HTML object>"
      ]
     },
     "metadata": {},
     "output_type": "display_data"
    },
    {
     "data": {
      "application/vnd.jupyter.widget-view+json": {
       "model_id": "d601794294d84d8ca9bf6d2902ee0465",
       "version_major": 2,
       "version_minor": 0
      },
      "text/plain": [
       "Output()"
      ]
     },
     "metadata": {},
     "output_type": "display_data"
    },
    {
     "data": {
      "text/html": [
       "<pre style=\"white-space:pre;overflow-x:auto;line-height:normal;font-family:Menlo,'DejaVu Sans Mono',consolas,'Courier New',monospace\"></pre>\n"
      ],
      "text/plain": []
     },
     "metadata": {},
     "output_type": "display_data"
    },
    {
     "data": {
      "text/html": [
       "<pre style=\"white-space:pre;overflow-x:auto;line-height:normal;font-family:Menlo,'DejaVu Sans Mono',consolas,'Courier New',monospace\">\n",
       "</pre>\n"
      ],
      "text/plain": [
       "\n"
      ]
     },
     "metadata": {},
     "output_type": "display_data"
    },
    {
     "data": {
      "text/html": [
       "\n",
       "              <p>\n",
       "                  Progress: 0% Complete\n",
       "              <p/>            \n",
       "              <progress\n",
       "                  value='0'\n",
       "                  max='1',\n",
       "                  style='width: 25%',\n",
       "              >\n",
       "                  0\n",
       "              </progress>\n",
       "\n",
       "    "
      ],
      "text/plain": [
       "<IPython.core.display.HTML object>"
      ]
     },
     "metadata": {},
     "output_type": "display_data"
    },
    {
     "data": {
      "application/vnd.jupyter.widget-view+json": {
       "model_id": "6c8d277c321f4ff7a8b3b65cf99a620f",
       "version_major": 2,
       "version_minor": 0
      },
      "text/plain": [
       "Output()"
      ]
     },
     "metadata": {},
     "output_type": "display_data"
    },
    {
     "name": "stderr",
     "output_type": "stream",
     "text": [
      "C:\\Users\\atick\\AppData\\Roaming\\Python\\Python310\\site-packages\\tsfel\\feature_extraction\\calc_features.py:300: FutureWarning: The frame.append method is deprecated and will be removed from pandas in a future version. Use pandas.concat instead.\n",
      "  features_final = features_final.append(feat)\n"
     ]
    },
    {
     "data": {
      "text/html": [
       "<pre style=\"white-space:pre;overflow-x:auto;line-height:normal;font-family:Menlo,'DejaVu Sans Mono',consolas,'Courier New',monospace\"></pre>\n"
      ],
      "text/plain": []
     },
     "metadata": {},
     "output_type": "display_data"
    },
    {
     "data": {
      "text/html": [
       "<pre style=\"white-space:pre;overflow-x:auto;line-height:normal;font-family:Menlo,'DejaVu Sans Mono',consolas,'Courier New',monospace\">\n",
       "</pre>\n"
      ],
      "text/plain": [
       "\n"
      ]
     },
     "metadata": {},
     "output_type": "display_data"
    },
    {
     "data": {
      "text/html": [
       "\n",
       "              <p>\n",
       "                  Progress: 0% Complete\n",
       "              <p/>            \n",
       "              <progress\n",
       "                  value='0'\n",
       "                  max='1',\n",
       "                  style='width: 25%',\n",
       "              >\n",
       "                  0\n",
       "              </progress>\n",
       "\n",
       "    "
      ],
      "text/plain": [
       "<IPython.core.display.HTML object>"
      ]
     },
     "metadata": {},
     "output_type": "display_data"
    },
    {
     "data": {
      "application/vnd.jupyter.widget-view+json": {
       "model_id": "37d2e317e7ba4f2da64499ec871c5c12",
       "version_major": 2,
       "version_minor": 0
      },
      "text/plain": [
       "Output()"
      ]
     },
     "metadata": {},
     "output_type": "display_data"
    },
    {
     "name": "stderr",
     "output_type": "stream",
     "text": [
      "C:\\Users\\atick\\AppData\\Roaming\\Python\\Python310\\site-packages\\tsfel\\feature_extraction\\calc_features.py:300: FutureWarning: The frame.append method is deprecated and will be removed from pandas in a future version. Use pandas.concat instead.\n",
      "  features_final = features_final.append(feat)\n"
     ]
    },
    {
     "data": {
      "text/html": [
       "<pre style=\"white-space:pre;overflow-x:auto;line-height:normal;font-family:Menlo,'DejaVu Sans Mono',consolas,'Courier New',monospace\"></pre>\n"
      ],
      "text/plain": []
     },
     "metadata": {},
     "output_type": "display_data"
    },
    {
     "data": {
      "text/html": [
       "<pre style=\"white-space:pre;overflow-x:auto;line-height:normal;font-family:Menlo,'DejaVu Sans Mono',consolas,'Courier New',monospace\">\n",
       "</pre>\n"
      ],
      "text/plain": [
       "\n"
      ]
     },
     "metadata": {},
     "output_type": "display_data"
    },
    {
     "data": {
      "text/html": [
       "\n",
       "              <p>\n",
       "                  Progress: 0% Complete\n",
       "              <p/>            \n",
       "              <progress\n",
       "                  value='0'\n",
       "                  max='1',\n",
       "                  style='width: 25%',\n",
       "              >\n",
       "                  0\n",
       "              </progress>\n",
       "\n",
       "    "
      ],
      "text/plain": [
       "<IPython.core.display.HTML object>"
      ]
     },
     "metadata": {},
     "output_type": "display_data"
    },
    {
     "data": {
      "application/vnd.jupyter.widget-view+json": {
       "model_id": "2720da65ba734a1abe6c4e7280f968b8",
       "version_major": 2,
       "version_minor": 0
      },
      "text/plain": [
       "Output()"
      ]
     },
     "metadata": {},
     "output_type": "display_data"
    },
    {
     "name": "stderr",
     "output_type": "stream",
     "text": [
      "C:\\Users\\atick\\AppData\\Roaming\\Python\\Python310\\site-packages\\tsfel\\feature_extraction\\calc_features.py:300: FutureWarning: The frame.append method is deprecated and will be removed from pandas in a future version. Use pandas.concat instead.\n",
      "  features_final = features_final.append(feat)\n"
     ]
    },
    {
     "data": {
      "text/html": [
       "<pre style=\"white-space:pre;overflow-x:auto;line-height:normal;font-family:Menlo,'DejaVu Sans Mono',consolas,'Courier New',monospace\"></pre>\n"
      ],
      "text/plain": []
     },
     "metadata": {},
     "output_type": "display_data"
    },
    {
     "data": {
      "text/html": [
       "<pre style=\"white-space:pre;overflow-x:auto;line-height:normal;font-family:Menlo,'DejaVu Sans Mono',consolas,'Courier New',monospace\">\n",
       "</pre>\n"
      ],
      "text/plain": [
       "\n"
      ]
     },
     "metadata": {},
     "output_type": "display_data"
    },
    {
     "data": {
      "text/html": [
       "\n",
       "              <p>\n",
       "                  Progress: 0% Complete\n",
       "              <p/>            \n",
       "              <progress\n",
       "                  value='0'\n",
       "                  max='1',\n",
       "                  style='width: 25%',\n",
       "              >\n",
       "                  0\n",
       "              </progress>\n",
       "\n",
       "    "
      ],
      "text/plain": [
       "<IPython.core.display.HTML object>"
      ]
     },
     "metadata": {},
     "output_type": "display_data"
    },
    {
     "name": "stderr",
     "output_type": "stream",
     "text": [
      "C:\\Users\\atick\\AppData\\Roaming\\Python\\Python310\\site-packages\\tsfel\\feature_extraction\\calc_features.py:300: FutureWarning: The frame.append method is deprecated and will be removed from pandas in a future version. Use pandas.concat instead.\n",
      "  features_final = features_final.append(feat)\n"
     ]
    },
    {
     "data": {
      "application/vnd.jupyter.widget-view+json": {
       "model_id": "e96ace5a6deb44d9a8fed9635ac14332",
       "version_major": 2,
       "version_minor": 0
      },
      "text/plain": [
       "Output()"
      ]
     },
     "metadata": {},
     "output_type": "display_data"
    },
    {
     "data": {
      "text/html": [
       "<pre style=\"white-space:pre;overflow-x:auto;line-height:normal;font-family:Menlo,'DejaVu Sans Mono',consolas,'Courier New',monospace\"></pre>\n"
      ],
      "text/plain": []
     },
     "metadata": {},
     "output_type": "display_data"
    },
    {
     "data": {
      "text/html": [
       "<pre style=\"white-space:pre;overflow-x:auto;line-height:normal;font-family:Menlo,'DejaVu Sans Mono',consolas,'Courier New',monospace\">\n",
       "</pre>\n"
      ],
      "text/plain": [
       "\n"
      ]
     },
     "metadata": {},
     "output_type": "display_data"
    },
    {
     "data": {
      "text/html": [
       "\n",
       "              <p>\n",
       "                  Progress: 0% Complete\n",
       "              <p/>            \n",
       "              <progress\n",
       "                  value='0'\n",
       "                  max='1',\n",
       "                  style='width: 25%',\n",
       "              >\n",
       "                  0\n",
       "              </progress>\n",
       "\n",
       "    "
      ],
      "text/plain": [
       "<IPython.core.display.HTML object>"
      ]
     },
     "metadata": {},
     "output_type": "display_data"
    },
    {
     "data": {
      "application/vnd.jupyter.widget-view+json": {
       "model_id": "adc6e46b3b294b6b843390e7d66fb323",
       "version_major": 2,
       "version_minor": 0
      },
      "text/plain": [
       "Output()"
      ]
     },
     "metadata": {},
     "output_type": "display_data"
    },
    {
     "name": "stderr",
     "output_type": "stream",
     "text": [
      "C:\\Users\\atick\\AppData\\Roaming\\Python\\Python310\\site-packages\\tsfel\\feature_extraction\\calc_features.py:300: FutureWarning: The frame.append method is deprecated and will be removed from pandas in a future version. Use pandas.concat instead.\n",
      "  features_final = features_final.append(feat)\n"
     ]
    },
    {
     "data": {
      "text/html": [
       "<pre style=\"white-space:pre;overflow-x:auto;line-height:normal;font-family:Menlo,'DejaVu Sans Mono',consolas,'Courier New',monospace\"></pre>\n"
      ],
      "text/plain": []
     },
     "metadata": {},
     "output_type": "display_data"
    },
    {
     "data": {
      "text/html": [
       "<pre style=\"white-space:pre;overflow-x:auto;line-height:normal;font-family:Menlo,'DejaVu Sans Mono',consolas,'Courier New',monospace\">\n",
       "</pre>\n"
      ],
      "text/plain": [
       "\n"
      ]
     },
     "metadata": {},
     "output_type": "display_data"
    },
    {
     "data": {
      "text/html": [
       "\n",
       "              <p>\n",
       "                  Progress: 0% Complete\n",
       "              <p/>            \n",
       "              <progress\n",
       "                  value='0'\n",
       "                  max='1',\n",
       "                  style='width: 25%',\n",
       "              >\n",
       "                  0\n",
       "              </progress>\n",
       "\n",
       "    "
      ],
      "text/plain": [
       "<IPython.core.display.HTML object>"
      ]
     },
     "metadata": {},
     "output_type": "display_data"
    },
    {
     "name": "stderr",
     "output_type": "stream",
     "text": [
      "C:\\Users\\atick\\AppData\\Roaming\\Python\\Python310\\site-packages\\tsfel\\feature_extraction\\calc_features.py:300: FutureWarning: The frame.append method is deprecated and will be removed from pandas in a future version. Use pandas.concat instead.\n",
      "  features_final = features_final.append(feat)\n"
     ]
    },
    {
     "data": {
      "application/vnd.jupyter.widget-view+json": {
       "model_id": "3936367483c0434cbb49243da2b67c6c",
       "version_major": 2,
       "version_minor": 0
      },
      "text/plain": [
       "Output()"
      ]
     },
     "metadata": {},
     "output_type": "display_data"
    },
    {
     "data": {
      "text/html": [
       "<pre style=\"white-space:pre;overflow-x:auto;line-height:normal;font-family:Menlo,'DejaVu Sans Mono',consolas,'Courier New',monospace\"></pre>\n"
      ],
      "text/plain": []
     },
     "metadata": {},
     "output_type": "display_data"
    },
    {
     "data": {
      "text/html": [
       "<pre style=\"white-space:pre;overflow-x:auto;line-height:normal;font-family:Menlo,'DejaVu Sans Mono',consolas,'Courier New',monospace\">\n",
       "</pre>\n"
      ],
      "text/plain": [
       "\n"
      ]
     },
     "metadata": {},
     "output_type": "display_data"
    },
    {
     "data": {
      "text/html": [
       "\n",
       "              <p>\n",
       "                  Progress: 0% Complete\n",
       "              <p/>            \n",
       "              <progress\n",
       "                  value='0'\n",
       "                  max='1',\n",
       "                  style='width: 25%',\n",
       "              >\n",
       "                  0\n",
       "              </progress>\n",
       "\n",
       "    "
      ],
      "text/plain": [
       "<IPython.core.display.HTML object>"
      ]
     },
     "metadata": {},
     "output_type": "display_data"
    },
    {
     "data": {
      "application/vnd.jupyter.widget-view+json": {
       "model_id": "487f15b26ef74563b70f2b6d6032adf7",
       "version_major": 2,
       "version_minor": 0
      },
      "text/plain": [
       "Output()"
      ]
     },
     "metadata": {},
     "output_type": "display_data"
    },
    {
     "name": "stderr",
     "output_type": "stream",
     "text": [
      "C:\\Users\\atick\\AppData\\Roaming\\Python\\Python310\\site-packages\\tsfel\\feature_extraction\\calc_features.py:300: FutureWarning: The frame.append method is deprecated and will be removed from pandas in a future version. Use pandas.concat instead.\n",
      "  features_final = features_final.append(feat)\n"
     ]
    },
    {
     "data": {
      "text/html": [
       "<pre style=\"white-space:pre;overflow-x:auto;line-height:normal;font-family:Menlo,'DejaVu Sans Mono',consolas,'Courier New',monospace\"></pre>\n"
      ],
      "text/plain": []
     },
     "metadata": {},
     "output_type": "display_data"
    },
    {
     "data": {
      "text/html": [
       "<pre style=\"white-space:pre;overflow-x:auto;line-height:normal;font-family:Menlo,'DejaVu Sans Mono',consolas,'Courier New',monospace\">\n",
       "</pre>\n"
      ],
      "text/plain": [
       "\n"
      ]
     },
     "metadata": {},
     "output_type": "display_data"
    },
    {
     "data": {
      "text/html": [
       "\n",
       "              <p>\n",
       "                  Progress: 0% Complete\n",
       "              <p/>            \n",
       "              <progress\n",
       "                  value='0'\n",
       "                  max='1',\n",
       "                  style='width: 25%',\n",
       "              >\n",
       "                  0\n",
       "              </progress>\n",
       "\n",
       "    "
      ],
      "text/plain": [
       "<IPython.core.display.HTML object>"
      ]
     },
     "metadata": {},
     "output_type": "display_data"
    },
    {
     "name": "stderr",
     "output_type": "stream",
     "text": [
      "C:\\Users\\atick\\AppData\\Roaming\\Python\\Python310\\site-packages\\tsfel\\feature_extraction\\calc_features.py:300: FutureWarning: The frame.append method is deprecated and will be removed from pandas in a future version. Use pandas.concat instead.\n",
      "  features_final = features_final.append(feat)\n"
     ]
    }
   ],
   "source": [
    "all_subject_ids = get_subject_ids(DATA_DIR, \"ndd\")\n",
    "dataloader = DataLoader(DATA_DIR, all_subject_ids)\n",
    "metrics = PerformanceMetrics()\n"
   ]
  },
  {
   "cell_type": "markdown",
   "metadata": {},
   "source": [
    "# Model"
   ]
  },
  {
   "cell_type": "code",
   "execution_count": 4,
   "metadata": {},
   "outputs": [],
   "source": [
    "network = NDDNet(\n",
    "    n_classes=2,\n",
    "    n_conv_blocks=3,\n",
    "    n_mlp_layers=0,\n",
    "    kernel_size=3,\n",
    "    conv_channel_width=16,\n",
    "    mlp_channel_width=32,\n",
    "    mode=\"combined\"\n",
    ")\n",
    "\n",
    "loss = tf.keras.losses.SparseCategoricalCrossentropy(from_logits=False)\n",
    "optimizer = tf.keras.optimizers.Adam(learning_rate=LEARNING_RATE)\n"
   ]
  },
  {
   "cell_type": "markdown",
   "metadata": {},
   "source": [
    "# ALS vs HC"
   ]
  },
  {
   "cell_type": "code",
   "execution_count": 5,
   "metadata": {},
   "outputs": [
    {
     "name": "stdout",
     "output_type": "stream",
     "text": [
      "Running inference on als1 ... \n",
      "Running inference on als10 ... \n",
      "Running inference on als11 ... \n",
      "Running inference on als12 ... \n",
      "Running inference on als13 ... \n",
      "Running inference on als2 ... \n",
      "Running inference on als3 ... \n",
      "Running inference on als4 ... \n",
      "Running inference on als5 ... \n",
      "Running inference on als6 ... \n",
      "Running inference on als7 ... \n",
      "Running inference on als8 ... \n",
      "Running inference on als9 ... \n",
      "Running inference on control1 ... \n",
      "Running inference on control10 ... \n",
      "Running inference on control11 ... \n",
      "Running inference on control12 ... \n",
      "Running inference on control13 ... \n",
      "Running inference on control14 ... \n",
      "Running inference on control15 ... \n",
      "Running inference on control16 ... \n",
      "Running inference on control2 ... \n",
      "Running inference on control3 ... \n",
      "Running inference on control4 ... \n",
      "Running inference on control5 ... \n",
      "Running inference on control6 ... \n",
      "Running inference on control7 ... \n",
      "Running inference on control8 ... \n",
      "Running inference on control9 ... \n"
     ]
    },
    {
     "data": {
      "text/html": [
       "<pre style=\"white-space:pre;overflow-x:auto;line-height:normal;font-family:Menlo,'DejaVu Sans Mono',consolas,'Courier New',monospace\"><span style=\"font-style: italic\">                   Performace Metrics                    </span>\n",
       "┏━━━━━━━━━━━━┳━━━━━━━━━━━┳━━━━━━━━┳━━━━━━━━━━┳━━━━━━━━━━┓\n",
       "┃<span style=\"font-weight: bold\"> Subject ID </span>┃<span style=\"font-weight: bold\"> Precision </span>┃<span style=\"font-weight: bold\"> Recall </span>┃<span style=\"font-weight: bold\"> F1-Score </span>┃<span style=\"font-weight: bold\"> Accuracy </span>┃\n",
       "┡━━━━━━━━━━━━╇━━━━━━━━━━━╇━━━━━━━━╇━━━━━━━━━━╇━━━━━━━━━━┩\n",
       "│ als1       │ 1.000     │ 1.000  │ 1.000    │ 1.000    │\n",
       "│ als10      │ 1.000     │ 1.000  │ 1.000    │ 1.000    │\n",
       "│ als11      │ 1.000     │ 1.000  │ 1.000    │ 1.000    │\n",
       "│ als12      │ 1.000     │ 1.000  │ 1.000    │ 1.000    │\n",
       "│ als13      │ 1.000     │ 1.000  │ 1.000    │ 1.000    │\n",
       "│ als2       │ 1.000     │ 1.000  │ 1.000    │ 1.000    │\n",
       "│ als3       │ 1.000     │ 1.000  │ 1.000    │ 1.000    │\n",
       "│ als4       │ 1.000     │ 1.000  │ 1.000    │ 1.000    │\n",
       "│ als5       │ 1.000     │ 1.000  │ 1.000    │ 1.000    │\n",
       "│ als6       │ 1.000     │ 1.000  │ 1.000    │ 1.000    │\n",
       "│ als7       │ 1.000     │ 1.000  │ 1.000    │ 1.000    │\n",
       "│ als8       │ 1.000     │ 1.000  │ 1.000    │ 1.000    │\n",
       "│ als9       │ 1.000     │ 1.000  │ 1.000    │ 1.000    │\n",
       "│ control1   │ 1.000     │ 1.000  │ 1.000    │ 1.000    │\n",
       "│ control10  │ 1.000     │ 1.000  │ 1.000    │ 1.000    │\n",
       "│ control11  │ 1.000     │ 1.000  │ 1.000    │ 1.000    │\n",
       "│ control12  │ 1.000     │ 1.000  │ 1.000    │ 1.000    │\n",
       "│ control13  │ 1.000     │ 1.000  │ 1.000    │ 1.000    │\n",
       "│ control14  │ 1.000     │ 1.000  │ 1.000    │ 1.000    │\n",
       "│ control15  │ 1.000     │ 1.000  │ 1.000    │ 1.000    │\n",
       "│ control16  │ 1.000     │ 1.000  │ 1.000    │ 1.000    │\n",
       "│ control2   │ 1.000     │ 1.000  │ 1.000    │ 1.000    │\n",
       "│ control3   │ 1.000     │ 1.000  │ 1.000    │ 1.000    │\n",
       "│ control4   │ 1.000     │ 1.000  │ 1.000    │ 1.000    │\n",
       "│ control5   │ 1.000     │ 1.000  │ 1.000    │ 1.000    │\n",
       "│ control6   │ 1.000     │ 1.000  │ 1.000    │ 1.000    │\n",
       "│ control7   │ 1.000     │ 1.000  │ 1.000    │ 1.000    │\n",
       "│ control8   │ 1.000     │ 1.000  │ 1.000    │ 1.000    │\n",
       "│ control9   │ 0.901     │ 0.901  │ 0.901    │ 0.901    │\n",
       "│ ALL        │ 0.997     │ 0.997  │ 0.997    │ 0.997    │\n",
       "└────────────┴───────────┴────────┴──────────┴──────────┘\n",
       "</pre>\n"
      ],
      "text/plain": [
       "\u001b[3m                   Performace Metrics                    \u001b[0m\n",
       "┏━━━━━━━━━━━━┳━━━━━━━━━━━┳━━━━━━━━┳━━━━━━━━━━┳━━━━━━━━━━┓\n",
       "┃\u001b[1m \u001b[0m\u001b[1mSubject ID\u001b[0m\u001b[1m \u001b[0m┃\u001b[1m \u001b[0m\u001b[1mPrecision\u001b[0m\u001b[1m \u001b[0m┃\u001b[1m \u001b[0m\u001b[1mRecall\u001b[0m\u001b[1m \u001b[0m┃\u001b[1m \u001b[0m\u001b[1mF1-Score\u001b[0m\u001b[1m \u001b[0m┃\u001b[1m \u001b[0m\u001b[1mAccuracy\u001b[0m\u001b[1m \u001b[0m┃\n",
       "┡━━━━━━━━━━━━╇━━━━━━━━━━━╇━━━━━━━━╇━━━━━━━━━━╇━━━━━━━━━━┩\n",
       "│ als1       │ 1.000     │ 1.000  │ 1.000    │ 1.000    │\n",
       "│ als10      │ 1.000     │ 1.000  │ 1.000    │ 1.000    │\n",
       "│ als11      │ 1.000     │ 1.000  │ 1.000    │ 1.000    │\n",
       "│ als12      │ 1.000     │ 1.000  │ 1.000    │ 1.000    │\n",
       "│ als13      │ 1.000     │ 1.000  │ 1.000    │ 1.000    │\n",
       "│ als2       │ 1.000     │ 1.000  │ 1.000    │ 1.000    │\n",
       "│ als3       │ 1.000     │ 1.000  │ 1.000    │ 1.000    │\n",
       "│ als4       │ 1.000     │ 1.000  │ 1.000    │ 1.000    │\n",
       "│ als5       │ 1.000     │ 1.000  │ 1.000    │ 1.000    │\n",
       "│ als6       │ 1.000     │ 1.000  │ 1.000    │ 1.000    │\n",
       "│ als7       │ 1.000     │ 1.000  │ 1.000    │ 1.000    │\n",
       "│ als8       │ 1.000     │ 1.000  │ 1.000    │ 1.000    │\n",
       "│ als9       │ 1.000     │ 1.000  │ 1.000    │ 1.000    │\n",
       "│ control1   │ 1.000     │ 1.000  │ 1.000    │ 1.000    │\n",
       "│ control10  │ 1.000     │ 1.000  │ 1.000    │ 1.000    │\n",
       "│ control11  │ 1.000     │ 1.000  │ 1.000    │ 1.000    │\n",
       "│ control12  │ 1.000     │ 1.000  │ 1.000    │ 1.000    │\n",
       "│ control13  │ 1.000     │ 1.000  │ 1.000    │ 1.000    │\n",
       "│ control14  │ 1.000     │ 1.000  │ 1.000    │ 1.000    │\n",
       "│ control15  │ 1.000     │ 1.000  │ 1.000    │ 1.000    │\n",
       "│ control16  │ 1.000     │ 1.000  │ 1.000    │ 1.000    │\n",
       "│ control2   │ 1.000     │ 1.000  │ 1.000    │ 1.000    │\n",
       "│ control3   │ 1.000     │ 1.000  │ 1.000    │ 1.000    │\n",
       "│ control4   │ 1.000     │ 1.000  │ 1.000    │ 1.000    │\n",
       "│ control5   │ 1.000     │ 1.000  │ 1.000    │ 1.000    │\n",
       "│ control6   │ 1.000     │ 1.000  │ 1.000    │ 1.000    │\n",
       "│ control7   │ 1.000     │ 1.000  │ 1.000    │ 1.000    │\n",
       "│ control8   │ 1.000     │ 1.000  │ 1.000    │ 1.000    │\n",
       "│ control9   │ 0.901     │ 0.901  │ 0.901    │ 0.901    │\n",
       "│ ALL        │ 0.997     │ 0.997  │ 0.997    │ 0.997    │\n",
       "└────────────┴───────────┴────────┴──────────┴──────────┘\n"
      ]
     },
     "metadata": {},
     "output_type": "display_data"
    }
   ],
   "source": [
    "DISEASE = \"als\"\n",
    "WEIGHT_DIR = os.path.join(ROOT_DIR, \"weights\", DISEASE)\n",
    "\n",
    "metrics = PerformanceMetrics()\n",
    "subject_ids = get_subject_ids(DATA_DIR, DISEASE)\n",
    "\n",
    "for test_subject in subject_ids:\n",
    "    print(f\"Running inference on {test_subject} ... \")\n",
    "    y_true, y_pred = run_inference(\n",
    "        test_subject=test_subject,\n",
    "        subject_ids=subject_ids,\n",
    "        dataloader=dataloader,\n",
    "        network=network,\n",
    "        weight_dir=WEIGHT_DIR\n",
    "    )\n",
    "\n",
    "    metrics.add_entry(test_subject, y_true, y_pred)\n",
    "    # model.save_weights(f\"../weights/{DISEASE}/{test_subject}\", save_format=\"h5\")\n",
    "\n",
    "    # break\n",
    "\n",
    "metrics.print_metrics()\n"
   ]
  },
  {
   "cell_type": "markdown",
   "metadata": {},
   "source": [
    "# HD vs HC"
   ]
  },
  {
   "cell_type": "code",
   "execution_count": 6,
   "metadata": {},
   "outputs": [
    {
     "name": "stdout",
     "output_type": "stream",
     "text": [
      "Running inference on control1 ... \n",
      "Running inference on control10 ... \n",
      "Running inference on control11 ... \n",
      "Running inference on control12 ... \n",
      "Running inference on control13 ... \n",
      "Running inference on control14 ... \n",
      "Running inference on control15 ... \n",
      "Running inference on control16 ... \n",
      "Running inference on control2 ... \n",
      "Running inference on control3 ... \n",
      "Running inference on control4 ... \n",
      "Running inference on control5 ... \n",
      "Running inference on control6 ... \n",
      "Running inference on control7 ... \n",
      "Running inference on control8 ... \n",
      "Running inference on control9 ... \n",
      "Running inference on hunt1 ... \n",
      "Running inference on hunt10 ... \n",
      "Running inference on hunt11 ... \n",
      "Running inference on hunt12 ... \n",
      "Running inference on hunt13 ... \n",
      "Running inference on hunt14 ... \n",
      "Running inference on hunt15 ... \n",
      "Running inference on hunt16 ... \n",
      "Running inference on hunt17 ... \n",
      "Running inference on hunt18 ... \n",
      "Running inference on hunt19 ... \n",
      "Running inference on hunt2 ... \n",
      "Running inference on hunt20 ... \n",
      "Running inference on hunt3 ... \n",
      "Running inference on hunt4 ... \n",
      "Running inference on hunt5 ... \n",
      "Running inference on hunt6 ... \n",
      "Running inference on hunt7 ... \n",
      "Running inference on hunt8 ... \n",
      "Running inference on hunt9 ... \n"
     ]
    },
    {
     "data": {
      "text/html": [
       "<pre style=\"white-space:pre;overflow-x:auto;line-height:normal;font-family:Menlo,'DejaVu Sans Mono',consolas,'Courier New',monospace\"><span style=\"font-style: italic\">                   Performace Metrics                    </span>\n",
       "┏━━━━━━━━━━━━┳━━━━━━━━━━━┳━━━━━━━━┳━━━━━━━━━━┳━━━━━━━━━━┓\n",
       "┃<span style=\"font-weight: bold\"> Subject ID </span>┃<span style=\"font-weight: bold\"> Precision </span>┃<span style=\"font-weight: bold\"> Recall </span>┃<span style=\"font-weight: bold\"> F1-Score </span>┃<span style=\"font-weight: bold\"> Accuracy </span>┃\n",
       "┡━━━━━━━━━━━━╇━━━━━━━━━━━╇━━━━━━━━╇━━━━━━━━━━╇━━━━━━━━━━┩\n",
       "│ control1   │ 0.981     │ 0.981  │ 0.981    │ 0.981    │\n",
       "│ control10  │ 1.000     │ 1.000  │ 1.000    │ 1.000    │\n",
       "│ control11  │ 0.996     │ 0.996  │ 0.996    │ 0.996    │\n",
       "│ control12  │ 1.000     │ 1.000  │ 1.000    │ 1.000    │\n",
       "│ control13  │ 0.996     │ 0.996  │ 0.996    │ 0.996    │\n",
       "│ control14  │ 1.000     │ 1.000  │ 1.000    │ 1.000    │\n",
       "│ control15  │ 1.000     │ 1.000  │ 1.000    │ 1.000    │\n",
       "│ control16  │ 1.000     │ 1.000  │ 1.000    │ 1.000    │\n",
       "│ control2   │ 1.000     │ 1.000  │ 1.000    │ 1.000    │\n",
       "│ control3   │ 0.996     │ 0.996  │ 0.996    │ 0.996    │\n",
       "│ control4   │ 1.000     │ 1.000  │ 1.000    │ 1.000    │\n",
       "│ control5   │ 1.000     │ 1.000  │ 1.000    │ 1.000    │\n",
       "│ control6   │ 1.000     │ 1.000  │ 1.000    │ 1.000    │\n",
       "│ control7   │ 1.000     │ 1.000  │ 1.000    │ 1.000    │\n",
       "│ control8   │ 1.000     │ 1.000  │ 1.000    │ 1.000    │\n",
       "│ control9   │ 1.000     │ 1.000  │ 1.000    │ 1.000    │\n",
       "│ hunt1      │ 0.903     │ 0.903  │ 0.903    │ 0.903    │\n",
       "│ hunt10     │ 1.000     │ 1.000  │ 1.000    │ 1.000    │\n",
       "│ hunt11     │ 1.000     │ 1.000  │ 1.000    │ 1.000    │\n",
       "│ hunt12     │ 1.000     │ 1.000  │ 1.000    │ 1.000    │\n",
       "│ hunt13     │ 1.000     │ 1.000  │ 1.000    │ 1.000    │\n",
       "│ hunt14     │ 1.000     │ 1.000  │ 1.000    │ 1.000    │\n",
       "│ hunt15     │ 1.000     │ 1.000  │ 1.000    │ 1.000    │\n",
       "│ hunt16     │ 1.000     │ 1.000  │ 1.000    │ 1.000    │\n",
       "│ hunt17     │ 0.911     │ 0.911  │ 0.911    │ 0.911    │\n",
       "│ hunt18     │ 1.000     │ 1.000  │ 1.000    │ 1.000    │\n",
       "│ hunt19     │ 1.000     │ 1.000  │ 1.000    │ 1.000    │\n",
       "│ hunt2      │ 1.000     │ 1.000  │ 1.000    │ 1.000    │\n",
       "│ hunt20     │ 1.000     │ 1.000  │ 1.000    │ 1.000    │\n",
       "│ hunt3      │ 1.000     │ 1.000  │ 1.000    │ 1.000    │\n",
       "│ hunt4      │ 1.000     │ 1.000  │ 1.000    │ 1.000    │\n",
       "│ hunt5      │ 1.000     │ 1.000  │ 1.000    │ 1.000    │\n",
       "│ hunt6      │ 1.000     │ 1.000  │ 1.000    │ 1.000    │\n",
       "│ hunt7      │ 1.000     │ 1.000  │ 1.000    │ 1.000    │\n",
       "│ hunt8      │ 0.000     │ 0.000  │ 0.000    │ 0.000    │\n",
       "│ hunt9      │ 1.000     │ 1.000  │ 1.000    │ 1.000    │\n",
       "│ ALL        │ 0.966     │ 0.966  │ 0.966    │ 0.966    │\n",
       "└────────────┴───────────┴────────┴──────────┴──────────┘\n",
       "</pre>\n"
      ],
      "text/plain": [
       "\u001b[3m                   Performace Metrics                    \u001b[0m\n",
       "┏━━━━━━━━━━━━┳━━━━━━━━━━━┳━━━━━━━━┳━━━━━━━━━━┳━━━━━━━━━━┓\n",
       "┃\u001b[1m \u001b[0m\u001b[1mSubject ID\u001b[0m\u001b[1m \u001b[0m┃\u001b[1m \u001b[0m\u001b[1mPrecision\u001b[0m\u001b[1m \u001b[0m┃\u001b[1m \u001b[0m\u001b[1mRecall\u001b[0m\u001b[1m \u001b[0m┃\u001b[1m \u001b[0m\u001b[1mF1-Score\u001b[0m\u001b[1m \u001b[0m┃\u001b[1m \u001b[0m\u001b[1mAccuracy\u001b[0m\u001b[1m \u001b[0m┃\n",
       "┡━━━━━━━━━━━━╇━━━━━━━━━━━╇━━━━━━━━╇━━━━━━━━━━╇━━━━━━━━━━┩\n",
       "│ control1   │ 0.981     │ 0.981  │ 0.981    │ 0.981    │\n",
       "│ control10  │ 1.000     │ 1.000  │ 1.000    │ 1.000    │\n",
       "│ control11  │ 0.996     │ 0.996  │ 0.996    │ 0.996    │\n",
       "│ control12  │ 1.000     │ 1.000  │ 1.000    │ 1.000    │\n",
       "│ control13  │ 0.996     │ 0.996  │ 0.996    │ 0.996    │\n",
       "│ control14  │ 1.000     │ 1.000  │ 1.000    │ 1.000    │\n",
       "│ control15  │ 1.000     │ 1.000  │ 1.000    │ 1.000    │\n",
       "│ control16  │ 1.000     │ 1.000  │ 1.000    │ 1.000    │\n",
       "│ control2   │ 1.000     │ 1.000  │ 1.000    │ 1.000    │\n",
       "│ control3   │ 0.996     │ 0.996  │ 0.996    │ 0.996    │\n",
       "│ control4   │ 1.000     │ 1.000  │ 1.000    │ 1.000    │\n",
       "│ control5   │ 1.000     │ 1.000  │ 1.000    │ 1.000    │\n",
       "│ control6   │ 1.000     │ 1.000  │ 1.000    │ 1.000    │\n",
       "│ control7   │ 1.000     │ 1.000  │ 1.000    │ 1.000    │\n",
       "│ control8   │ 1.000     │ 1.000  │ 1.000    │ 1.000    │\n",
       "│ control9   │ 1.000     │ 1.000  │ 1.000    │ 1.000    │\n",
       "│ hunt1      │ 0.903     │ 0.903  │ 0.903    │ 0.903    │\n",
       "│ hunt10     │ 1.000     │ 1.000  │ 1.000    │ 1.000    │\n",
       "│ hunt11     │ 1.000     │ 1.000  │ 1.000    │ 1.000    │\n",
       "│ hunt12     │ 1.000     │ 1.000  │ 1.000    │ 1.000    │\n",
       "│ hunt13     │ 1.000     │ 1.000  │ 1.000    │ 1.000    │\n",
       "│ hunt14     │ 1.000     │ 1.000  │ 1.000    │ 1.000    │\n",
       "│ hunt15     │ 1.000     │ 1.000  │ 1.000    │ 1.000    │\n",
       "│ hunt16     │ 1.000     │ 1.000  │ 1.000    │ 1.000    │\n",
       "│ hunt17     │ 0.911     │ 0.911  │ 0.911    │ 0.911    │\n",
       "│ hunt18     │ 1.000     │ 1.000  │ 1.000    │ 1.000    │\n",
       "│ hunt19     │ 1.000     │ 1.000  │ 1.000    │ 1.000    │\n",
       "│ hunt2      │ 1.000     │ 1.000  │ 1.000    │ 1.000    │\n",
       "│ hunt20     │ 1.000     │ 1.000  │ 1.000    │ 1.000    │\n",
       "│ hunt3      │ 1.000     │ 1.000  │ 1.000    │ 1.000    │\n",
       "│ hunt4      │ 1.000     │ 1.000  │ 1.000    │ 1.000    │\n",
       "│ hunt5      │ 1.000     │ 1.000  │ 1.000    │ 1.000    │\n",
       "│ hunt6      │ 1.000     │ 1.000  │ 1.000    │ 1.000    │\n",
       "│ hunt7      │ 1.000     │ 1.000  │ 1.000    │ 1.000    │\n",
       "│ hunt8      │ 0.000     │ 0.000  │ 0.000    │ 0.000    │\n",
       "│ hunt9      │ 1.000     │ 1.000  │ 1.000    │ 1.000    │\n",
       "│ ALL        │ 0.966     │ 0.966  │ 0.966    │ 0.966    │\n",
       "└────────────┴───────────┴────────┴──────────┴──────────┘\n"
      ]
     },
     "metadata": {},
     "output_type": "display_data"
    }
   ],
   "source": [
    "DISEASE = \"hunt\"\n",
    "WEIGHT_DIR = os.path.join(ROOT_DIR, \"weights\", DISEASE)\n",
    "\n",
    "metrics = PerformanceMetrics()\n",
    "subject_ids = get_subject_ids(DATA_DIR, DISEASE)\n",
    "\n",
    "for test_subject in subject_ids:\n",
    "    print(f\"Running inference on {test_subject} ... \")\n",
    "    y_true, y_pred = run_inference(\n",
    "        test_subject=test_subject,\n",
    "        subject_ids=subject_ids,\n",
    "        dataloader=dataloader,\n",
    "        network=network,\n",
    "        weight_dir=WEIGHT_DIR\n",
    "    )\n",
    "\n",
    "    metrics.add_entry(test_subject, y_true, y_pred)\n",
    "    # model.save_weights(f\"../weights/{DISEASE}/{test_subject}\", save_format=\"h5\")\n",
    "\n",
    "    # break\n",
    "\n",
    "metrics.print_metrics()\n"
   ]
  },
  {
   "cell_type": "markdown",
   "metadata": {},
   "source": [
    "# PD vs HC"
   ]
  },
  {
   "cell_type": "code",
   "execution_count": 7,
   "metadata": {},
   "outputs": [
    {
     "name": "stdout",
     "output_type": "stream",
     "text": [
      "Running inference on control1 ... \n",
      "Running inference on control10 ... \n",
      "Running inference on control11 ... \n",
      "Running inference on control12 ... \n",
      "Running inference on control13 ... \n",
      "Running inference on control14 ... \n",
      "Running inference on control15 ... \n",
      "Running inference on control16 ... \n",
      "Running inference on control2 ... \n",
      "Running inference on control3 ... \n",
      "Running inference on control4 ... \n",
      "Running inference on control5 ... \n",
      "Running inference on control6 ... \n",
      "Running inference on control7 ... \n",
      "Running inference on control8 ... \n",
      "Running inference on control9 ... \n",
      "Running inference on park1 ... \n",
      "Running inference on park10 ... \n",
      "Running inference on park11 ... \n",
      "Running inference on park12 ... \n",
      "Running inference on park13 ... \n",
      "Running inference on park14 ... \n",
      "Running inference on park15 ... \n",
      "Running inference on park2 ... \n",
      "Running inference on park3 ... \n",
      "Running inference on park4 ... \n",
      "Running inference on park5 ... \n",
      "Running inference on park6 ... \n",
      "Running inference on park7 ... \n",
      "Running inference on park8 ... \n",
      "Running inference on park9 ... \n"
     ]
    },
    {
     "data": {
      "text/html": [
       "<pre style=\"white-space:pre;overflow-x:auto;line-height:normal;font-family:Menlo,'DejaVu Sans Mono',consolas,'Courier New',monospace\"><span style=\"font-style: italic\">                   Performace Metrics                    </span>\n",
       "┏━━━━━━━━━━━━┳━━━━━━━━━━━┳━━━━━━━━┳━━━━━━━━━━┳━━━━━━━━━━┓\n",
       "┃<span style=\"font-weight: bold\"> Subject ID </span>┃<span style=\"font-weight: bold\"> Precision </span>┃<span style=\"font-weight: bold\"> Recall </span>┃<span style=\"font-weight: bold\"> F1-Score </span>┃<span style=\"font-weight: bold\"> Accuracy </span>┃\n",
       "┡━━━━━━━━━━━━╇━━━━━━━━━━━╇━━━━━━━━╇━━━━━━━━━━╇━━━━━━━━━━┩\n",
       "│ control1   │ 1.000     │ 1.000  │ 1.000    │ 1.000    │\n",
       "│ control10  │ 1.000     │ 1.000  │ 1.000    │ 1.000    │\n",
       "│ control11  │ 1.000     │ 1.000  │ 1.000    │ 1.000    │\n",
       "│ control12  │ 1.000     │ 1.000  │ 1.000    │ 1.000    │\n",
       "│ control13  │ 1.000     │ 1.000  │ 1.000    │ 1.000    │\n",
       "│ control14  │ 1.000     │ 1.000  │ 1.000    │ 1.000    │\n",
       "│ control15  │ 1.000     │ 1.000  │ 1.000    │ 1.000    │\n",
       "│ control16  │ 1.000     │ 1.000  │ 1.000    │ 1.000    │\n",
       "│ control2   │ 1.000     │ 1.000  │ 1.000    │ 1.000    │\n",
       "│ control3   │ 1.000     │ 1.000  │ 1.000    │ 1.000    │\n",
       "│ control4   │ 1.000     │ 1.000  │ 1.000    │ 1.000    │\n",
       "│ control5   │ 1.000     │ 1.000  │ 1.000    │ 1.000    │\n",
       "│ control6   │ 1.000     │ 1.000  │ 1.000    │ 1.000    │\n",
       "│ control7   │ 1.000     │ 1.000  │ 1.000    │ 1.000    │\n",
       "│ control8   │ 1.000     │ 1.000  │ 1.000    │ 1.000    │\n",
       "│ control9   │ 1.000     │ 1.000  │ 1.000    │ 1.000    │\n",
       "│ park1      │ 1.000     │ 1.000  │ 1.000    │ 1.000    │\n",
       "│ park10     │ 1.000     │ 1.000  │ 1.000    │ 1.000    │\n",
       "│ park11     │ 1.000     │ 1.000  │ 1.000    │ 1.000    │\n",
       "│ park12     │ 1.000     │ 1.000  │ 1.000    │ 1.000    │\n",
       "│ park13     │ 1.000     │ 1.000  │ 1.000    │ 1.000    │\n",
       "│ park14     │ 1.000     │ 1.000  │ 1.000    │ 1.000    │\n",
       "│ park15     │ 1.000     │ 1.000  │ 1.000    │ 1.000    │\n",
       "│ park2      │ 0.000     │ 0.000  │ 0.000    │ 0.000    │\n",
       "│ park3      │ 1.000     │ 1.000  │ 1.000    │ 1.000    │\n",
       "│ park4      │ 1.000     │ 1.000  │ 1.000    │ 1.000    │\n",
       "│ park5      │ 1.000     │ 1.000  │ 1.000    │ 1.000    │\n",
       "│ park6      │ 1.000     │ 1.000  │ 1.000    │ 1.000    │\n",
       "│ park7      │ 1.000     │ 1.000  │ 1.000    │ 1.000    │\n",
       "│ park8      │ 1.000     │ 1.000  │ 1.000    │ 1.000    │\n",
       "│ park9      │ 0.000     │ 0.000  │ 0.000    │ 0.000    │\n",
       "│ ALL        │ 0.935     │ 0.935  │ 0.935    │ 0.935    │\n",
       "└────────────┴───────────┴────────┴──────────┴──────────┘\n",
       "</pre>\n"
      ],
      "text/plain": [
       "\u001b[3m                   Performace Metrics                    \u001b[0m\n",
       "┏━━━━━━━━━━━━┳━━━━━━━━━━━┳━━━━━━━━┳━━━━━━━━━━┳━━━━━━━━━━┓\n",
       "┃\u001b[1m \u001b[0m\u001b[1mSubject ID\u001b[0m\u001b[1m \u001b[0m┃\u001b[1m \u001b[0m\u001b[1mPrecision\u001b[0m\u001b[1m \u001b[0m┃\u001b[1m \u001b[0m\u001b[1mRecall\u001b[0m\u001b[1m \u001b[0m┃\u001b[1m \u001b[0m\u001b[1mF1-Score\u001b[0m\u001b[1m \u001b[0m┃\u001b[1m \u001b[0m\u001b[1mAccuracy\u001b[0m\u001b[1m \u001b[0m┃\n",
       "┡━━━━━━━━━━━━╇━━━━━━━━━━━╇━━━━━━━━╇━━━━━━━━━━╇━━━━━━━━━━┩\n",
       "│ control1   │ 1.000     │ 1.000  │ 1.000    │ 1.000    │\n",
       "│ control10  │ 1.000     │ 1.000  │ 1.000    │ 1.000    │\n",
       "│ control11  │ 1.000     │ 1.000  │ 1.000    │ 1.000    │\n",
       "│ control12  │ 1.000     │ 1.000  │ 1.000    │ 1.000    │\n",
       "│ control13  │ 1.000     │ 1.000  │ 1.000    │ 1.000    │\n",
       "│ control14  │ 1.000     │ 1.000  │ 1.000    │ 1.000    │\n",
       "│ control15  │ 1.000     │ 1.000  │ 1.000    │ 1.000    │\n",
       "│ control16  │ 1.000     │ 1.000  │ 1.000    │ 1.000    │\n",
       "│ control2   │ 1.000     │ 1.000  │ 1.000    │ 1.000    │\n",
       "│ control3   │ 1.000     │ 1.000  │ 1.000    │ 1.000    │\n",
       "│ control4   │ 1.000     │ 1.000  │ 1.000    │ 1.000    │\n",
       "│ control5   │ 1.000     │ 1.000  │ 1.000    │ 1.000    │\n",
       "│ control6   │ 1.000     │ 1.000  │ 1.000    │ 1.000    │\n",
       "│ control7   │ 1.000     │ 1.000  │ 1.000    │ 1.000    │\n",
       "│ control8   │ 1.000     │ 1.000  │ 1.000    │ 1.000    │\n",
       "│ control9   │ 1.000     │ 1.000  │ 1.000    │ 1.000    │\n",
       "│ park1      │ 1.000     │ 1.000  │ 1.000    │ 1.000    │\n",
       "│ park10     │ 1.000     │ 1.000  │ 1.000    │ 1.000    │\n",
       "│ park11     │ 1.000     │ 1.000  │ 1.000    │ 1.000    │\n",
       "│ park12     │ 1.000     │ 1.000  │ 1.000    │ 1.000    │\n",
       "│ park13     │ 1.000     │ 1.000  │ 1.000    │ 1.000    │\n",
       "│ park14     │ 1.000     │ 1.000  │ 1.000    │ 1.000    │\n",
       "│ park15     │ 1.000     │ 1.000  │ 1.000    │ 1.000    │\n",
       "│ park2      │ 0.000     │ 0.000  │ 0.000    │ 0.000    │\n",
       "│ park3      │ 1.000     │ 1.000  │ 1.000    │ 1.000    │\n",
       "│ park4      │ 1.000     │ 1.000  │ 1.000    │ 1.000    │\n",
       "│ park5      │ 1.000     │ 1.000  │ 1.000    │ 1.000    │\n",
       "│ park6      │ 1.000     │ 1.000  │ 1.000    │ 1.000    │\n",
       "│ park7      │ 1.000     │ 1.000  │ 1.000    │ 1.000    │\n",
       "│ park8      │ 1.000     │ 1.000  │ 1.000    │ 1.000    │\n",
       "│ park9      │ 0.000     │ 0.000  │ 0.000    │ 0.000    │\n",
       "│ ALL        │ 0.935     │ 0.935  │ 0.935    │ 0.935    │\n",
       "└────────────┴───────────┴────────┴──────────┴──────────┘\n"
      ]
     },
     "metadata": {},
     "output_type": "display_data"
    }
   ],
   "source": [
    "DISEASE = \"park\"\n",
    "WEIGHT_DIR = os.path.join(ROOT_DIR, \"weights\", DISEASE)\n",
    "\n",
    "metrics = PerformanceMetrics()\n",
    "subject_ids = get_subject_ids(DATA_DIR, DISEASE)\n",
    "\n",
    "for test_subject in subject_ids:\n",
    "    print(f\"Running inference on {test_subject} ... \")\n",
    "    y_true, y_pred = run_inference(\n",
    "        test_subject=test_subject,\n",
    "        subject_ids=subject_ids,\n",
    "        dataloader=dataloader,\n",
    "        network=network,\n",
    "        weight_dir=WEIGHT_DIR\n",
    "    )\n",
    "\n",
    "    metrics.add_entry(test_subject, y_true, y_pred)\n",
    "    # model.save_weights(f\"../weights/{DISEASE}/{test_subject}\", save_format=\"h5\")\n",
    "\n",
    "    # break\n",
    "\n",
    "metrics.print_metrics()\n"
   ]
  },
  {
   "cell_type": "markdown",
   "metadata": {},
   "source": [
    "# NDD vs HC"
   ]
  },
  {
   "cell_type": "code",
   "execution_count": 8,
   "metadata": {},
   "outputs": [
    {
     "name": "stdout",
     "output_type": "stream",
     "text": [
      "Running inference on als1 ... \n",
      "Running inference on als10 ... \n",
      "Running inference on als11 ... \n",
      "Running inference on als12 ... \n",
      "Running inference on als13 ... \n",
      "Running inference on als2 ... \n",
      "Running inference on als3 ... \n",
      "Running inference on als4 ... \n",
      "Running inference on als5 ... \n",
      "Running inference on als6 ... \n",
      "Running inference on als7 ... \n",
      "Running inference on als8 ... \n",
      "Running inference on als9 ... \n",
      "Running inference on control1 ... \n",
      "Running inference on control10 ... \n",
      "Running inference on control11 ... \n",
      "Running inference on control12 ... \n",
      "Running inference on control13 ... \n",
      "Running inference on control14 ... \n",
      "Running inference on control15 ... \n",
      "Running inference on control16 ... \n",
      "Running inference on control2 ... \n",
      "Running inference on control3 ... \n",
      "Running inference on control4 ... \n",
      "Running inference on control5 ... \n",
      "Running inference on control6 ... \n",
      "Running inference on control7 ... \n",
      "Running inference on control8 ... \n",
      "Running inference on control9 ... \n",
      "Running inference on hunt1 ... \n",
      "Running inference on hunt10 ... \n",
      "Running inference on hunt11 ... \n",
      "Running inference on hunt12 ... \n",
      "Running inference on hunt13 ... \n",
      "Running inference on hunt14 ... \n",
      "Running inference on hunt15 ... \n",
      "Running inference on hunt16 ... \n",
      "Running inference on hunt17 ... \n",
      "Running inference on hunt18 ... \n",
      "Running inference on hunt19 ... \n",
      "Running inference on hunt2 ... \n",
      "Running inference on hunt20 ... \n",
      "Running inference on hunt3 ... \n",
      "Running inference on hunt4 ... \n",
      "Running inference on hunt5 ... \n",
      "Running inference on hunt6 ... \n",
      "Running inference on hunt7 ... \n",
      "Running inference on hunt8 ... \n",
      "Running inference on hunt9 ... \n",
      "Running inference on park1 ... \n",
      "Running inference on park10 ... \n",
      "Running inference on park11 ... \n",
      "Running inference on park12 ... \n",
      "Running inference on park13 ... \n",
      "Running inference on park14 ... \n",
      "Running inference on park15 ... \n",
      "Running inference on park2 ... \n",
      "Running inference on park3 ... \n",
      "Running inference on park4 ... \n",
      "Running inference on park5 ... \n",
      "Running inference on park6 ... \n",
      "Running inference on park7 ... \n",
      "Running inference on park8 ... \n",
      "Running inference on park9 ... \n"
     ]
    },
    {
     "data": {
      "text/html": [
       "<pre style=\"white-space:pre;overflow-x:auto;line-height:normal;font-family:Menlo,'DejaVu Sans Mono',consolas,'Courier New',monospace\"><span style=\"font-style: italic\">                   Performace Metrics                    </span>\n",
       "┏━━━━━━━━━━━━┳━━━━━━━━━━━┳━━━━━━━━┳━━━━━━━━━━┳━━━━━━━━━━┓\n",
       "┃<span style=\"font-weight: bold\"> Subject ID </span>┃<span style=\"font-weight: bold\"> Precision </span>┃<span style=\"font-weight: bold\"> Recall </span>┃<span style=\"font-weight: bold\"> F1-Score </span>┃<span style=\"font-weight: bold\"> Accuracy </span>┃\n",
       "┡━━━━━━━━━━━━╇━━━━━━━━━━━╇━━━━━━━━╇━━━━━━━━━━╇━━━━━━━━━━┩\n",
       "│ als1       │ 1.000     │ 1.000  │ 1.000    │ 1.000    │\n",
       "│ als10      │ 0.996     │ 0.996  │ 0.996    │ 0.996    │\n",
       "│ als11      │ 0.996     │ 0.996  │ 0.996    │ 0.996    │\n",
       "│ als12      │ 1.000     │ 1.000  │ 1.000    │ 1.000    │\n",
       "│ als13      │ 1.000     │ 1.000  │ 1.000    │ 1.000    │\n",
       "│ als2       │ 1.000     │ 1.000  │ 1.000    │ 1.000    │\n",
       "│ als3       │ 1.000     │ 1.000  │ 1.000    │ 1.000    │\n",
       "│ als4       │ 1.000     │ 1.000  │ 1.000    │ 1.000    │\n",
       "│ als5       │ 1.000     │ 1.000  │ 1.000    │ 1.000    │\n",
       "│ als6       │ 1.000     │ 1.000  │ 1.000    │ 1.000    │\n",
       "│ als7       │ 1.000     │ 1.000  │ 1.000    │ 1.000    │\n",
       "│ als8       │ 1.000     │ 1.000  │ 1.000    │ 1.000    │\n",
       "│ als9       │ 1.000     │ 1.000  │ 1.000    │ 1.000    │\n",
       "│ control1   │ 0.969     │ 0.969  │ 0.969    │ 0.969    │\n",
       "│ control10  │ 1.000     │ 1.000  │ 1.000    │ 1.000    │\n",
       "│ control11  │ 1.000     │ 1.000  │ 1.000    │ 1.000    │\n",
       "│ control12  │ 0.000     │ 0.000  │ 0.000    │ 0.000    │\n",
       "│ control13  │ 1.000     │ 1.000  │ 1.000    │ 1.000    │\n",
       "│ control14  │ 1.000     │ 1.000  │ 1.000    │ 1.000    │\n",
       "│ control15  │ 1.000     │ 1.000  │ 1.000    │ 1.000    │\n",
       "│ control16  │ 0.651     │ 0.651  │ 0.651    │ 0.651    │\n",
       "│ control2   │ 0.942     │ 0.942  │ 0.942    │ 0.942    │\n",
       "│ control3   │ 0.976     │ 0.976  │ 0.976    │ 0.976    │\n",
       "│ control4   │ 0.865     │ 0.865  │ 0.865    │ 0.865    │\n",
       "│ control5   │ 0.550     │ 0.550  │ 0.550    │ 0.550    │\n",
       "│ control6   │ 1.000     │ 1.000  │ 1.000    │ 1.000    │\n",
       "│ control7   │ 1.000     │ 1.000  │ 1.000    │ 1.000    │\n",
       "│ control8   │ 1.000     │ 1.000  │ 1.000    │ 1.000    │\n",
       "│ control9   │ 0.996     │ 0.996  │ 0.996    │ 0.996    │\n",
       "│ hunt1      │ 0.518     │ 0.518  │ 0.518    │ 0.518    │\n",
       "│ hunt10     │ 1.000     │ 1.000  │ 1.000    │ 1.000    │\n",
       "│ hunt11     │ 1.000     │ 1.000  │ 1.000    │ 1.000    │\n",
       "│ hunt12     │ 1.000     │ 1.000  │ 1.000    │ 1.000    │\n",
       "│ hunt13     │ 1.000     │ 1.000  │ 1.000    │ 1.000    │\n",
       "│ hunt14     │ 0.996     │ 0.996  │ 0.996    │ 0.996    │\n",
       "│ hunt15     │ 1.000     │ 1.000  │ 1.000    │ 1.000    │\n",
       "│ hunt16     │ 1.000     │ 1.000  │ 1.000    │ 1.000    │\n",
       "│ hunt17     │ 0.996     │ 0.996  │ 0.996    │ 0.996    │\n",
       "│ hunt18     │ 1.000     │ 1.000  │ 1.000    │ 1.000    │\n",
       "│ hunt19     │ 1.000     │ 1.000  │ 1.000    │ 1.000    │\n",
       "│ hunt2      │ 1.000     │ 1.000  │ 1.000    │ 1.000    │\n",
       "│ hunt20     │ 1.000     │ 1.000  │ 1.000    │ 1.000    │\n",
       "│ hunt3      │ 1.000     │ 1.000  │ 1.000    │ 1.000    │\n",
       "│ hunt4      │ 1.000     │ 1.000  │ 1.000    │ 1.000    │\n",
       "│ hunt5      │ 0.844     │ 0.844  │ 0.844    │ 0.844    │\n",
       "│ hunt6      │ 0.760     │ 0.760  │ 0.760    │ 0.760    │\n",
       "│ hunt7      │ 1.000     │ 1.000  │ 1.000    │ 1.000    │\n",
       "│ hunt8      │ 1.000     │ 1.000  │ 1.000    │ 1.000    │\n",
       "│ hunt9      │ 0.781     │ 0.781  │ 0.781    │ 0.781    │\n",
       "│ park1      │ 1.000     │ 1.000  │ 1.000    │ 1.000    │\n",
       "│ park10     │ 1.000     │ 1.000  │ 1.000    │ 1.000    │\n",
       "│ park11     │ 1.000     │ 1.000  │ 1.000    │ 1.000    │\n",
       "│ park12     │ 1.000     │ 1.000  │ 1.000    │ 1.000    │\n",
       "│ park13     │ 1.000     │ 1.000  │ 1.000    │ 1.000    │\n",
       "│ park14     │ 1.000     │ 1.000  │ 1.000    │ 1.000    │\n",
       "│ park15     │ 1.000     │ 1.000  │ 1.000    │ 1.000    │\n",
       "│ park2      │ 1.000     │ 1.000  │ 1.000    │ 1.000    │\n",
       "│ park3      │ 1.000     │ 1.000  │ 1.000    │ 1.000    │\n",
       "│ park4      │ 1.000     │ 1.000  │ 1.000    │ 1.000    │\n",
       "│ park5      │ 0.866     │ 0.866  │ 0.866    │ 0.866    │\n",
       "│ park6      │ 1.000     │ 1.000  │ 1.000    │ 1.000    │\n",
       "│ park7      │ 1.000     │ 1.000  │ 1.000    │ 1.000    │\n",
       "│ park8      │ 1.000     │ 1.000  │ 1.000    │ 1.000    │\n",
       "│ park9      │ 1.000     │ 1.000  │ 1.000    │ 1.000    │\n",
       "│ ALL        │ 0.948     │ 0.948  │ 0.948    │ 0.948    │\n",
       "└────────────┴───────────┴────────┴──────────┴──────────┘\n",
       "</pre>\n"
      ],
      "text/plain": [
       "\u001b[3m                   Performace Metrics                    \u001b[0m\n",
       "┏━━━━━━━━━━━━┳━━━━━━━━━━━┳━━━━━━━━┳━━━━━━━━━━┳━━━━━━━━━━┓\n",
       "┃\u001b[1m \u001b[0m\u001b[1mSubject ID\u001b[0m\u001b[1m \u001b[0m┃\u001b[1m \u001b[0m\u001b[1mPrecision\u001b[0m\u001b[1m \u001b[0m┃\u001b[1m \u001b[0m\u001b[1mRecall\u001b[0m\u001b[1m \u001b[0m┃\u001b[1m \u001b[0m\u001b[1mF1-Score\u001b[0m\u001b[1m \u001b[0m┃\u001b[1m \u001b[0m\u001b[1mAccuracy\u001b[0m\u001b[1m \u001b[0m┃\n",
       "┡━━━━━━━━━━━━╇━━━━━━━━━━━╇━━━━━━━━╇━━━━━━━━━━╇━━━━━━━━━━┩\n",
       "│ als1       │ 1.000     │ 1.000  │ 1.000    │ 1.000    │\n",
       "│ als10      │ 0.996     │ 0.996  │ 0.996    │ 0.996    │\n",
       "│ als11      │ 0.996     │ 0.996  │ 0.996    │ 0.996    │\n",
       "│ als12      │ 1.000     │ 1.000  │ 1.000    │ 1.000    │\n",
       "│ als13      │ 1.000     │ 1.000  │ 1.000    │ 1.000    │\n",
       "│ als2       │ 1.000     │ 1.000  │ 1.000    │ 1.000    │\n",
       "│ als3       │ 1.000     │ 1.000  │ 1.000    │ 1.000    │\n",
       "│ als4       │ 1.000     │ 1.000  │ 1.000    │ 1.000    │\n",
       "│ als5       │ 1.000     │ 1.000  │ 1.000    │ 1.000    │\n",
       "│ als6       │ 1.000     │ 1.000  │ 1.000    │ 1.000    │\n",
       "│ als7       │ 1.000     │ 1.000  │ 1.000    │ 1.000    │\n",
       "│ als8       │ 1.000     │ 1.000  │ 1.000    │ 1.000    │\n",
       "│ als9       │ 1.000     │ 1.000  │ 1.000    │ 1.000    │\n",
       "│ control1   │ 0.969     │ 0.969  │ 0.969    │ 0.969    │\n",
       "│ control10  │ 1.000     │ 1.000  │ 1.000    │ 1.000    │\n",
       "│ control11  │ 1.000     │ 1.000  │ 1.000    │ 1.000    │\n",
       "│ control12  │ 0.000     │ 0.000  │ 0.000    │ 0.000    │\n",
       "│ control13  │ 1.000     │ 1.000  │ 1.000    │ 1.000    │\n",
       "│ control14  │ 1.000     │ 1.000  │ 1.000    │ 1.000    │\n",
       "│ control15  │ 1.000     │ 1.000  │ 1.000    │ 1.000    │\n",
       "│ control16  │ 0.651     │ 0.651  │ 0.651    │ 0.651    │\n",
       "│ control2   │ 0.942     │ 0.942  │ 0.942    │ 0.942    │\n",
       "│ control3   │ 0.976     │ 0.976  │ 0.976    │ 0.976    │\n",
       "│ control4   │ 0.865     │ 0.865  │ 0.865    │ 0.865    │\n",
       "│ control5   │ 0.550     │ 0.550  │ 0.550    │ 0.550    │\n",
       "│ control6   │ 1.000     │ 1.000  │ 1.000    │ 1.000    │\n",
       "│ control7   │ 1.000     │ 1.000  │ 1.000    │ 1.000    │\n",
       "│ control8   │ 1.000     │ 1.000  │ 1.000    │ 1.000    │\n",
       "│ control9   │ 0.996     │ 0.996  │ 0.996    │ 0.996    │\n",
       "│ hunt1      │ 0.518     │ 0.518  │ 0.518    │ 0.518    │\n",
       "│ hunt10     │ 1.000     │ 1.000  │ 1.000    │ 1.000    │\n",
       "│ hunt11     │ 1.000     │ 1.000  │ 1.000    │ 1.000    │\n",
       "│ hunt12     │ 1.000     │ 1.000  │ 1.000    │ 1.000    │\n",
       "│ hunt13     │ 1.000     │ 1.000  │ 1.000    │ 1.000    │\n",
       "│ hunt14     │ 0.996     │ 0.996  │ 0.996    │ 0.996    │\n",
       "│ hunt15     │ 1.000     │ 1.000  │ 1.000    │ 1.000    │\n",
       "│ hunt16     │ 1.000     │ 1.000  │ 1.000    │ 1.000    │\n",
       "│ hunt17     │ 0.996     │ 0.996  │ 0.996    │ 0.996    │\n",
       "│ hunt18     │ 1.000     │ 1.000  │ 1.000    │ 1.000    │\n",
       "│ hunt19     │ 1.000     │ 1.000  │ 1.000    │ 1.000    │\n",
       "│ hunt2      │ 1.000     │ 1.000  │ 1.000    │ 1.000    │\n",
       "│ hunt20     │ 1.000     │ 1.000  │ 1.000    │ 1.000    │\n",
       "│ hunt3      │ 1.000     │ 1.000  │ 1.000    │ 1.000    │\n",
       "│ hunt4      │ 1.000     │ 1.000  │ 1.000    │ 1.000    │\n",
       "│ hunt5      │ 0.844     │ 0.844  │ 0.844    │ 0.844    │\n",
       "│ hunt6      │ 0.760     │ 0.760  │ 0.760    │ 0.760    │\n",
       "│ hunt7      │ 1.000     │ 1.000  │ 1.000    │ 1.000    │\n",
       "│ hunt8      │ 1.000     │ 1.000  │ 1.000    │ 1.000    │\n",
       "│ hunt9      │ 0.781     │ 0.781  │ 0.781    │ 0.781    │\n",
       "│ park1      │ 1.000     │ 1.000  │ 1.000    │ 1.000    │\n",
       "│ park10     │ 1.000     │ 1.000  │ 1.000    │ 1.000    │\n",
       "│ park11     │ 1.000     │ 1.000  │ 1.000    │ 1.000    │\n",
       "│ park12     │ 1.000     │ 1.000  │ 1.000    │ 1.000    │\n",
       "│ park13     │ 1.000     │ 1.000  │ 1.000    │ 1.000    │\n",
       "│ park14     │ 1.000     │ 1.000  │ 1.000    │ 1.000    │\n",
       "│ park15     │ 1.000     │ 1.000  │ 1.000    │ 1.000    │\n",
       "│ park2      │ 1.000     │ 1.000  │ 1.000    │ 1.000    │\n",
       "│ park3      │ 1.000     │ 1.000  │ 1.000    │ 1.000    │\n",
       "│ park4      │ 1.000     │ 1.000  │ 1.000    │ 1.000    │\n",
       "│ park5      │ 0.866     │ 0.866  │ 0.866    │ 0.866    │\n",
       "│ park6      │ 1.000     │ 1.000  │ 1.000    │ 1.000    │\n",
       "│ park7      │ 1.000     │ 1.000  │ 1.000    │ 1.000    │\n",
       "│ park8      │ 1.000     │ 1.000  │ 1.000    │ 1.000    │\n",
       "│ park9      │ 1.000     │ 1.000  │ 1.000    │ 1.000    │\n",
       "│ ALL        │ 0.948     │ 0.948  │ 0.948    │ 0.948    │\n",
       "└────────────┴───────────┴────────┴──────────┴──────────┘\n"
      ]
     },
     "metadata": {},
     "output_type": "display_data"
    }
   ],
   "source": [
    "DISEASE = \"ndd\"\n",
    "WEIGHT_DIR = os.path.join(ROOT_DIR, \"weights\", DISEASE)\n",
    "\n",
    "metrics = PerformanceMetrics()\n",
    "subject_ids = get_subject_ids(DATA_DIR, DISEASE)\n",
    "\n",
    "for test_subject in subject_ids:\n",
    "    print(f\"Running inference on {test_subject} ... \")\n",
    "    y_true, y_pred = run_inference(\n",
    "        test_subject=test_subject,\n",
    "        subject_ids=subject_ids,\n",
    "        dataloader=dataloader,\n",
    "        network=network,\n",
    "        weight_dir=WEIGHT_DIR\n",
    "    )\n",
    "\n",
    "    metrics.add_entry(test_subject, y_true, y_pred)\n",
    "    # model.save_weights(f\"../weights/{DISEASE}/{test_subject}\", save_format=\"h5\")\n",
    "\n",
    "    # break\n",
    "\n",
    "metrics.print_metrics()\n"
   ]
  },
  {
   "cell_type": "code",
   "execution_count": null,
   "metadata": {},
   "outputs": [],
   "source": []
  }
 ],
 "metadata": {
  "kernelspec": {
   "display_name": "Python 3.10.5 64-bit",
   "language": "python",
   "name": "python3"
  },
  "language_info": {
   "codemirror_mode": {
    "name": "ipython",
    "version": 3
   },
   "file_extension": ".py",
   "mimetype": "text/x-python",
   "name": "python",
   "nbconvert_exporter": "python",
   "pygments_lexer": "ipython3",
   "version": "3.10.5"
  },
  "orig_nbformat": 4,
  "vscode": {
   "interpreter": {
    "hash": "d0a93a7fe683202793edfe4b36e658855b29d4363e84d08b437ae403e8c6b82e"
   }
  }
 },
 "nbformat": 4,
 "nbformat_minor": 2
}
